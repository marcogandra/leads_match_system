{
 "nbformat": 4,
 "nbformat_minor": 2,
 "metadata": {
  "language_info": {
   "name": "python",
   "codemirror_mode": {
    "name": "ipython",
    "version": 3
   },
   "version": "3.7.4-final"
  },
  "orig_nbformat": 2,
  "file_extension": ".py",
  "mimetype": "text/x-python",
  "name": "python",
  "npconvert_exporter": "python",
  "pygments_lexer": "ipython3",
  "version": 3,
  "kernelspec": {
   "name": "python37464bitleadsmatchvirtualenv35cbd83672fe44d6b2641e951d1744a9",
   "display_name": "Python 3.7.4 64-bit ('leadsmatch': virtualenv)"
  }
 },
 "cells": [
  {
   "cell_type": "code",
   "execution_count": 175,
   "metadata": {},
   "outputs": [],
   "source": [
    "#carregando bibliotecas\n",
    "import pandas as pd\n",
    "import numpy as np\n",
    "import seaborn as sns\n",
    "import matplotlib.pyplot as plt\n",
    "import plotly.graph_objs as go \n",
    "import plotly.express as px"
   ]
  },
  {
   "cell_type": "code",
   "execution_count": 121,
   "metadata": {},
   "outputs": [],
   "source": [
    "#Funções\n",
    "def create_metadata(df):\n",
    "    df_aux = pd.DataFrame(data={\n",
    "    'colunas':df.columns,\n",
    "    'missing':df.isna().sum(),\n",
    "    'qtd':df.shape[0]\n",
    "    })\n",
    "    df_aux['tx_miss'] = round(df_aux['missing']/df_aux['qtd'],2)\n",
    "    return df_aux"
   ]
  },
  {
   "cell_type": "code",
   "execution_count": 122,
   "metadata": {},
   "outputs": [],
   "source": [
    "#carregando base de dados de mercado\n",
    "df_market = pd.read_csv('../data/estaticos_market.csv')"
   ]
  },
  {
   "cell_type": "code",
   "execution_count": 123,
   "metadata": {},
   "outputs": [
    {
     "data": {
      "text/plain": "(462298, 182)"
     },
     "execution_count": 123,
     "metadata": {},
     "output_type": "execute_result"
    }
   ],
   "source": [
    "#tamanho do dataframe\n",
    "df_market.shape"
   ]
  },
  {
   "cell_type": "markdown",
   "metadata": {},
   "source": [
    "## Análise Exploratória dos dados"
   ]
  },
  {
   "cell_type": "markdown",
   "metadata": {},
   "source": [
    "### 1. Criação dataframe com metadados"
   ]
  },
  {
   "cell_type": "code",
   "execution_count": 124,
   "metadata": {},
   "outputs": [],
   "source": [
    "#calcular missing values \n",
    "df_aux = pd.DataFrame(data={\n",
    "    'colunas':df_market.columns,\n",
    "    'tipos':df_market.dtypes,\n",
    "    'missing':df_market.isna().sum(),\n",
    "    'qtd':df_market.shape[0],\n",
    "    'unicos':df_market.nunique()\n",
    "})"
   ]
  },
  {
   "cell_type": "code",
   "execution_count": 125,
   "metadata": {},
   "outputs": [
    {
     "data": {
      "text/html": "<div>\n<style scoped>\n    .dataframe tbody tr th:only-of-type {\n        vertical-align: middle;\n    }\n\n    .dataframe tbody tr th {\n        vertical-align: top;\n    }\n\n    .dataframe thead th {\n        text-align: right;\n    }\n</style>\n<table border=\"1\" class=\"dataframe\">\n  <thead>\n    <tr style=\"text-align: right;\">\n      <th></th>\n      <th>colunas</th>\n      <th>tipos</th>\n      <th>missing</th>\n      <th>qtd</th>\n      <th>unicos</th>\n    </tr>\n  </thead>\n  <tbody>\n    <tr>\n      <th>Unnamed: 0</th>\n      <td>Unnamed: 0</td>\n      <td>int64</td>\n      <td>0</td>\n      <td>462298</td>\n      <td>462298</td>\n    </tr>\n    <tr>\n      <th>id</th>\n      <td>id</td>\n      <td>object</td>\n      <td>0</td>\n      <td>462298</td>\n      <td>462298</td>\n    </tr>\n    <tr>\n      <th>fl_matriz</th>\n      <td>fl_matriz</td>\n      <td>bool</td>\n      <td>0</td>\n      <td>462298</td>\n      <td>2</td>\n    </tr>\n    <tr>\n      <th>de_natureza_juridica</th>\n      <td>de_natureza_juridica</td>\n      <td>object</td>\n      <td>0</td>\n      <td>462298</td>\n      <td>67</td>\n    </tr>\n    <tr>\n      <th>sg_uf</th>\n      <td>sg_uf</td>\n      <td>object</td>\n      <td>0</td>\n      <td>462298</td>\n      <td>6</td>\n    </tr>\n    <tr>\n      <th>...</th>\n      <td>...</td>\n      <td>...</td>\n      <td>...</td>\n      <td>...</td>\n      <td>...</td>\n    </tr>\n    <tr>\n      <th>qt_funcionarios_24meses</th>\n      <td>qt_funcionarios_24meses</td>\n      <td>float64</td>\n      <td>358724</td>\n      <td>462298</td>\n      <td>762</td>\n    </tr>\n    <tr>\n      <th>tx_crescimento_12meses</th>\n      <td>tx_crescimento_12meses</td>\n      <td>float64</td>\n      <td>388410</td>\n      <td>462298</td>\n      <td>2237</td>\n    </tr>\n    <tr>\n      <th>tx_crescimento_24meses</th>\n      <td>tx_crescimento_24meses</td>\n      <td>float64</td>\n      <td>388284</td>\n      <td>462298</td>\n      <td>3388</td>\n    </tr>\n    <tr>\n      <th>tx_rotatividade</th>\n      <td>tx_rotatividade</td>\n      <td>float64</td>\n      <td>358724</td>\n      <td>462298</td>\n      <td>2548</td>\n    </tr>\n    <tr>\n      <th>qt_filiais</th>\n      <td>qt_filiais</td>\n      <td>int64</td>\n      <td>0</td>\n      <td>462298</td>\n      <td>304</td>\n    </tr>\n  </tbody>\n</table>\n<p>182 rows × 5 columns</p>\n</div>",
      "text/plain": "                                         colunas    tipos  missing     qtd  \\\nUnnamed: 0                            Unnamed: 0    int64        0  462298   \nid                                            id   object        0  462298   \nfl_matriz                              fl_matriz     bool        0  462298   \nde_natureza_juridica        de_natureza_juridica   object        0  462298   \nsg_uf                                      sg_uf   object        0  462298   \n...                                          ...      ...      ...     ...   \nqt_funcionarios_24meses  qt_funcionarios_24meses  float64   358724  462298   \ntx_crescimento_12meses    tx_crescimento_12meses  float64   388410  462298   \ntx_crescimento_24meses    tx_crescimento_24meses  float64   388284  462298   \ntx_rotatividade                  tx_rotatividade  float64   358724  462298   \nqt_filiais                            qt_filiais    int64        0  462298   \n\n                         unicos  \nUnnamed: 0               462298  \nid                       462298  \nfl_matriz                     2  \nde_natureza_juridica         67  \nsg_uf                         6  \n...                         ...  \nqt_funcionarios_24meses     762  \ntx_crescimento_12meses     2237  \ntx_crescimento_24meses     3388  \ntx_rotatividade            2548  \nqt_filiais                  304  \n\n[182 rows x 5 columns]"
     },
     "execution_count": 125,
     "metadata": {},
     "output_type": "execute_result"
    }
   ],
   "source": [
    "df_aux"
   ]
  },
  {
   "cell_type": "code",
   "execution_count": 126,
   "metadata": {},
   "outputs": [],
   "source": [
    "#calcular taxa de missing values\n",
    "df_aux['tx_miss'] = round(df_aux['missing']/df_aux['qtd'],2)"
   ]
  },
  {
   "cell_type": "code",
   "execution_count": 5,
   "metadata": {},
   "outputs": [],
   "source": [
    "#exportando metadados para CSV\n",
    "df_aux.to_csv('metadados.csv',index=False)"
   ]
  },
  {
   "cell_type": "markdown",
   "metadata": {},
   "source": [
    "### 2. Exploração dos dados faltantes"
   ]
  },
  {
   "cell_type": "code",
   "execution_count": 127,
   "metadata": {},
   "outputs": [
    {
     "name": "stdout",
     "output_type": "stream",
     "text": "Total de campos com dados >= 10.0% faltantes- 144\nPorcentagem de variáveis com >= 10.0% de dados faltantes: 79.12%\n\n\nTotal de campos com dados >= 11.0% faltantes- 143\nPorcentagem de variáveis com >= 11.0% de dados faltantes: 78.57%\n\n\nTotal de campos com dados >= 12.0% faltantes- 143\nPorcentagem de variáveis com >= 12.0% de dados faltantes: 78.57%\n\n\nTotal de campos com dados >= 13.0% faltantes- 143\nPorcentagem de variáveis com >= 13.0% de dados faltantes: 78.57%\n\n\nTotal de campos com dados >= 14.0% faltantes- 141\nPorcentagem de variáveis com >= 14.0% de dados faltantes: 77.47%\n\n\nTotal de campos com dados >= 15.0% faltantes- 141\nPorcentagem de variáveis com >= 15.0% de dados faltantes: 77.47%\n\n\nTotal de campos com dados >= 16.0% faltantes- 141\nPorcentagem de variáveis com >= 16.0% de dados faltantes: 77.47%\n\n\nTotal de campos com dados >= 17.0% faltantes- 141\nPorcentagem de variáveis com >= 17.0% de dados faltantes: 77.47%\n\n\nTotal de campos com dados >= 18.0% faltantes- 141\nPorcentagem de variáveis com >= 18.0% de dados faltantes: 77.47%\n\n\nTotal de campos com dados >= 19.0% faltantes- 139\nPorcentagem de variáveis com >= 19.0% de dados faltantes: 76.37%\n\n\nTotal de campos com dados >= 20.0% faltantes- 139\nPorcentagem de variáveis com >= 20.0% de dados faltantes: 76.37%\n\n\nTotal de campos com dados >= 21.0% faltantes- 139\nPorcentagem de variáveis com >= 21.0% de dados faltantes: 76.37%\n\n\nTotal de campos com dados >= 22.0% faltantes- 139\nPorcentagem de variáveis com >= 22.0% de dados faltantes: 76.37%\n\n\nTotal de campos com dados >= 23.0% faltantes- 139\nPorcentagem de variáveis com >= 23.0% de dados faltantes: 76.37%\n\n\nTotal de campos com dados >= 24.0% faltantes- 139\nPorcentagem de variáveis com >= 24.0% de dados faltantes: 76.37%\n\n\nTotal de campos com dados >= 25.0% faltantes- 139\nPorcentagem de variáveis com >= 25.0% de dados faltantes: 76.37%\n\n\nTotal de campos com dados >= 26.0% faltantes- 136\nPorcentagem de variáveis com >= 26.0% de dados faltantes: 74.73%\n\n\nTotal de campos com dados >= 27.0% faltantes- 136\nPorcentagem de variáveis com >= 27.0% de dados faltantes: 74.73%\n\n\nTotal de campos com dados >= 28.0% faltantes- 136\nPorcentagem de variáveis com >= 28.0% de dados faltantes: 74.73%\n\n\nTotal de campos com dados >= 29.0% faltantes- 136\nPorcentagem de variáveis com >= 29.0% de dados faltantes: 74.73%\n\n\nTotal de campos com dados >= 30.0% faltantes- 136\nPorcentagem de variáveis com >= 30.0% de dados faltantes: 74.73%\n\n\nTotal de campos com dados >= 31.0% faltantes- 136\nPorcentagem de variáveis com >= 31.0% de dados faltantes: 74.73%\n\n\nTotal de campos com dados >= 32.0% faltantes- 135\nPorcentagem de variáveis com >= 32.0% de dados faltantes: 74.18%\n\n\nTotal de campos com dados >= 33.0% faltantes- 135\nPorcentagem de variáveis com >= 33.0% de dados faltantes: 74.18%\n\n\nTotal de campos com dados >= 34.0% faltantes- 132\nPorcentagem de variáveis com >= 34.0% de dados faltantes: 72.53%\n\n\nTotal de campos com dados >= 35.0% faltantes- 131\nPorcentagem de variáveis com >= 35.0% de dados faltantes: 71.98%\n\n\nTotal de campos com dados >= 36.0% faltantes- 131\nPorcentagem de variáveis com >= 36.0% de dados faltantes: 71.98%\n\n\nTotal de campos com dados >= 37.0% faltantes- 131\nPorcentagem de variáveis com >= 37.0% de dados faltantes: 71.98%\n\n\nTotal de campos com dados >= 38.0% faltantes- 131\nPorcentagem de variáveis com >= 38.0% de dados faltantes: 71.98%\n\n\nTotal de campos com dados >= 39.0% faltantes- 131\nPorcentagem de variáveis com >= 39.0% de dados faltantes: 71.98%\n\n\nTotal de campos com dados >= 40.0% faltantes- 131\nPorcentagem de variáveis com >= 40.0% de dados faltantes: 71.98%\n\n\nTotal de campos com dados >= 41.0% faltantes- 131\nPorcentagem de variáveis com >= 41.0% de dados faltantes: 71.98%\n\n\nTotal de campos com dados >= 42.0% faltantes- 131\nPorcentagem de variáveis com >= 42.0% de dados faltantes: 71.98%\n\n\nTotal de campos com dados >= 43.0% faltantes- 131\nPorcentagem de variáveis com >= 43.0% de dados faltantes: 71.98%\n\n\nTotal de campos com dados >= 44.0% faltantes- 131\nPorcentagem de variáveis com >= 44.0% de dados faltantes: 71.98%\n\n\nTotal de campos com dados >= 45.0% faltantes- 131\nPorcentagem de variáveis com >= 45.0% de dados faltantes: 71.98%\n\n\nTotal de campos com dados >= 46.0% faltantes- 131\nPorcentagem de variáveis com >= 46.0% de dados faltantes: 71.98%\n\n\nTotal de campos com dados >= 47.0% faltantes- 131\nPorcentagem de variáveis com >= 47.0% de dados faltantes: 71.98%\n\n\nTotal de campos com dados >= 48.0% faltantes- 131\nPorcentagem de variáveis com >= 48.0% de dados faltantes: 71.98%\n\n\nTotal de campos com dados >= 49.0% faltantes- 131\nPorcentagem de variáveis com >= 49.0% de dados faltantes: 71.98%\n\n\nTotal de campos com dados >= 50.0% faltantes- 131\nPorcentagem de variáveis com >= 50.0% de dados faltantes: 71.98%\n\n\nTotal de campos com dados >= 51.0% faltantes- 131\nPorcentagem de variáveis com >= 51.0% de dados faltantes: 71.98%\n\n\nTotal de campos com dados >= 52.0% faltantes- 131\nPorcentagem de variáveis com >= 52.0% de dados faltantes: 71.98%\n\n\nTotal de campos com dados >= 53.0% faltantes- 131\nPorcentagem de variáveis com >= 53.0% de dados faltantes: 71.98%\n\n\nTotal de campos com dados >= 54.0% faltantes- 131\nPorcentagem de variáveis com >= 54.0% de dados faltantes: 71.98%\n\n\nTotal de campos com dados >= 55.0% faltantes- 131\nPorcentagem de variáveis com >= 55.0% de dados faltantes: 71.98%\n\n\nTotal de campos com dados >= 56.0% faltantes- 131\nPorcentagem de variáveis com >= 56.0% de dados faltantes: 71.98%\n\n\nTotal de campos com dados >= 57.0% faltantes- 131\nPorcentagem de variáveis com >= 57.0% de dados faltantes: 71.98%\n\n\nTotal de campos com dados >= 58.0% faltantes- 131\nPorcentagem de variáveis com >= 58.0% de dados faltantes: 71.98%\n\n\nTotal de campos com dados >= 59.0% faltantes- 130\nPorcentagem de variáveis com >= 59.0% de dados faltantes: 71.43%\n\n\nTotal de campos com dados >= 60.0% faltantes- 130\nPorcentagem de variáveis com >= 60.0% de dados faltantes: 71.43%\n\n\nTotal de campos com dados >= 61.0% faltantes- 130\nPorcentagem de variáveis com >= 61.0% de dados faltantes: 71.43%\n\n\nTotal de campos com dados >= 62.0% faltantes- 130\nPorcentagem de variáveis com >= 62.0% de dados faltantes: 71.43%\n\n\nTotal de campos com dados >= 63.0% faltantes- 130\nPorcentagem de variáveis com >= 63.0% de dados faltantes: 71.43%\n\n\nTotal de campos com dados >= 64.0% faltantes- 130\nPorcentagem de variáveis com >= 64.0% de dados faltantes: 71.43%\n\n\nTotal de campos com dados >= 65.0% faltantes- 130\nPorcentagem de variáveis com >= 65.0% de dados faltantes: 71.43%\n\n\nTotal de campos com dados >= 66.0% faltantes- 130\nPorcentagem de variáveis com >= 66.0% de dados faltantes: 71.43%\n\n\nTotal de campos com dados >= 67.0% faltantes- 130\nPorcentagem de variáveis com >= 67.0% de dados faltantes: 71.43%\n\n\nTotal de campos com dados >= 68.0% faltantes- 130\nPorcentagem de variáveis com >= 68.0% de dados faltantes: 71.43%\n\n\nTotal de campos com dados >= 69.0% faltantes- 130\nPorcentagem de variáveis com >= 69.0% de dados faltantes: 71.43%\n\n\nTotal de campos com dados >= 70.0% faltantes- 129\nPorcentagem de variáveis com >= 70.0% de dados faltantes: 70.88%\n\n\nTotal de campos com dados >= 71.0% faltantes- 129\nPorcentagem de variáveis com >= 71.0% de dados faltantes: 70.88%\n\n\nTotal de campos com dados >= 72.0% faltantes- 129\nPorcentagem de variáveis com >= 72.0% de dados faltantes: 70.88%\n\n\nTotal de campos com dados >= 73.0% faltantes- 129\nPorcentagem de variáveis com >= 73.0% de dados faltantes: 70.88%\n\n\nTotal de campos com dados >= 74.0% faltantes- 129\nPorcentagem de variáveis com >= 74.0% de dados faltantes: 70.88%\n\n\nTotal de campos com dados >= 75.0% faltantes- 129\nPorcentagem de variáveis com >= 75.0% de dados faltantes: 70.88%\n\n\nTotal de campos com dados >= 76.0% faltantes- 127\nPorcentagem de variáveis com >= 76.0% de dados faltantes: 69.78%\n\n\nTotal de campos com dados >= 77.0% faltantes- 127\nPorcentagem de variáveis com >= 77.0% de dados faltantes: 69.78%\n\n\nTotal de campos com dados >= 78.0% faltantes- 127\nPorcentagem de variáveis com >= 78.0% de dados faltantes: 69.78%\n\n\nTotal de campos com dados >= 79.0% faltantes- 115\nPorcentagem de variáveis com >= 79.0% de dados faltantes: 63.19%\n\n\nTotal de campos com dados >= 80.0% faltantes- 115\nPorcentagem de variáveis com >= 80.0% de dados faltantes: 63.19%\n\n\nTotal de campos com dados >= 81.0% faltantes- 115\nPorcentagem de variáveis com >= 81.0% de dados faltantes: 63.19%\n\n\nTotal de campos com dados >= 82.0% faltantes- 115\nPorcentagem de variáveis com >= 82.0% de dados faltantes: 63.19%\n\n\nTotal de campos com dados >= 83.0% faltantes- 115\nPorcentagem de variáveis com >= 83.0% de dados faltantes: 63.19%\n\n\nTotal de campos com dados >= 84.0% faltantes- 115\nPorcentagem de variáveis com >= 84.0% de dados faltantes: 63.19%\n\n\nTotal de campos com dados >= 85.0% faltantes- 107\nPorcentagem de variáveis com >= 85.0% de dados faltantes: 58.79%\n\n\nTotal de campos com dados >= 86.0% faltantes- 106\nPorcentagem de variáveis com >= 86.0% de dados faltantes: 58.24%\n\n\nTotal de campos com dados >= 87.0% faltantes- 60\nPorcentagem de variáveis com >= 87.0% de dados faltantes: 32.97%\n\n\nTotal de campos com dados >= 88.0% faltantes- 60\nPorcentagem de variáveis com >= 88.0% de dados faltantes: 32.97%\n\n\nTotal de campos com dados >= 89.0% faltantes- 60\nPorcentagem de variáveis com >= 89.0% de dados faltantes: 32.97%\n\n\nTotal de campos com dados >= 90.0% faltantes- 58\nPorcentagem de variáveis com >= 90.0% de dados faltantes: 31.87%\n\n\nTotal de campos com dados >= 91.0% faltantes- 58\nPorcentagem de variáveis com >= 91.0% de dados faltantes: 31.87%\n\n\nTotal de campos com dados >= 92.0% faltantes- 51\nPorcentagem de variáveis com >= 92.0% de dados faltantes: 28.02%\n\n\nTotal de campos com dados >= 93.0% faltantes- 41\nPorcentagem de variáveis com >= 93.0% de dados faltantes: 22.53%\n\n\nTotal de campos com dados >= 94.0% faltantes- 38\nPorcentagem de variáveis com >= 94.0% de dados faltantes: 20.88%\n\n\nTotal de campos com dados >= 95.0% faltantes- 37\nPorcentagem de variáveis com >= 95.0% de dados faltantes: 20.33%\n\n\nTotal de campos com dados >= 96.0% faltantes- 33\nPorcentagem de variáveis com >= 96.0% de dados faltantes: 18.13%\n\n\nTotal de campos com dados >= 97.0% faltantes- 28\nPorcentagem de variáveis com >= 97.0% de dados faltantes: 15.38%\n\n\nTotal de campos com dados >= 98.0% faltantes- 27\nPorcentagem de variáveis com >= 98.0% de dados faltantes: 14.84%\n\n\nTotal de campos com dados >= 99.0% faltantes- 26\nPorcentagem de variáveis com >= 99.0% de dados faltantes: 14.29%\n\n\n"
    }
   ],
   "source": [
    "#calculando % das variáveis acima de 15% de dados faltantes\n",
    "tx_missing = np.arange(0.1,1.00,0.01)\n",
    "total_missing = list()\n",
    "for tx in tx_missing:\n",
    "    total_missing = df_aux.query(f'tx_miss >= {tx}').shape[0]/df_aux.shape[0]\n",
    "    print(f\"Total de campos com dados >= {round(tx*100,2)}% faltantes- {df_aux.query(f'tx_miss >= {tx}').shape[0]}\")\n",
    "    print(f\"Porcentagem de variáveis com >= {round(tx*100,2)}% de dados faltantes: {round(total_missing*100,2)}%\")\n",
    "    print('\\n')"
   ]
  },
  {
   "cell_type": "markdown",
   "metadata": {},
   "source": [
    "### Pela observação, temos colunas com mais do que 99.5% de dados faltantes, desta forma faremos a remoção destas colunas antes do prosseguimento das análises"
   ]
  },
  {
   "cell_type": "code",
   "execution_count": 128,
   "metadata": {},
   "outputs": [],
   "source": [
    "#Removendo colunas com valores acima de 99.5% de dados faltantes\n",
    "df_market_droped = df_market.drop(list(df_aux.query(f'tx_miss >= {0.995}').colunas),axis=1)"
   ]
  },
  {
   "cell_type": "markdown",
   "metadata": {},
   "source": [
    "### Observações gerais:\n",
    "- Dados faltantes são um desafio no dataset\n",
    "- Uma exploração maior deve ser feita sobre os dados faltantes"
   ]
  },
  {
   "cell_type": "markdown",
   "metadata": {},
   "source": [
    "### 2. Estudos para entender o comportamento das variáveis com dados faltantes\n",
    "1. Entender o comportamento dos dados faltantes com base na variável _de_ramo_ \n",
    "2. Entender o commportamento dos dados faltantes com base na variável _setor_"
   ]
  },
  {
   "cell_type": "markdown",
   "metadata": {},
   "source": [
    "#### Criando dataframe com as linhas sendo as variáveis do dataframe origina e as colunas os ramos de atividades"
   ]
  },
  {
   "cell_type": "code",
   "execution_count": 129,
   "metadata": {},
   "outputs": [],
   "source": [
    "#criando vetor com os ramos de atividades\n",
    "de_ramo = df_market_droped.de_ramo.unique()"
   ]
  },
  {
   "cell_type": "code",
   "execution_count": 159,
   "metadata": {},
   "outputs": [],
   "source": [
    "df_compare_missing = pd.DataFrame(data={'variaveis':df_market_droped.columns})"
   ]
  },
  {
   "cell_type": "code",
   "execution_count": 160,
   "metadata": {},
   "outputs": [
    {
     "data": {
      "text/html": "<div>\n<style scoped>\n    .dataframe tbody tr th:only-of-type {\n        vertical-align: middle;\n    }\n\n    .dataframe tbody tr th {\n        vertical-align: top;\n    }\n\n    .dataframe thead th {\n        text-align: right;\n    }\n</style>\n<table border=\"1\" class=\"dataframe\">\n  <thead>\n    <tr style=\"text-align: right;\">\n      <th></th>\n      <th>variaveis</th>\n      <th>FARMACEUTICA</th>\n      <th>ORGANISMOS INTERNACIONAIS</th>\n      <th>INDUSTRIA AUTOMOTIVA</th>\n      <th>SERVICOS SOCIAIS</th>\n      <th>ATIVIDADES IMOBILIARIAS</th>\n      <th>SERVICOS DE SANEAMENTO BASICO</th>\n      <th>ELETROELETRONICOS</th>\n      <th>INDUSTRIAS EXTRATIVAS</th>\n      <th>ELETRICIDADE E GAS</th>\n      <th>...</th>\n      <th>INDUSTRIA DIGITAL</th>\n      <th>COMERCIO VAREJISTA</th>\n      <th>BENS DE CONSUMO</th>\n      <th>SERVICOS ADMINISTRATIVOS</th>\n      <th>QUIMICA-PETROQUIMICA</th>\n      <th>SERVICOS PROFISSIONAIS, TECNICOS E CIENTIFICOS</th>\n      <th>SERVICOS DIVERSOS</th>\n      <th>TRANSPORTE, ARMAZENAGEM E CORREIO</th>\n      <th>SERVICOS DE ALOJAMENTO/ALIMENTACAO</th>\n      <th>INDUSTRIA DA CONSTRUCAO</th>\n    </tr>\n  </thead>\n  <tbody>\n    <tr>\n      <th>0</th>\n      <td>Unnamed: 0</td>\n      <td>0.00</td>\n      <td>0.00</td>\n      <td>0.00</td>\n      <td>0.00</td>\n      <td>0.00</td>\n      <td>0.00</td>\n      <td>0.00</td>\n      <td>0.00</td>\n      <td>0.00</td>\n      <td>...</td>\n      <td>0.00</td>\n      <td>0.00</td>\n      <td>0.00</td>\n      <td>0.00</td>\n      <td>0.00</td>\n      <td>0.00</td>\n      <td>0.00</td>\n      <td>0.00</td>\n      <td>0.00</td>\n      <td>0.00</td>\n    </tr>\n    <tr>\n      <th>1</th>\n      <td>id</td>\n      <td>0.00</td>\n      <td>0.00</td>\n      <td>0.00</td>\n      <td>0.00</td>\n      <td>0.00</td>\n      <td>0.00</td>\n      <td>0.00</td>\n      <td>0.00</td>\n      <td>0.00</td>\n      <td>...</td>\n      <td>0.00</td>\n      <td>0.00</td>\n      <td>0.00</td>\n      <td>0.00</td>\n      <td>0.00</td>\n      <td>0.00</td>\n      <td>0.00</td>\n      <td>0.00</td>\n      <td>0.00</td>\n      <td>0.00</td>\n    </tr>\n    <tr>\n      <th>2</th>\n      <td>fl_matriz</td>\n      <td>0.00</td>\n      <td>0.00</td>\n      <td>0.00</td>\n      <td>0.00</td>\n      <td>0.00</td>\n      <td>0.00</td>\n      <td>0.00</td>\n      <td>0.00</td>\n      <td>0.00</td>\n      <td>...</td>\n      <td>0.00</td>\n      <td>0.00</td>\n      <td>0.00</td>\n      <td>0.00</td>\n      <td>0.00</td>\n      <td>0.00</td>\n      <td>0.00</td>\n      <td>0.00</td>\n      <td>0.00</td>\n      <td>0.00</td>\n    </tr>\n    <tr>\n      <th>3</th>\n      <td>de_natureza_juridica</td>\n      <td>0.00</td>\n      <td>0.00</td>\n      <td>0.00</td>\n      <td>0.00</td>\n      <td>0.00</td>\n      <td>0.00</td>\n      <td>0.00</td>\n      <td>0.00</td>\n      <td>0.00</td>\n      <td>...</td>\n      <td>0.00</td>\n      <td>0.00</td>\n      <td>0.00</td>\n      <td>0.00</td>\n      <td>0.00</td>\n      <td>0.00</td>\n      <td>0.00</td>\n      <td>0.00</td>\n      <td>0.00</td>\n      <td>0.00</td>\n    </tr>\n    <tr>\n      <th>4</th>\n      <td>sg_uf</td>\n      <td>0.00</td>\n      <td>0.00</td>\n      <td>0.00</td>\n      <td>0.00</td>\n      <td>0.00</td>\n      <td>0.00</td>\n      <td>0.00</td>\n      <td>0.00</td>\n      <td>0.00</td>\n      <td>...</td>\n      <td>0.00</td>\n      <td>0.00</td>\n      <td>0.00</td>\n      <td>0.00</td>\n      <td>0.00</td>\n      <td>0.00</td>\n      <td>0.00</td>\n      <td>0.00</td>\n      <td>0.00</td>\n      <td>0.00</td>\n    </tr>\n    <tr>\n      <th>...</th>\n      <td>...</td>\n      <td>...</td>\n      <td>...</td>\n      <td>...</td>\n      <td>...</td>\n      <td>...</td>\n      <td>...</td>\n      <td>...</td>\n      <td>...</td>\n      <td>...</td>\n      <td>...</td>\n      <td>...</td>\n      <td>...</td>\n      <td>...</td>\n      <td>...</td>\n      <td>...</td>\n      <td>...</td>\n      <td>...</td>\n      <td>...</td>\n      <td>...</td>\n      <td>...</td>\n    </tr>\n    <tr>\n      <th>164</th>\n      <td>qt_funcionarios_24meses</td>\n      <td>0.77</td>\n      <td>0.78</td>\n      <td>0.60</td>\n      <td>0.79</td>\n      <td>0.68</td>\n      <td>0.66</td>\n      <td>0.61</td>\n      <td>0.64</td>\n      <td>0.76</td>\n      <td>...</td>\n      <td>0.73</td>\n      <td>0.76</td>\n      <td>0.77</td>\n      <td>0.71</td>\n      <td>0.63</td>\n      <td>0.80</td>\n      <td>0.93</td>\n      <td>0.76</td>\n      <td>0.76</td>\n      <td>0.77</td>\n    </tr>\n    <tr>\n      <th>165</th>\n      <td>tx_crescimento_12meses</td>\n      <td>0.91</td>\n      <td>0.89</td>\n      <td>0.69</td>\n      <td>0.83</td>\n      <td>0.80</td>\n      <td>0.74</td>\n      <td>0.69</td>\n      <td>0.73</td>\n      <td>0.80</td>\n      <td>...</td>\n      <td>0.82</td>\n      <td>0.83</td>\n      <td>0.83</td>\n      <td>0.79</td>\n      <td>0.71</td>\n      <td>0.86</td>\n      <td>0.95</td>\n      <td>0.83</td>\n      <td>0.83</td>\n      <td>0.85</td>\n    </tr>\n    <tr>\n      <th>166</th>\n      <td>tx_crescimento_24meses</td>\n      <td>0.86</td>\n      <td>0.89</td>\n      <td>0.69</td>\n      <td>0.82</td>\n      <td>0.79</td>\n      <td>0.74</td>\n      <td>0.68</td>\n      <td>0.73</td>\n      <td>0.79</td>\n      <td>...</td>\n      <td>0.82</td>\n      <td>0.83</td>\n      <td>0.83</td>\n      <td>0.79</td>\n      <td>0.71</td>\n      <td>0.86</td>\n      <td>0.95</td>\n      <td>0.83</td>\n      <td>0.83</td>\n      <td>0.85</td>\n    </tr>\n    <tr>\n      <th>167</th>\n      <td>tx_rotatividade</td>\n      <td>0.77</td>\n      <td>0.78</td>\n      <td>0.60</td>\n      <td>0.79</td>\n      <td>0.68</td>\n      <td>0.66</td>\n      <td>0.61</td>\n      <td>0.64</td>\n      <td>0.76</td>\n      <td>...</td>\n      <td>0.73</td>\n      <td>0.76</td>\n      <td>0.77</td>\n      <td>0.71</td>\n      <td>0.63</td>\n      <td>0.80</td>\n      <td>0.93</td>\n      <td>0.76</td>\n      <td>0.76</td>\n      <td>0.77</td>\n    </tr>\n    <tr>\n      <th>168</th>\n      <td>qt_filiais</td>\n      <td>0.00</td>\n      <td>0.00</td>\n      <td>0.00</td>\n      <td>0.00</td>\n      <td>0.00</td>\n      <td>0.00</td>\n      <td>0.00</td>\n      <td>0.00</td>\n      <td>0.00</td>\n      <td>...</td>\n      <td>0.00</td>\n      <td>0.00</td>\n      <td>0.00</td>\n      <td>0.00</td>\n      <td>0.00</td>\n      <td>0.00</td>\n      <td>0.00</td>\n      <td>0.00</td>\n      <td>0.00</td>\n      <td>0.00</td>\n    </tr>\n  </tbody>\n</table>\n<p>169 rows × 34 columns</p>\n</div>",
      "text/plain": "                   variaveis  FARMACEUTICA  ORGANISMOS INTERNACIONAIS  \\\n0                 Unnamed: 0          0.00                       0.00   \n1                         id          0.00                       0.00   \n2                  fl_matriz          0.00                       0.00   \n3       de_natureza_juridica          0.00                       0.00   \n4                      sg_uf          0.00                       0.00   \n..                       ...           ...                        ...   \n164  qt_funcionarios_24meses          0.77                       0.78   \n165   tx_crescimento_12meses          0.91                       0.89   \n166   tx_crescimento_24meses          0.86                       0.89   \n167          tx_rotatividade          0.77                       0.78   \n168               qt_filiais          0.00                       0.00   \n\n     INDUSTRIA AUTOMOTIVA  SERVICOS SOCIAIS  ATIVIDADES IMOBILIARIAS  \\\n0                    0.00              0.00                     0.00   \n1                    0.00              0.00                     0.00   \n2                    0.00              0.00                     0.00   \n3                    0.00              0.00                     0.00   \n4                    0.00              0.00                     0.00   \n..                    ...               ...                      ...   \n164                  0.60              0.79                     0.68   \n165                  0.69              0.83                     0.80   \n166                  0.69              0.82                     0.79   \n167                  0.60              0.79                     0.68   \n168                  0.00              0.00                     0.00   \n\n     SERVICOS DE SANEAMENTO BASICO  ELETROELETRONICOS  INDUSTRIAS EXTRATIVAS  \\\n0                             0.00               0.00                   0.00   \n1                             0.00               0.00                   0.00   \n2                             0.00               0.00                   0.00   \n3                             0.00               0.00                   0.00   \n4                             0.00               0.00                   0.00   \n..                             ...                ...                    ...   \n164                           0.66               0.61                   0.64   \n165                           0.74               0.69                   0.73   \n166                           0.74               0.68                   0.73   \n167                           0.66               0.61                   0.64   \n168                           0.00               0.00                   0.00   \n\n     ELETRICIDADE E GAS  ...  INDUSTRIA DIGITAL  COMERCIO VAREJISTA  \\\n0                  0.00  ...               0.00                0.00   \n1                  0.00  ...               0.00                0.00   \n2                  0.00  ...               0.00                0.00   \n3                  0.00  ...               0.00                0.00   \n4                  0.00  ...               0.00                0.00   \n..                  ...  ...                ...                 ...   \n164                0.76  ...               0.73                0.76   \n165                0.80  ...               0.82                0.83   \n166                0.79  ...               0.82                0.83   \n167                0.76  ...               0.73                0.76   \n168                0.00  ...               0.00                0.00   \n\n     BENS DE CONSUMO  SERVICOS ADMINISTRATIVOS  QUIMICA-PETROQUIMICA  \\\n0               0.00                      0.00                  0.00   \n1               0.00                      0.00                  0.00   \n2               0.00                      0.00                  0.00   \n3               0.00                      0.00                  0.00   \n4               0.00                      0.00                  0.00   \n..               ...                       ...                   ...   \n164             0.77                      0.71                  0.63   \n165             0.83                      0.79                  0.71   \n166             0.83                      0.79                  0.71   \n167             0.77                      0.71                  0.63   \n168             0.00                      0.00                  0.00   \n\n     SERVICOS PROFISSIONAIS, TECNICOS E CIENTIFICOS  SERVICOS DIVERSOS  \\\n0                                              0.00               0.00   \n1                                              0.00               0.00   \n2                                              0.00               0.00   \n3                                              0.00               0.00   \n4                                              0.00               0.00   \n..                                              ...                ...   \n164                                            0.80               0.93   \n165                                            0.86               0.95   \n166                                            0.86               0.95   \n167                                            0.80               0.93   \n168                                            0.00               0.00   \n\n     TRANSPORTE, ARMAZENAGEM E CORREIO  SERVICOS DE ALOJAMENTO/ALIMENTACAO  \\\n0                                 0.00                                0.00   \n1                                 0.00                                0.00   \n2                                 0.00                                0.00   \n3                                 0.00                                0.00   \n4                                 0.00                                0.00   \n..                                 ...                                 ...   \n164                               0.76                                0.76   \n165                               0.83                                0.83   \n166                               0.83                                0.83   \n167                               0.76                                0.76   \n168                               0.00                                0.00   \n\n     INDUSTRIA DA CONSTRUCAO  \n0                       0.00  \n1                       0.00  \n2                       0.00  \n3                       0.00  \n4                       0.00  \n..                       ...  \n164                     0.77  \n165                     0.85  \n166                     0.85  \n167                     0.77  \n168                     0.00  \n\n[169 rows x 34 columns]"
     },
     "execution_count": 160,
     "metadata": {},
     "output_type": "execute_result"
    }
   ],
   "source": [
    "cont = 0\n",
    "for ramo in de_ramo:\n",
    "    cont +=1\n",
    "    df_ramo = df_market_droped.query(f'de_ramo == \"{ramo}\"')\n",
    "    df_aux = create_metadata(df_ramo)\n",
    "    #df_aux.rename(columns={'tx_miss':ramo},inplace=True)\n",
    "    df_compare_missing.insert(1,ramo,df_aux.tx_miss.values)\n",
    "df_compare_missing"
   ]
  },
  {
   "cell_type": "code",
   "execution_count": 161,
   "metadata": {},
   "outputs": [],
   "source": [
    "df_compare_missing.set_index('variaveis',inplace=True)"
   ]
  },
  {
   "cell_type": "code",
   "execution_count": 178,
   "metadata": {},
   "outputs": [
    {
     "ename": "ValueError",
     "evalue": "Mime type rendering requires nbformat>=4.2.0 but it is not installed",
     "output_type": "error",
     "traceback": [
      "\u001b[0;31m---------------------------------------------------------------------------\u001b[0m",
      "\u001b[0;31mValueError\u001b[0m                                Traceback (most recent call last)",
      "\u001b[0;32m<ipython-input-178-c6579b968010>\u001b[0m in \u001b[0;36m<module>\u001b[0;34m\u001b[0m\n\u001b[1;32m      2\u001b[0m \u001b[0;32mfor\u001b[0m \u001b[0mcol\u001b[0m \u001b[0;32min\u001b[0m \u001b[0mdf_compare_missing\u001b[0m\u001b[0;34m.\u001b[0m\u001b[0mcolumns\u001b[0m\u001b[0;34m:\u001b[0m\u001b[0;34m\u001b[0m\u001b[0;34m\u001b[0m\u001b[0m\n\u001b[1;32m      3\u001b[0m     \u001b[0mfig\u001b[0m\u001b[0;34m.\u001b[0m\u001b[0madd_trace\u001b[0m\u001b[0;34m(\u001b[0m\u001b[0mgo\u001b[0m\u001b[0;34m.\u001b[0m\u001b[0mScatter\u001b[0m\u001b[0;34m(\u001b[0m\u001b[0mx\u001b[0m\u001b[0;34m=\u001b[0m\u001b[0mdf_compare_missing\u001b[0m\u001b[0;34m.\u001b[0m\u001b[0mindex\u001b[0m\u001b[0;34m,\u001b[0m\u001b[0my\u001b[0m\u001b[0;34m=\u001b[0m\u001b[0mdf_compare_missing\u001b[0m\u001b[0;34m[\u001b[0m\u001b[0mcol\u001b[0m\u001b[0;34m]\u001b[0m\u001b[0;34m,\u001b[0m\u001b[0mmode\u001b[0m\u001b[0;34m=\u001b[0m\u001b[0;34m'lines+markers'\u001b[0m\u001b[0;34m)\u001b[0m\u001b[0;34m)\u001b[0m\u001b[0;34m\u001b[0m\u001b[0;34m\u001b[0m\u001b[0m\n\u001b[0;32m----> 4\u001b[0;31m \u001b[0mfig\u001b[0m\u001b[0;34m.\u001b[0m\u001b[0mshow\u001b[0m\u001b[0;34m(\u001b[0m\u001b[0;34m)\u001b[0m\u001b[0;34m\u001b[0m\u001b[0;34m\u001b[0m\u001b[0m\n\u001b[0m",
      "\u001b[0;32m~/Documents/Tiago/datascience/codenation/projeto_final/leadsmatch/leadsmatch/lib/python3.7/site-packages/plotly/basedatatypes.py\u001b[0m in \u001b[0;36mshow\u001b[0;34m(self, *args, **kwargs)\u001b[0m\n\u001b[1;32m   2853\u001b[0m         \u001b[0;32mimport\u001b[0m \u001b[0mplotly\u001b[0m\u001b[0;34m.\u001b[0m\u001b[0mio\u001b[0m \u001b[0;32mas\u001b[0m \u001b[0mpio\u001b[0m\u001b[0;34m\u001b[0m\u001b[0;34m\u001b[0m\u001b[0m\n\u001b[1;32m   2854\u001b[0m \u001b[0;34m\u001b[0m\u001b[0m\n\u001b[0;32m-> 2855\u001b[0;31m         \u001b[0;32mreturn\u001b[0m \u001b[0mpio\u001b[0m\u001b[0;34m.\u001b[0m\u001b[0mshow\u001b[0m\u001b[0;34m(\u001b[0m\u001b[0mself\u001b[0m\u001b[0;34m,\u001b[0m \u001b[0;34m*\u001b[0m\u001b[0margs\u001b[0m\u001b[0;34m,\u001b[0m \u001b[0;34m**\u001b[0m\u001b[0mkwargs\u001b[0m\u001b[0;34m)\u001b[0m\u001b[0;34m\u001b[0m\u001b[0;34m\u001b[0m\u001b[0m\n\u001b[0m\u001b[1;32m   2856\u001b[0m \u001b[0;34m\u001b[0m\u001b[0m\n\u001b[1;32m   2857\u001b[0m     \u001b[0;32mdef\u001b[0m \u001b[0mto_json\u001b[0m\u001b[0;34m(\u001b[0m\u001b[0mself\u001b[0m\u001b[0;34m,\u001b[0m \u001b[0;34m*\u001b[0m\u001b[0margs\u001b[0m\u001b[0;34m,\u001b[0m \u001b[0;34m**\u001b[0m\u001b[0mkwargs\u001b[0m\u001b[0;34m)\u001b[0m\u001b[0;34m:\u001b[0m\u001b[0;34m\u001b[0m\u001b[0;34m\u001b[0m\u001b[0m\n",
      "\u001b[0;32m~/Documents/Tiago/datascience/codenation/projeto_final/leadsmatch/leadsmatch/lib/python3.7/site-packages/plotly/io/_renderers.py\u001b[0m in \u001b[0;36mshow\u001b[0;34m(fig, renderer, validate, **kwargs)\u001b[0m\n\u001b[1;32m    384\u001b[0m         \u001b[0;32mif\u001b[0m \u001b[0;32mnot\u001b[0m \u001b[0mnbformat\u001b[0m \u001b[0;32mor\u001b[0m \u001b[0mLooseVersion\u001b[0m\u001b[0;34m(\u001b[0m\u001b[0mnbformat\u001b[0m\u001b[0;34m.\u001b[0m\u001b[0m__version__\u001b[0m\u001b[0;34m)\u001b[0m \u001b[0;34m<\u001b[0m \u001b[0mLooseVersion\u001b[0m\u001b[0;34m(\u001b[0m\u001b[0;34m\"4.2.0\"\u001b[0m\u001b[0;34m)\u001b[0m\u001b[0;34m:\u001b[0m\u001b[0;34m\u001b[0m\u001b[0;34m\u001b[0m\u001b[0m\n\u001b[1;32m    385\u001b[0m             raise ValueError(\n\u001b[0;32m--> 386\u001b[0;31m                 \u001b[0;34m\"Mime type rendering requires nbformat>=4.2.0 but it is not installed\"\u001b[0m\u001b[0;34m\u001b[0m\u001b[0;34m\u001b[0m\u001b[0m\n\u001b[0m\u001b[1;32m    387\u001b[0m             )\n\u001b[1;32m    388\u001b[0m \u001b[0;34m\u001b[0m\u001b[0m\n",
      "\u001b[0;31mValueError\u001b[0m: Mime type rendering requires nbformat>=4.2.0 but it is not installed"
     ]
    }
   ],
   "source": [
    "fig = go.Figure()\n",
    "for col in df_compare_missing.columns:\n",
    "    fig.add_trace(go.Scatter(x=df_compare_missing.index,y=df_compare_missing[col],mode='lines+markers'))\n",
    "fig.show()"
   ]
  },
  {
   "cell_type": "code",
   "execution_count": null,
   "metadata": {},
   "outputs": [],
   "source": []
  }
 ]
}