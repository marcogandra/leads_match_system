{
 "nbformat": 4,
 "nbformat_minor": 2,
 "metadata": {
  "language_info": {
   "name": "python",
   "codemirror_mode": {
    "name": "ipython",
    "version": 3
   },
   "version": "3.7.4-final"
  },
  "orig_nbformat": 2,
  "file_extension": ".py",
  "mimetype": "text/x-python",
  "name": "python",
  "npconvert_exporter": "python",
  "pygments_lexer": "ipython3",
  "version": 3,
  "kernelspec": {
   "name": "python37464bitleadsmatchvirtualenv35cbd83672fe44d6b2641e951d1744a9",
   "display_name": "Python 3.7.4 64-bit ('leadsmatch': virtualenv)"
  }
 },
 "cells": [
  {
   "cell_type": "code",
   "execution_count": 59,
   "metadata": {},
   "outputs": [],
   "source": [
    "#carregando bibliotecas\n",
    "import pandas as pd\n",
    "import numpy as np\n",
    "import seaborn as sns\n",
    "import matplotlib.pyplot as plt \n",
    "\n",
    "from sklearn.preprocessing import StandardScaler,OneHotEncoder,MinMaxScaler\n",
    "from sklearn.neighbors import NearestNeighbors\n",
    "from sklearn.metrics.pairwise import linear_kernel,cosine_similarity\n",
    "from sklearn.linear_model import LogisticRegression\n",
    "from sklearn.feature_selection import VarianceThreshold\n",
    "from sklearn.ensemble import RandomForestClassifier,ExtraTreesClassifier\n",
    "from sklearn.tree import DecisionTreeClassifier\n",
    "from sklearn.impute import SimpleImputer\n",
    "from sklearn.cluster import KMeans\n",
    "\n",
    "from sklearn.model_selection import train_test_split\n",
    "from sklearn.feature_selection import SelectFromModel\n",
    "\n",
    "from yellowbrick.cluster import KElbowVisualizer"
   ]
  },
  {
   "cell_type": "code",
   "execution_count": 2,
   "metadata": {},
   "outputs": [],
   "source": [
    "#carrega dados de mercado\n",
    "df_market = pd.read_csv('../data/estaticos_market.csv')"
   ]
  },
  {
   "cell_type": "code",
   "execution_count": 3,
   "metadata": {},
   "outputs": [],
   "source": [
    "df_aux = pd.DataFrame(data={\n",
    "    'colunas':df_market.columns,\n",
    "    'missing':df_market.isna().sum(),\n",
    "    'qtd':df_market.shape[0]\n",
    "})\n",
    "df_aux['tx_miss'] = round(df_aux['missing']/df_aux['qtd'],2)\n",
    "df_market = df_market.drop(list(df_aux.query(f'tx_miss >= {0.995}').colunas),axis=1)"
   ]
  },
  {
   "cell_type": "code",
   "execution_count": 4,
   "metadata": {},
   "outputs": [],
   "source": [
    "#carrega portfólio\n",
    "df_portfolio = pd.read_csv('../data/estaticos_portfolio1.csv')"
   ]
  },
  {
   "cell_type": "code",
   "execution_count": 5,
   "metadata": {},
   "outputs": [],
   "source": [
    "#coloca id como índice\n",
    "df_market = df_market.set_index('id')"
   ]
  },
  {
   "cell_type": "code",
   "execution_count": 42,
   "metadata": {},
   "outputs": [],
   "source": [
    "#selecte boolean features\n",
    "def select_by_variance(df,threshold,var_type):\n",
    "    sel_bool = VarianceThreshold(threshold=threshold)\n",
    "    fitted_model = sel.fit(df.select_dtypes(include=var_type))\n",
    "    features = df.select_dtypes(include=var_type).columns[fitted_model.get_support()]\n",
    "    return features\n",
    "\n",
    "def preprocessing(df,col_group,nan_resolve):\n",
    "    info_empresa = ['de_indicador_telefone',\n",
    "    'de_nivel_atividade',\n",
    "    'de_ramo',\n",
    "    'fl_email',\n",
    "    'fl_mei',\n",
    "    'fl_telefone',\n",
    "    'idade_empresa_anos',\n",
    "    'natureza_juridica_macro',\n",
    "    'nm_divisao',\n",
    "    'qt_filiais',\n",
    "    'sg_uf']\n",
    "    print('--Criando dataframe com as colunas--')\n",
    "    df_empresa = df[col_group]\n",
    "\n",
    "    print('--Aplicando OneHotEnconding--')\n",
    "    df_encoded = pd.get_dummies(df_empresa)\n",
    "\n",
    "    if nan_resolve == 'median':\n",
    "        df_encoded = df_encoded.fillna(df_encoded.median())\n",
    "        #df_encoded\n",
    "        #df_encoded = df_encoded.reset_index()\n",
    "        #imputer = SimpleImputer(missing_values='NaN',strategy='median')\n",
    "        #for col in df_encoded.select_dtypes(include=['float','int']).columns:\n",
    "            #median = imputer.fit_transform(df_encoded[[col]]).ravel()\n",
    "            #df_encoded[col] = median\n",
    "    else:\n",
    "        pass\n",
    "\n",
    "    print('--Aplicando MinMaxScaler--')\n",
    "    minmax = StandardScaler()\n",
    "    minmax_transformed = minmax.fit_transform(df_encoded)\n",
    "    df_encoded_std = pd.DataFrame(data=minmax_transformed,columns=df_encoded.columns)\n",
    "\n",
    "    print('--split features target--')\n",
    "    target = df[['de_ramo']]\n",
    "    print(df_encoded_std.median())\n",
    "    features = df_encoded_std\n",
    "    #print(features.isna().sum())\n",
    "    print('--Aplicando Árvore--')\n",
    "    decision_tree = ExtraTreesClassifier(n_jobs=-1,n_estimators=20)\n",
    "    model_fited = decision_tree.fit(features,target)\n",
    "    print('--Selecionando Modelo--')\n",
    "    model = SelectFromModel(model_fited,prefit=True)\n",
    "    col_features = df_encoded_std.columns[model.get_support()]\n",
    "    df_return = df_encoded_std[col_features]\n",
    "    return df_return\n",
    "\n",
    "#função para recomendar leads\n",
    "def recommender(df_test,df_market,modelo):\n",
    "    distance, index = modelo.kneighbors(df_test)\n",
    "    distance = distance.flatten()\n",
    "    index = index.flatten()\n",
    "    recomendados = df_market.iloc[index]\n",
    "    recomendados['distance'] = distance\n",
    "    recomendados = recomendados.sort_values(by=['distance'],ascending=True)\n",
    "    return recomendados['id']\n",
    "\n",
    "def get_metrics(ids_true, ids_pred):\n",
    "    tp = len(set(ids_true) & set(ids_pred))\n",
    "    fp = ids_pred.shape[0] - tp\n",
    "    fn = ids_true.shape[0] - tp\n",
    "    tn = df_train.shape[0] - ids_pred.shape[0]\n",
    "    p = ids_true.shape[0]\n",
    "    n = df_train.shape[0] - p\n",
    "    accuracy = (tp)/p\n",
    "    precision = tp/(tp+fp)\n",
    "    recall = tp/(tp+fn)\n",
    "    print(f'Total de Recomendações Corretas: {len(set(ids_true) & set(ids_pred))}')\n",
    "    return (accuracy,precision,recall)"
   ]
  },
  {
   "cell_type": "markdown",
   "metadata": {},
   "source": [
    "## Teste de seleção de features colocando o ramo da empresa como variável alvo"
   ]
  },
  {
   "cell_type": "markdown",
   "metadata": {},
   "source": [
    "## Qualificação das variáveis\n",
    "1. As variáveis foram agrupadas em 7 grupos\n",
    "2. As features serão avaliadas isoladamente dentro de cada grupo\n",
    "3. Após esta análise ser escolhida uma variável categórica para ser o target\n",
    "4. Será feita uma seleção de feature utilizando RandomForest. Será utilizado o inverso do índice de Gini como peso para cada variável"
   ]
  },
  {
   "cell_type": "code",
   "execution_count": 7,
   "metadata": {},
   "outputs": [],
   "source": [
    "#convertendo variaveis object para bool\n",
    "convert_to_bool = [\n",
    "'fl_optante_simei',\n",
    "'fl_optante_simples',\n",
    "'fl_passivel_iss',\n",
    "'fl_rm',\n",
    "'fl_sa',\n",
    "'fl_simples_irregular',\n",
    "'fl_spa',\n",
    "'fl_st_especial',\n",
    "'fl_telefone',\n",
    "'fl_veiculo'\n",
    "]\n",
    "for col in convert_to_bool:\n",
    "    df_market[col] = df_market[col].astype(bool)"
   ]
  },
  {
   "cell_type": "code",
   "execution_count": 8,
   "metadata": {},
   "outputs": [],
   "source": [
    "info_empresa = ['de_indicador_telefone',\n",
    "'de_nivel_atividade',\n",
    "'de_ramo',\n",
    "'fl_email',\n",
    "'fl_mei',\n",
    "'fl_telefone',\n",
    "'idade_empresa_anos',\n",
    "'natureza_juridica_macro',\n",
    "'nm_divisao',\n",
    "'qt_filiais',\n",
    "'sg_uf']"
   ]
  },
  {
   "cell_type": "code",
   "execution_count": 9,
   "metadata": {},
   "outputs": [],
   "source": [
    "info_filiais = [\n",
    "'coligada_mais_antiga_ativa',\n",
    "'coligada_mais_nova_ativa',\n",
    "'de_faixa_faturamento_estimado',\n",
    "'de_faixa_faturamento_estimado_grupo',\n",
    "'faturamento_est_coligados',\n",
    "'faturamento_est_coligados_gp',\n",
    "'idade_maxima_coligadas',\n",
    "'idade_media_coligadas',\n",
    "'idade_media_coligadas_ativas',\n",
    "'idade_minima_coligadas',\n",
    "'max_faturamento_est_coligados',\n",
    "'max_faturamento_est_coligados_gp',\n",
    "'max_filiais_coligados',\n",
    "'max_funcionarios_coligados_gp',\n",
    "'max_vl_folha_coligados',\n",
    "'max_vl_folha_coligados_gp',\n",
    "'media_faturamento_est_coligados',\n",
    "'media_faturamento_est_coligados_gp',\n",
    "'media_filiais_coligados',\n",
    "'media_funcionarios_coligados_gp',\n",
    "'media_vl_folha_coligados',\n",
    "'media_vl_folha_coligados_gp',\n",
    "'min_faturamento_est_coligados',\n",
    "'min_faturamento_est_coligados_gp',\n",
    "'min_filiais_coligados',\n",
    "'min_funcionarios_coligados_gp',\n",
    "'min_vl_folha_coligados',\n",
    "'min_vl_folha_coligados_gp',\n",
    "'qt_coligadas',\n",
    "'qt_coligados',\n",
    "'qt_coligados_agropecuaria',\n",
    "'qt_coligados_atividade_alto',\n",
    "'qt_coligados_atividade_baixo',\n",
    "'qt_coligados_atividade_inativo',\n",
    "'qt_coligados_atividade_medio',\n",
    "'qt_coligados_atividade_mt_baixo',\n",
    "'qt_coligados_ativo',\n",
    "'qt_coligados_baixada',\n",
    "'qt_coligados_ccivil',\n",
    "'qt_coligados_centro',\n",
    "'qt_coligados_comercio',\n",
    "'qt_coligados_epp',\n",
    "'qt_coligados_exterior',\n",
    "'qt_coligados_inapta',\n",
    "'qt_coligados_industria',\n",
    "'qt_coligados_ltda',\n",
    "'qt_coligados_matriz',\n",
    "'qt_coligados_me',\n",
    "'qt_coligados_mei',\n",
    "'qt_coligados_nordeste',\n",
    "'qt_coligados_norte',\n",
    "'qt_coligados_nula',\n",
    "'qt_coligados_sa',\n",
    "'qt_coligados_serviço',\n",
    "'qt_coligados_sudeste',\n",
    "'qt_coligados_sul',\n",
    "'qt_coligados_suspensa',\n",
    "'qt_funcionarios_coligados',\n",
    "'qt_funcionarios_coligados_gp',\n",
    "'qt_ramos_coligados',\n",
    "'qt_regioes_coligados',\n",
    "'qt_socios_coligados',\n",
    "'qt_ufs_coligados',\n",
    "'sum_faturamento_estimado_coligadas',\n",
    "'total_filiais_coligados',\n",
    "'vl_faturamento_estimado_aux',\n",
    "'vl_faturamento_estimado_grupo_aux',\n",
    "'vl_folha_coligados',\n",
    "'vl_folha_coligados_gp'\n",
    "]"
   ]
  },
  {
   "cell_type": "code",
   "execution_count": 10,
   "metadata": {},
   "outputs": [],
   "source": [
    "info_funcionarios = [\n",
    "'grau_instrucao_macro_escolaridade_fundamental',\n",
    "'grau_instrucao_macro_escolaridade_media',\n",
    "'grau_instrucao_macro_escolaridade_superior',\n",
    "'idade_acima_de_58',\n",
    "'idade_ate_18',\n",
    "'idade_de_19_a_23',\n",
    "'idade_de_24_a_28',\n",
    "'idade_de_29_a_33',\n",
    "'idade_de_34_a_38',\n",
    "'idade_de_39_a_43',\n",
    "'idade_de_44_a_48',\n",
    "'idade_de_49_a_53',\n",
    "'idade_de_54_a_58',\n",
    "'max_meses_servicos',\n",
    "'max_meses_servicos_all',\n",
    "'media_meses_servicos',\n",
    "'media_meses_servicos_all',\n",
    "'meses_ultima_contratacaco',\n",
    "'min_meses_servicos',\n",
    "'min_meses_servicos_all',\n",
    "'percent_func_genero_fem',\n",
    "'percent_func_genero_masc',\n",
    "'qt_admitidos',\n",
    "'qt_admitidos_12meses',\n",
    "'qt_desligados',\n",
    "'qt_desligados_12meses',\n",
    "'qt_ex_funcionarios',\n",
    "'qt_funcionarios',\n",
    "'qt_funcionarios_12meses',\n",
    "'qt_funcionarios_24meses',\n",
    "'qt_funcionarios_grupo',\n",
    "'total',\n",
    "'tx_crescimento_12meses',\n",
    "'tx_crescimento_24meses',\n",
    "'tx_rotatividade'\n",
    "]\n"
   ]
  },
  {
   "cell_type": "code",
   "execution_count": 11,
   "metadata": {},
   "outputs": [],
   "source": [
    "info_ibge = [\n",
    "'empsetorcensitariofaixarendapopulacao',\n",
    "'nm_micro_regiao'    \n",
    "]"
   ]
  },
  {
   "cell_type": "code",
   "execution_count": 12,
   "metadata": {},
   "outputs": [],
   "source": [
    "info_socios = [\n",
    "'idade_maxima_socios',\n",
    "'idade_media_socios',\n",
    "'idade_minima_socios',\n",
    "'qt_socios',\n",
    "'qt_socios_feminino',\n",
    "'qt_socios_masculino',\n",
    "'qt_socios_pep',\n",
    "'qt_socios_pf',\n",
    "'qt_socios_pj',\n",
    "'qt_socios_pj_ativos',\n",
    "'qt_socios_pj_baixados',\n",
    "'qt_socios_pj_inaptos',\n",
    "'qt_socios_pj_nulos',\n",
    "'qt_socios_pj_suspensos',\n",
    "'qt_socios_st_regular',\n",
    "'qt_socios_st_suspensa',\n",
    "'vl_idade_maxima_socios_pj',\n",
    "'vl_idade_media_socios_pj',\n",
    "'vl_idade_minima_socios_pj',    \n",
    "]"
   ]
  },
  {
   "cell_type": "code",
   "execution_count": 13,
   "metadata": {},
   "outputs": [],
   "source": [
    "info_transporte = [\n",
    "'fl_antt',\n",
    "'fl_optante_simples',\n",
    "'fl_spa',\n",
    "'fl_veiculo',\n",
    "'qt_art',\n",
    "'vl_frota',\n",
    "'vl_potenc_cons_oleo_gas',\n",
    "'vl_total_veiculos_leves',\n",
    "'vl_total_veiculos_leves_grupo',\n",
    "'vl_total_veiculos_pesados',\n",
    "'vl_total_veiculos_pesados_grupo'    \n",
    "]"
   ]
  },
  {
   "cell_type": "code",
   "execution_count": 14,
   "metadata": {},
   "outputs": [],
   "source": [
    "info_tributaria = [\n",
    "'de_saude_rescencia',\n",
    "'de_saude_tributaria',\n",
    "'fl_optante_simei',\n",
    "'fl_passivel_iss',\n",
    "'fl_simples_irregular',\n",
    "'nu_meses_rescencia'\n",
    "]"
   ]
  },
  {
   "cell_type": "code",
   "execution_count": 15,
   "metadata": {},
   "outputs": [
    {
     "name": "stdout",
     "output_type": "stream",
     "text": "--Criando dataframe com as colunas--\n--Aplicando OneHotEnconding--\n--Aplicando MinMaxScaler--\n--split features target--\nfl_email             -0.896797\nfl_mei               -0.696124\nfl_telefone           0.614873\nidade_empresa_anos   -0.337426\nqt_filiais           -0.061322\n                        ...   \nsg_uf_AM             -0.464742\nsg_uf_MA             -0.617626\nsg_uf_PI             -0.445947\nsg_uf_RN             -0.521472\nsg_uf_RO             -0.373021\nLength: 144, dtype: float64\n--Aplicando Árvore--\n--Selecionando Modelo--\n"
    }
   ],
   "source": [
    "df_empresa = preprocessing(df_market,info_empresa,'median')"
   ]
  },
  {
   "cell_type": "code",
   "execution_count": 16,
   "metadata": {},
   "outputs": [
    {
     "data": {
      "text/html": "<div>\n<style scoped>\n    .dataframe tbody tr th:only-of-type {\n        vertical-align: middle;\n    }\n\n    .dataframe tbody tr th {\n        vertical-align: top;\n    }\n\n    .dataframe thead th {\n        text-align: right;\n    }\n</style>\n<table border=\"1\" class=\"dataframe\">\n  <thead>\n    <tr style=\"text-align: right;\">\n      <th></th>\n      <th>de_ramo_BENS DE CONSUMO</th>\n      <th>de_ramo_COMERCIO E REPARACAO DE VEICULOS</th>\n      <th>de_ramo_COMERCIO POR ATACADO</th>\n      <th>de_ramo_COMERCIO VAREJISTA</th>\n      <th>de_ramo_INDUSTRIA DA CONSTRUCAO</th>\n      <th>de_ramo_SERVICOS ADMINISTRATIVOS</th>\n      <th>de_ramo_SERVICOS DE ALOJAMENTO/ALIMENTACAO</th>\n      <th>de_ramo_SERVICOS DE EDUCACAO</th>\n      <th>de_ramo_SERVICOS DE SAUDE</th>\n      <th>de_ramo_SERVICOS DIVERSOS</th>\n      <th>...</th>\n      <th>nm_divisao_ALIMENTACAO</th>\n      <th>nm_divisao_ATIVIDADES DE ATENCAO A SAUDE HUMANA</th>\n      <th>nm_divisao_ATIVIDADES DE ORGANIZACOES ASSOCIATIVAS</th>\n      <th>nm_divisao_COMERCIO E REPARACAO DE VEICULOS AUTOMOTORES E MOTOCICLETAS</th>\n      <th>nm_divisao_COMERCIO POR ATACADO EXCETO VEICULOS AUTOMOTORES E MOTOCICLETAS</th>\n      <th>nm_divisao_COMERCIO VAREJISTA</th>\n      <th>nm_divisao_CONSTRUCAO DE EDIFICIOS</th>\n      <th>nm_divisao_EDUCACAO</th>\n      <th>nm_divisao_SERVICOS ESPECIALIZADOS PARA CONSTRUCAO</th>\n      <th>nm_divisao_TRANSPORTE TERRESTRE</th>\n    </tr>\n  </thead>\n  <tbody>\n    <tr>\n      <th>0</th>\n      <td>-0.219376</td>\n      <td>-0.225424</td>\n      <td>-0.192168</td>\n      <td>-0.771177</td>\n      <td>4.150573</td>\n      <td>-0.219912</td>\n      <td>-0.264276</td>\n      <td>-0.158368</td>\n      <td>-0.147073</td>\n      <td>-0.387366</td>\n      <td>...</td>\n      <td>-0.251685</td>\n      <td>-0.138767</td>\n      <td>-0.299197</td>\n      <td>-0.225424</td>\n      <td>-0.192168</td>\n      <td>-0.771177</td>\n      <td>6.890518</td>\n      <td>-0.158368</td>\n      <td>-0.178603</td>\n      <td>-0.159285</td>\n    </tr>\n    <tr>\n      <th>1</th>\n      <td>-0.219376</td>\n      <td>-0.225424</td>\n      <td>-0.192168</td>\n      <td>-0.771177</td>\n      <td>-0.240931</td>\n      <td>-0.219912</td>\n      <td>3.783917</td>\n      <td>-0.158368</td>\n      <td>-0.147073</td>\n      <td>-0.387366</td>\n      <td>...</td>\n      <td>3.973213</td>\n      <td>-0.138767</td>\n      <td>-0.299197</td>\n      <td>-0.225424</td>\n      <td>-0.192168</td>\n      <td>-0.771177</td>\n      <td>-0.145127</td>\n      <td>-0.158368</td>\n      <td>-0.178603</td>\n      <td>-0.159285</td>\n    </tr>\n    <tr>\n      <th>2</th>\n      <td>-0.219376</td>\n      <td>-0.225424</td>\n      <td>-0.192168</td>\n      <td>-0.771177</td>\n      <td>-0.240931</td>\n      <td>-0.219912</td>\n      <td>-0.264276</td>\n      <td>-0.158368</td>\n      <td>-0.147073</td>\n      <td>-0.387366</td>\n      <td>...</td>\n      <td>-0.251685</td>\n      <td>-0.138767</td>\n      <td>-0.299197</td>\n      <td>-0.225424</td>\n      <td>-0.192168</td>\n      <td>-0.771177</td>\n      <td>-0.145127</td>\n      <td>-0.158368</td>\n      <td>-0.178603</td>\n      <td>6.278073</td>\n    </tr>\n    <tr>\n      <th>3</th>\n      <td>-0.219376</td>\n      <td>-0.225424</td>\n      <td>-0.192168</td>\n      <td>-0.771177</td>\n      <td>-0.240931</td>\n      <td>-0.219912</td>\n      <td>-0.264276</td>\n      <td>-0.158368</td>\n      <td>-0.147073</td>\n      <td>2.581539</td>\n      <td>...</td>\n      <td>-0.251685</td>\n      <td>-0.138767</td>\n      <td>-0.299197</td>\n      <td>-0.225424</td>\n      <td>-0.192168</td>\n      <td>-0.771177</td>\n      <td>-0.145127</td>\n      <td>-0.158368</td>\n      <td>-0.178603</td>\n      <td>-0.159285</td>\n    </tr>\n    <tr>\n      <th>4</th>\n      <td>-0.219376</td>\n      <td>-0.225424</td>\n      <td>-0.192168</td>\n      <td>-0.771177</td>\n      <td>-0.240931</td>\n      <td>-0.219912</td>\n      <td>-0.264276</td>\n      <td>-0.158368</td>\n      <td>-0.147073</td>\n      <td>-0.387366</td>\n      <td>...</td>\n      <td>-0.251685</td>\n      <td>-0.138767</td>\n      <td>-0.299197</td>\n      <td>-0.225424</td>\n      <td>-0.192168</td>\n      <td>-0.771177</td>\n      <td>-0.145127</td>\n      <td>-0.158368</td>\n      <td>-0.178603</td>\n      <td>-0.159285</td>\n    </tr>\n    <tr>\n      <th>...</th>\n      <td>...</td>\n      <td>...</td>\n      <td>...</td>\n      <td>...</td>\n      <td>...</td>\n      <td>...</td>\n      <td>...</td>\n      <td>...</td>\n      <td>...</td>\n      <td>...</td>\n      <td>...</td>\n      <td>...</td>\n      <td>...</td>\n      <td>...</td>\n      <td>...</td>\n      <td>...</td>\n      <td>...</td>\n      <td>...</td>\n      <td>...</td>\n      <td>...</td>\n      <td>...</td>\n    </tr>\n    <tr>\n      <th>462293</th>\n      <td>-0.219376</td>\n      <td>4.436093</td>\n      <td>-0.192168</td>\n      <td>-0.771177</td>\n      <td>-0.240931</td>\n      <td>-0.219912</td>\n      <td>-0.264276</td>\n      <td>-0.158368</td>\n      <td>-0.147073</td>\n      <td>-0.387366</td>\n      <td>...</td>\n      <td>-0.251685</td>\n      <td>-0.138767</td>\n      <td>-0.299197</td>\n      <td>4.436093</td>\n      <td>-0.192168</td>\n      <td>-0.771177</td>\n      <td>-0.145127</td>\n      <td>-0.158368</td>\n      <td>-0.178603</td>\n      <td>-0.159285</td>\n    </tr>\n    <tr>\n      <th>462294</th>\n      <td>-0.219376</td>\n      <td>-0.225424</td>\n      <td>-0.192168</td>\n      <td>-0.771177</td>\n      <td>-0.240931</td>\n      <td>4.547271</td>\n      <td>-0.264276</td>\n      <td>-0.158368</td>\n      <td>-0.147073</td>\n      <td>-0.387366</td>\n      <td>...</td>\n      <td>-0.251685</td>\n      <td>-0.138767</td>\n      <td>-0.299197</td>\n      <td>-0.225424</td>\n      <td>-0.192168</td>\n      <td>-0.771177</td>\n      <td>-0.145127</td>\n      <td>-0.158368</td>\n      <td>-0.178603</td>\n      <td>-0.159285</td>\n    </tr>\n    <tr>\n      <th>462295</th>\n      <td>-0.219376</td>\n      <td>-0.225424</td>\n      <td>-0.192168</td>\n      <td>-0.771177</td>\n      <td>-0.240931</td>\n      <td>-0.219912</td>\n      <td>-0.264276</td>\n      <td>-0.158368</td>\n      <td>6.799346</td>\n      <td>-0.387366</td>\n      <td>...</td>\n      <td>-0.251685</td>\n      <td>7.206306</td>\n      <td>-0.299197</td>\n      <td>-0.225424</td>\n      <td>-0.192168</td>\n      <td>-0.771177</td>\n      <td>-0.145127</td>\n      <td>-0.158368</td>\n      <td>-0.178603</td>\n      <td>-0.159285</td>\n    </tr>\n    <tr>\n      <th>462296</th>\n      <td>-0.219376</td>\n      <td>-0.225424</td>\n      <td>-0.192168</td>\n      <td>1.296719</td>\n      <td>-0.240931</td>\n      <td>-0.219912</td>\n      <td>-0.264276</td>\n      <td>-0.158368</td>\n      <td>-0.147073</td>\n      <td>-0.387366</td>\n      <td>...</td>\n      <td>-0.251685</td>\n      <td>-0.138767</td>\n      <td>-0.299197</td>\n      <td>-0.225424</td>\n      <td>-0.192168</td>\n      <td>1.296719</td>\n      <td>-0.145127</td>\n      <td>-0.158368</td>\n      <td>-0.178603</td>\n      <td>-0.159285</td>\n    </tr>\n    <tr>\n      <th>462297</th>\n      <td>-0.219376</td>\n      <td>-0.225424</td>\n      <td>-0.192168</td>\n      <td>-0.771177</td>\n      <td>-0.240931</td>\n      <td>-0.219912</td>\n      <td>-0.264276</td>\n      <td>-0.158368</td>\n      <td>-0.147073</td>\n      <td>-0.387366</td>\n      <td>...</td>\n      <td>-0.251685</td>\n      <td>-0.138767</td>\n      <td>-0.299197</td>\n      <td>-0.225424</td>\n      <td>-0.192168</td>\n      <td>-0.771177</td>\n      <td>-0.145127</td>\n      <td>-0.158368</td>\n      <td>-0.178603</td>\n      <td>-0.159285</td>\n    </tr>\n  </tbody>\n</table>\n<p>462298 rows × 24 columns</p>\n</div>",
      "text/plain": "        de_ramo_BENS DE CONSUMO  de_ramo_COMERCIO E REPARACAO DE VEICULOS  \\\n0                     -0.219376                                 -0.225424   \n1                     -0.219376                                 -0.225424   \n2                     -0.219376                                 -0.225424   \n3                     -0.219376                                 -0.225424   \n4                     -0.219376                                 -0.225424   \n...                         ...                                       ...   \n462293                -0.219376                                  4.436093   \n462294                -0.219376                                 -0.225424   \n462295                -0.219376                                 -0.225424   \n462296                -0.219376                                 -0.225424   \n462297                -0.219376                                 -0.225424   \n\n        de_ramo_COMERCIO POR ATACADO  de_ramo_COMERCIO VAREJISTA  \\\n0                          -0.192168                   -0.771177   \n1                          -0.192168                   -0.771177   \n2                          -0.192168                   -0.771177   \n3                          -0.192168                   -0.771177   \n4                          -0.192168                   -0.771177   \n...                              ...                         ...   \n462293                     -0.192168                   -0.771177   \n462294                     -0.192168                   -0.771177   \n462295                     -0.192168                   -0.771177   \n462296                     -0.192168                    1.296719   \n462297                     -0.192168                   -0.771177   \n\n        de_ramo_INDUSTRIA DA CONSTRUCAO  de_ramo_SERVICOS ADMINISTRATIVOS  \\\n0                              4.150573                         -0.219912   \n1                             -0.240931                         -0.219912   \n2                             -0.240931                         -0.219912   \n3                             -0.240931                         -0.219912   \n4                             -0.240931                         -0.219912   \n...                                 ...                               ...   \n462293                        -0.240931                         -0.219912   \n462294                        -0.240931                          4.547271   \n462295                        -0.240931                         -0.219912   \n462296                        -0.240931                         -0.219912   \n462297                        -0.240931                         -0.219912   \n\n        de_ramo_SERVICOS DE ALOJAMENTO/ALIMENTACAO  \\\n0                                        -0.264276   \n1                                         3.783917   \n2                                        -0.264276   \n3                                        -0.264276   \n4                                        -0.264276   \n...                                            ...   \n462293                                   -0.264276   \n462294                                   -0.264276   \n462295                                   -0.264276   \n462296                                   -0.264276   \n462297                                   -0.264276   \n\n        de_ramo_SERVICOS DE EDUCACAO  de_ramo_SERVICOS DE SAUDE  \\\n0                          -0.158368                  -0.147073   \n1                          -0.158368                  -0.147073   \n2                          -0.158368                  -0.147073   \n3                          -0.158368                  -0.147073   \n4                          -0.158368                  -0.147073   \n...                              ...                        ...   \n462293                     -0.158368                  -0.147073   \n462294                     -0.158368                  -0.147073   \n462295                     -0.158368                   6.799346   \n462296                     -0.158368                  -0.147073   \n462297                     -0.158368                  -0.147073   \n\n        de_ramo_SERVICOS DIVERSOS  ...  nm_divisao_ALIMENTACAO  \\\n0                       -0.387366  ...               -0.251685   \n1                       -0.387366  ...                3.973213   \n2                       -0.387366  ...               -0.251685   \n3                        2.581539  ...               -0.251685   \n4                       -0.387366  ...               -0.251685   \n...                           ...  ...                     ...   \n462293                  -0.387366  ...               -0.251685   \n462294                  -0.387366  ...               -0.251685   \n462295                  -0.387366  ...               -0.251685   \n462296                  -0.387366  ...               -0.251685   \n462297                  -0.387366  ...               -0.251685   \n\n        nm_divisao_ATIVIDADES DE ATENCAO A SAUDE HUMANA  \\\n0                                             -0.138767   \n1                                             -0.138767   \n2                                             -0.138767   \n3                                             -0.138767   \n4                                             -0.138767   \n...                                                 ...   \n462293                                        -0.138767   \n462294                                        -0.138767   \n462295                                         7.206306   \n462296                                        -0.138767   \n462297                                        -0.138767   \n\n        nm_divisao_ATIVIDADES DE ORGANIZACOES ASSOCIATIVAS  \\\n0                                               -0.299197    \n1                                               -0.299197    \n2                                               -0.299197    \n3                                               -0.299197    \n4                                               -0.299197    \n...                                                   ...    \n462293                                          -0.299197    \n462294                                          -0.299197    \n462295                                          -0.299197    \n462296                                          -0.299197    \n462297                                          -0.299197    \n\n        nm_divisao_COMERCIO E REPARACAO DE VEICULOS AUTOMOTORES E MOTOCICLETAS  \\\n0                                               -0.225424                        \n1                                               -0.225424                        \n2                                               -0.225424                        \n3                                               -0.225424                        \n4                                               -0.225424                        \n...                                                   ...                        \n462293                                           4.436093                        \n462294                                          -0.225424                        \n462295                                          -0.225424                        \n462296                                          -0.225424                        \n462297                                          -0.225424                        \n\n        nm_divisao_COMERCIO POR ATACADO EXCETO VEICULOS AUTOMOTORES E MOTOCICLETAS  \\\n0                                               -0.192168                            \n1                                               -0.192168                            \n2                                               -0.192168                            \n3                                               -0.192168                            \n4                                               -0.192168                            \n...                                                   ...                            \n462293                                          -0.192168                            \n462294                                          -0.192168                            \n462295                                          -0.192168                            \n462296                                          -0.192168                            \n462297                                          -0.192168                            \n\n        nm_divisao_COMERCIO VAREJISTA  nm_divisao_CONSTRUCAO DE EDIFICIOS  \\\n0                           -0.771177                            6.890518   \n1                           -0.771177                           -0.145127   \n2                           -0.771177                           -0.145127   \n3                           -0.771177                           -0.145127   \n4                           -0.771177                           -0.145127   \n...                               ...                                 ...   \n462293                      -0.771177                           -0.145127   \n462294                      -0.771177                           -0.145127   \n462295                      -0.771177                           -0.145127   \n462296                       1.296719                           -0.145127   \n462297                      -0.771177                           -0.145127   \n\n        nm_divisao_EDUCACAO  \\\n0                 -0.158368   \n1                 -0.158368   \n2                 -0.158368   \n3                 -0.158368   \n4                 -0.158368   \n...                     ...   \n462293            -0.158368   \n462294            -0.158368   \n462295            -0.158368   \n462296            -0.158368   \n462297            -0.158368   \n\n        nm_divisao_SERVICOS ESPECIALIZADOS PARA CONSTRUCAO  \\\n0                                               -0.178603    \n1                                               -0.178603    \n2                                               -0.178603    \n3                                               -0.178603    \n4                                               -0.178603    \n...                                                   ...    \n462293                                          -0.178603    \n462294                                          -0.178603    \n462295                                          -0.178603    \n462296                                          -0.178603    \n462297                                          -0.178603    \n\n        nm_divisao_TRANSPORTE TERRESTRE  \n0                             -0.159285  \n1                             -0.159285  \n2                              6.278073  \n3                             -0.159285  \n4                             -0.159285  \n...                                 ...  \n462293                        -0.159285  \n462294                        -0.159285  \n462295                        -0.159285  \n462296                        -0.159285  \n462297                        -0.159285  \n\n[462298 rows x 24 columns]"
     },
     "execution_count": 16,
     "metadata": {},
     "output_type": "execute_result"
    }
   ],
   "source": [
    "df_empresa"
   ]
  },
  {
   "cell_type": "code",
   "execution_count": 17,
   "metadata": {},
   "outputs": [
    {
     "name": "stdout",
     "output_type": "stream",
     "text": "--Criando dataframe com as colunas--\n--Aplicando OneHotEnconding--\n--Aplicando MinMaxScaler--\n--split features target--\ngrau_instrucao_macro_escolaridade_fundamental   -0.018838\ngrau_instrucao_macro_escolaridade_media         -0.021175\ngrau_instrucao_macro_escolaridade_superior      -0.015292\nidade_acima_de_58                               -0.008358\nidade_ate_18                                    -0.014823\nidade_de_19_a_23                                -0.028852\nidade_de_24_a_28                                -0.035305\nidade_de_29_a_33                                -0.030454\nidade_de_34_a_38                                -0.027498\nidade_de_39_a_43                                -0.022178\nidade_de_44_a_48                                -0.016690\nidade_de_49_a_53                                -0.011137\nidade_de_54_a_58                                -0.008992\nmax_meses_servicos                              -0.050374\nmax_meses_servicos_all                          -0.074876\nmedia_meses_servicos                            -0.041098\nmedia_meses_servicos_all                        -0.055036\nmeses_ultima_contratacaco                       -0.049031\nmin_meses_servicos                              -0.042778\nmin_meses_servicos_all                          -0.047562\npercent_func_genero_fem                         -0.044418\npercent_func_genero_masc                         0.044418\nqt_admitidos                                    -0.042536\nqt_admitidos_12meses                            -0.056906\nqt_desligados                                   -0.054958\nqt_desligados_12meses                           -0.055957\nqt_ex_funcionarios                              -0.056385\nqt_funcionarios                                 -0.021950\nqt_funcionarios_12meses                         -0.021627\nqt_funcionarios_24meses                         -0.024330\nqt_funcionarios_grupo                           -0.039736\ntotal                                           -0.021385\ntx_crescimento_12meses                          -0.007569\ntx_crescimento_24meses                           0.005259\ntx_rotatividade                                 -0.154440\ndtype: float64\n--Aplicando Árvore--\n--Selecionando Modelo--\n"
    }
   ],
   "source": [
    "df_funcionarios = preprocessing(df_market,info_funcionarios,'median')"
   ]
  },
  {
   "cell_type": "code",
   "execution_count": 18,
   "metadata": {},
   "outputs": [
    {
     "data": {
      "text/html": "<div>\n<style scoped>\n    .dataframe tbody tr th:only-of-type {\n        vertical-align: middle;\n    }\n\n    .dataframe tbody tr th {\n        vertical-align: top;\n    }\n\n    .dataframe thead th {\n        text-align: right;\n    }\n</style>\n<table border=\"1\" class=\"dataframe\">\n  <thead>\n    <tr style=\"text-align: right;\">\n      <th></th>\n      <th>max_meses_servicos</th>\n      <th>max_meses_servicos_all</th>\n      <th>media_meses_servicos</th>\n      <th>media_meses_servicos_all</th>\n      <th>meses_ultima_contratacaco</th>\n      <th>min_meses_servicos</th>\n      <th>min_meses_servicos_all</th>\n      <th>qt_admitidos</th>\n      <th>qt_desligados</th>\n      <th>qt_ex_funcionarios</th>\n      <th>qt_funcionarios_grupo</th>\n    </tr>\n  </thead>\n  <tbody>\n    <tr>\n      <th>0</th>\n      <td>0.225283</td>\n      <td>0.055016</td>\n      <td>-0.037580</td>\n      <td>-0.200756</td>\n      <td>-0.238011</td>\n      <td>-0.122872</td>\n      <td>-0.135055</td>\n      <td>0.733125</td>\n      <td>1.135431</td>\n      <td>1.144956</td>\n      <td>-0.039391</td>\n    </tr>\n    <tr>\n      <th>1</th>\n      <td>-0.050374</td>\n      <td>-0.074876</td>\n      <td>-0.041098</td>\n      <td>-0.055036</td>\n      <td>-0.049031</td>\n      <td>-0.042778</td>\n      <td>-0.047562</td>\n      <td>-0.042536</td>\n      <td>-0.054958</td>\n      <td>-0.056385</td>\n      <td>-0.039736</td>\n    </tr>\n    <tr>\n      <th>2</th>\n      <td>-0.050374</td>\n      <td>-0.074876</td>\n      <td>-0.041098</td>\n      <td>-0.055036</td>\n      <td>-0.049031</td>\n      <td>-0.042778</td>\n      <td>-0.047562</td>\n      <td>-0.042536</td>\n      <td>-0.054958</td>\n      <td>-0.056385</td>\n      <td>-0.039736</td>\n    </tr>\n    <tr>\n      <th>3</th>\n      <td>-0.050374</td>\n      <td>-0.074876</td>\n      <td>-0.041098</td>\n      <td>-0.055036</td>\n      <td>-0.049031</td>\n      <td>-0.042778</td>\n      <td>-0.047562</td>\n      <td>-0.042536</td>\n      <td>-0.054958</td>\n      <td>-0.056385</td>\n      <td>-0.039736</td>\n    </tr>\n    <tr>\n      <th>4</th>\n      <td>-0.050374</td>\n      <td>-0.074876</td>\n      <td>-0.041098</td>\n      <td>-0.055036</td>\n      <td>-0.049031</td>\n      <td>-0.042778</td>\n      <td>-0.047562</td>\n      <td>-0.042536</td>\n      <td>-0.054958</td>\n      <td>-0.056385</td>\n      <td>-0.039736</td>\n    </tr>\n    <tr>\n      <th>...</th>\n      <td>...</td>\n      <td>...</td>\n      <td>...</td>\n      <td>...</td>\n      <td>...</td>\n      <td>...</td>\n      <td>...</td>\n      <td>...</td>\n      <td>...</td>\n      <td>...</td>\n      <td>...</td>\n    </tr>\n    <tr>\n      <th>462293</th>\n      <td>-0.050374</td>\n      <td>-0.074876</td>\n      <td>-0.041098</td>\n      <td>-0.055036</td>\n      <td>-0.049031</td>\n      <td>-0.042778</td>\n      <td>-0.047562</td>\n      <td>-0.042536</td>\n      <td>-0.054958</td>\n      <td>-0.056385</td>\n      <td>-0.039736</td>\n    </tr>\n    <tr>\n      <th>462294</th>\n      <td>-0.050374</td>\n      <td>-0.155895</td>\n      <td>-0.041098</td>\n      <td>-0.224101</td>\n      <td>0.706890</td>\n      <td>-0.042778</td>\n      <td>-0.067977</td>\n      <td>-0.059277</td>\n      <td>-0.065310</td>\n      <td>-0.056385</td>\n      <td>-0.039765</td>\n    </tr>\n    <tr>\n      <th>462295</th>\n      <td>-0.050374</td>\n      <td>-0.074876</td>\n      <td>-0.041098</td>\n      <td>-0.055036</td>\n      <td>-0.049031</td>\n      <td>-0.042778</td>\n      <td>-0.047562</td>\n      <td>-0.042536</td>\n      <td>-0.054958</td>\n      <td>-0.056385</td>\n      <td>-0.039736</td>\n    </tr>\n    <tr>\n      <th>462296</th>\n      <td>-0.418209</td>\n      <td>-0.186182</td>\n      <td>-0.557499</td>\n      <td>-0.254530</td>\n      <td>-0.522613</td>\n      <td>-0.455826</td>\n      <td>-0.076726</td>\n      <td>-0.042536</td>\n      <td>-0.065310</td>\n      <td>-0.056385</td>\n      <td>-0.039722</td>\n    </tr>\n    <tr>\n      <th>462297</th>\n      <td>-0.050374</td>\n      <td>-0.074876</td>\n      <td>-0.041098</td>\n      <td>-0.055036</td>\n      <td>-0.049031</td>\n      <td>-0.042778</td>\n      <td>-0.047562</td>\n      <td>-0.042536</td>\n      <td>-0.054958</td>\n      <td>-0.056385</td>\n      <td>-0.039736</td>\n    </tr>\n  </tbody>\n</table>\n<p>462298 rows × 11 columns</p>\n</div>",
      "text/plain": "        max_meses_servicos  max_meses_servicos_all  media_meses_servicos  \\\n0                 0.225283                0.055016             -0.037580   \n1                -0.050374               -0.074876             -0.041098   \n2                -0.050374               -0.074876             -0.041098   \n3                -0.050374               -0.074876             -0.041098   \n4                -0.050374               -0.074876             -0.041098   \n...                    ...                     ...                   ...   \n462293           -0.050374               -0.074876             -0.041098   \n462294           -0.050374               -0.155895             -0.041098   \n462295           -0.050374               -0.074876             -0.041098   \n462296           -0.418209               -0.186182             -0.557499   \n462297           -0.050374               -0.074876             -0.041098   \n\n        media_meses_servicos_all  meses_ultima_contratacaco  \\\n0                      -0.200756                  -0.238011   \n1                      -0.055036                  -0.049031   \n2                      -0.055036                  -0.049031   \n3                      -0.055036                  -0.049031   \n4                      -0.055036                  -0.049031   \n...                          ...                        ...   \n462293                 -0.055036                  -0.049031   \n462294                 -0.224101                   0.706890   \n462295                 -0.055036                  -0.049031   \n462296                 -0.254530                  -0.522613   \n462297                 -0.055036                  -0.049031   \n\n        min_meses_servicos  min_meses_servicos_all  qt_admitidos  \\\n0                -0.122872               -0.135055      0.733125   \n1                -0.042778               -0.047562     -0.042536   \n2                -0.042778               -0.047562     -0.042536   \n3                -0.042778               -0.047562     -0.042536   \n4                -0.042778               -0.047562     -0.042536   \n...                    ...                     ...           ...   \n462293           -0.042778               -0.047562     -0.042536   \n462294           -0.042778               -0.067977     -0.059277   \n462295           -0.042778               -0.047562     -0.042536   \n462296           -0.455826               -0.076726     -0.042536   \n462297           -0.042778               -0.047562     -0.042536   \n\n        qt_desligados  qt_ex_funcionarios  qt_funcionarios_grupo  \n0            1.135431            1.144956              -0.039391  \n1           -0.054958           -0.056385              -0.039736  \n2           -0.054958           -0.056385              -0.039736  \n3           -0.054958           -0.056385              -0.039736  \n4           -0.054958           -0.056385              -0.039736  \n...               ...                 ...                    ...  \n462293      -0.054958           -0.056385              -0.039736  \n462294      -0.065310           -0.056385              -0.039765  \n462295      -0.054958           -0.056385              -0.039736  \n462296      -0.065310           -0.056385              -0.039722  \n462297      -0.054958           -0.056385              -0.039736  \n\n[462298 rows x 11 columns]"
     },
     "execution_count": 18,
     "metadata": {},
     "output_type": "execute_result"
    }
   ],
   "source": [
    "df_funcionarios"
   ]
  },
  {
   "cell_type": "code",
   "execution_count": 19,
   "metadata": {},
   "outputs": [
    {
     "name": "stdout",
     "output_type": "stream",
     "text": "--Criando dataframe com as colunas--\n--Aplicando OneHotEnconding--\n--Aplicando MinMaxScaler--\n--split features target--\nidade_maxima_socios         -0.078981\nidade_media_socios          -0.052974\nidade_minima_socios         -0.088605\nqt_socios                   -0.130899\nqt_socios_feminino          -0.071013\nqt_socios_masculino         -0.080349\nqt_socios_pep               -0.038929\nqt_socios_pf                -0.126458\nqt_socios_pj                -0.087125\nqt_socios_pj_ativos         -0.047140\nqt_socios_pj_baixados       -0.010648\nqt_socios_pj_inaptos        -0.012093\nqt_socios_pj_nulos          -0.008449\nqt_socios_pj_suspensos      -0.006605\nqt_socios_st_regular        -0.124749\nqt_socios_st_suspensa       -0.017041\nvl_idade_maxima_socios_pj   -0.029443\nvl_idade_media_socios_pj    -0.029355\nvl_idade_minima_socios_pj   -0.028021\ndtype: float64\n--Aplicando Árvore--\n--Selecionando Modelo--\n"
    }
   ],
   "source": [
    "df_socios = preprocessing(df_market,info_socios,'median')"
   ]
  },
  {
   "cell_type": "code",
   "execution_count": 20,
   "metadata": {},
   "outputs": [
    {
     "data": {
      "text/html": "<div>\n<style scoped>\n    .dataframe tbody tr th:only-of-type {\n        vertical-align: middle;\n    }\n\n    .dataframe tbody tr th {\n        vertical-align: top;\n    }\n\n    .dataframe thead th {\n        text-align: right;\n    }\n</style>\n<table border=\"1\" class=\"dataframe\">\n  <thead>\n    <tr style=\"text-align: right;\">\n      <th></th>\n      <th>idade_maxima_socios</th>\n      <th>idade_media_socios</th>\n      <th>idade_minima_socios</th>\n      <th>qt_socios</th>\n      <th>qt_socios_pf</th>\n      <th>qt_socios_st_regular</th>\n    </tr>\n  </thead>\n  <tbody>\n    <tr>\n      <th>0</th>\n      <td>0.270745</td>\n      <td>0.140110</td>\n      <td>0.008677</td>\n      <td>0.220260</td>\n      <td>0.226767</td>\n      <td>0.348944</td>\n    </tr>\n    <tr>\n      <th>1</th>\n      <td>-1.477888</td>\n      <td>-1.501100</td>\n      <td>-1.353270</td>\n      <td>-0.130899</td>\n      <td>-0.126458</td>\n      <td>-0.124749</td>\n    </tr>\n    <tr>\n      <th>2</th>\n      <td>-1.040730</td>\n      <td>-1.018391</td>\n      <td>-0.866861</td>\n      <td>-0.130899</td>\n      <td>-0.126458</td>\n      <td>-0.124749</td>\n    </tr>\n    <tr>\n      <th>3</th>\n      <td>-0.691003</td>\n      <td>-0.632224</td>\n      <td>-0.477733</td>\n      <td>-0.130899</td>\n      <td>-0.126458</td>\n      <td>-0.124749</td>\n    </tr>\n    <tr>\n      <th>4</th>\n      <td>-0.078981</td>\n      <td>-0.052974</td>\n      <td>-0.088605</td>\n      <td>-0.130899</td>\n      <td>-0.126458</td>\n      <td>-0.124749</td>\n    </tr>\n    <tr>\n      <th>...</th>\n      <td>...</td>\n      <td>...</td>\n      <td>...</td>\n      <td>...</td>\n      <td>...</td>\n      <td>...</td>\n    </tr>\n    <tr>\n      <th>462293</th>\n      <td>-1.128161</td>\n      <td>-1.114933</td>\n      <td>-0.964143</td>\n      <td>-0.130899</td>\n      <td>-0.126458</td>\n      <td>-0.124749</td>\n    </tr>\n    <tr>\n      <th>462294</th>\n      <td>-0.078981</td>\n      <td>-0.052974</td>\n      <td>-0.088605</td>\n      <td>-0.130899</td>\n      <td>-0.126458</td>\n      <td>-0.124749</td>\n    </tr>\n    <tr>\n      <th>462295</th>\n      <td>2.631401</td>\n      <td>3.036363</td>\n      <td>3.218982</td>\n      <td>-0.130899</td>\n      <td>-0.126458</td>\n      <td>-0.124749</td>\n    </tr>\n    <tr>\n      <th>462296</th>\n      <td>-0.428708</td>\n      <td>-1.050572</td>\n      <td>-1.547834</td>\n      <td>1.273736</td>\n      <td>1.286443</td>\n      <td>0.822637</td>\n    </tr>\n    <tr>\n      <th>462297</th>\n      <td>0.008450</td>\n      <td>0.140110</td>\n      <td>0.300523</td>\n      <td>-0.130899</td>\n      <td>-0.126458</td>\n      <td>-0.124749</td>\n    </tr>\n  </tbody>\n</table>\n<p>462298 rows × 6 columns</p>\n</div>",
      "text/plain": "        idade_maxima_socios  idade_media_socios  idade_minima_socios  \\\n0                  0.270745            0.140110             0.008677   \n1                 -1.477888           -1.501100            -1.353270   \n2                 -1.040730           -1.018391            -0.866861   \n3                 -0.691003           -0.632224            -0.477733   \n4                 -0.078981           -0.052974            -0.088605   \n...                     ...                 ...                  ...   \n462293            -1.128161           -1.114933            -0.964143   \n462294            -0.078981           -0.052974            -0.088605   \n462295             2.631401            3.036363             3.218982   \n462296            -0.428708           -1.050572            -1.547834   \n462297             0.008450            0.140110             0.300523   \n\n        qt_socios  qt_socios_pf  qt_socios_st_regular  \n0        0.220260      0.226767              0.348944  \n1       -0.130899     -0.126458             -0.124749  \n2       -0.130899     -0.126458             -0.124749  \n3       -0.130899     -0.126458             -0.124749  \n4       -0.130899     -0.126458             -0.124749  \n...           ...           ...                   ...  \n462293  -0.130899     -0.126458             -0.124749  \n462294  -0.130899     -0.126458             -0.124749  \n462295  -0.130899     -0.126458             -0.124749  \n462296   1.273736      1.286443              0.822637  \n462297  -0.130899     -0.126458             -0.124749  \n\n[462298 rows x 6 columns]"
     },
     "execution_count": 20,
     "metadata": {},
     "output_type": "execute_result"
    }
   ],
   "source": [
    "df_socios"
   ]
  },
  {
   "cell_type": "code",
   "execution_count": 21,
   "metadata": {},
   "outputs": [
    {
     "name": "stdout",
     "output_type": "stream",
     "text": "--Criando dataframe com as colunas--\n--Aplicando OneHotEnconding--\n--Aplicando MinMaxScaler--\n--split features target--\nfl_optante_simples                 0.798397\nfl_spa                            -0.069259\nfl_veiculo                        -0.275490\nqt_art                            -0.017494\nvl_frota                          -0.031222\nvl_potenc_cons_oleo_gas           -0.013939\nvl_total_veiculos_leves           -0.033229\nvl_total_veiculos_leves_grupo     -0.040273\nvl_total_veiculos_pesados         -0.045381\nvl_total_veiculos_pesados_grupo   -0.049370\nfl_antt_False                      0.106690\nfl_antt_True                      -0.084480\ndtype: float64\n--Aplicando Árvore--\n--Selecionando Modelo--\n"
    }
   ],
   "source": [
    "df_transporte = preprocessing(df_market,info_transporte,'median')"
   ]
  },
  {
   "cell_type": "code",
   "execution_count": 22,
   "metadata": {},
   "outputs": [
    {
     "data": {
      "text/html": "<div>\n<style scoped>\n    .dataframe tbody tr th:only-of-type {\n        vertical-align: middle;\n    }\n\n    .dataframe tbody tr th {\n        vertical-align: top;\n    }\n\n    .dataframe thead th {\n        text-align: right;\n    }\n</style>\n<table border=\"1\" class=\"dataframe\">\n  <thead>\n    <tr style=\"text-align: right;\">\n      <th></th>\n      <th>fl_optante_simples</th>\n      <th>vl_frota</th>\n      <th>vl_total_veiculos_leves_grupo</th>\n      <th>vl_total_veiculos_pesados_grupo</th>\n    </tr>\n  </thead>\n  <tbody>\n    <tr>\n      <th>0</th>\n      <td>0.798397</td>\n      <td>-0.031222</td>\n      <td>-0.040273</td>\n      <td>-0.04937</td>\n    </tr>\n    <tr>\n      <th>1</th>\n      <td>0.798397</td>\n      <td>-0.031222</td>\n      <td>-0.040273</td>\n      <td>-0.04937</td>\n    </tr>\n    <tr>\n      <th>2</th>\n      <td>0.798397</td>\n      <td>-0.031222</td>\n      <td>-0.040273</td>\n      <td>-0.04937</td>\n    </tr>\n    <tr>\n      <th>3</th>\n      <td>0.798397</td>\n      <td>-0.031222</td>\n      <td>-0.040273</td>\n      <td>-0.04937</td>\n    </tr>\n    <tr>\n      <th>4</th>\n      <td>0.798397</td>\n      <td>-0.031222</td>\n      <td>-0.040273</td>\n      <td>-0.04937</td>\n    </tr>\n    <tr>\n      <th>...</th>\n      <td>...</td>\n      <td>...</td>\n      <td>...</td>\n      <td>...</td>\n    </tr>\n    <tr>\n      <th>462293</th>\n      <td>0.798397</td>\n      <td>-0.031222</td>\n      <td>-0.040273</td>\n      <td>-0.04937</td>\n    </tr>\n    <tr>\n      <th>462294</th>\n      <td>-1.252509</td>\n      <td>-0.031222</td>\n      <td>-0.040273</td>\n      <td>-0.04937</td>\n    </tr>\n    <tr>\n      <th>462295</th>\n      <td>-1.252509</td>\n      <td>-0.031222</td>\n      <td>-0.040273</td>\n      <td>-0.04937</td>\n    </tr>\n    <tr>\n      <th>462296</th>\n      <td>-1.252509</td>\n      <td>-0.031222</td>\n      <td>-0.040273</td>\n      <td>-0.04937</td>\n    </tr>\n    <tr>\n      <th>462297</th>\n      <td>0.798397</td>\n      <td>-0.031222</td>\n      <td>-0.040273</td>\n      <td>-0.04937</td>\n    </tr>\n  </tbody>\n</table>\n<p>462298 rows × 4 columns</p>\n</div>",
      "text/plain": "        fl_optante_simples  vl_frota  vl_total_veiculos_leves_grupo  \\\n0                 0.798397 -0.031222                      -0.040273   \n1                 0.798397 -0.031222                      -0.040273   \n2                 0.798397 -0.031222                      -0.040273   \n3                 0.798397 -0.031222                      -0.040273   \n4                 0.798397 -0.031222                      -0.040273   \n...                    ...       ...                            ...   \n462293            0.798397 -0.031222                      -0.040273   \n462294           -1.252509 -0.031222                      -0.040273   \n462295           -1.252509 -0.031222                      -0.040273   \n462296           -1.252509 -0.031222                      -0.040273   \n462297            0.798397 -0.031222                      -0.040273   \n\n        vl_total_veiculos_pesados_grupo  \n0                              -0.04937  \n1                              -0.04937  \n2                              -0.04937  \n3                              -0.04937  \n4                              -0.04937  \n...                                 ...  \n462293                         -0.04937  \n462294                         -0.04937  \n462295                         -0.04937  \n462296                         -0.04937  \n462297                         -0.04937  \n\n[462298 rows x 4 columns]"
     },
     "execution_count": 22,
     "metadata": {},
     "output_type": "execute_result"
    }
   ],
   "source": [
    "df_transporte"
   ]
  },
  {
   "cell_type": "code",
   "execution_count": 23,
   "metadata": {},
   "outputs": [
    {
     "name": "stdout",
     "output_type": "stream",
     "text": "--Criando dataframe com as colunas--\n--Aplicando OneHotEnconding--\n--Aplicando MinMaxScaler--\n--split features target--\nfl_optante_simei                    -0.786767\nfl_passivel_iss                      0.856510\nfl_simples_irregular                -0.070215\nnu_meses_rescencia                  -0.196535\nde_saude_rescencia_ACIMA DE 1 ANO    0.469168\nde_saude_rescencia_ATE 1 ANO        -0.299698\nde_saude_rescencia_ATE 3 MESES      -0.005303\nde_saude_rescencia_ATE 6 MESES      -0.005095\nde_saude_rescencia_SEM INFORMACAO   -0.265422\nde_saude_tributaria_AMARELO         -0.495214\nde_saude_tributaria_AZUL            -0.542868\nde_saude_tributaria_CINZA           -0.400923\nde_saude_tributaria_LARANJA         -0.291107\nde_saude_tributaria_VERDE           -0.677466\nde_saude_tributaria_VERMELHO        -0.110804\ndtype: float64\n--Aplicando Árvore--\n--Selecionando Modelo--\n"
    }
   ],
   "source": [
    "df_tributaria = preprocessing(df_market,info_tributaria,'median')"
   ]
  },
  {
   "cell_type": "code",
   "execution_count": 24,
   "metadata": {},
   "outputs": [
    {
     "data": {
      "text/html": "<div>\n<style scoped>\n    .dataframe tbody tr th:only-of-type {\n        vertical-align: middle;\n    }\n\n    .dataframe tbody tr th {\n        vertical-align: top;\n    }\n\n    .dataframe thead th {\n        text-align: right;\n    }\n</style>\n<table border=\"1\" class=\"dataframe\">\n  <thead>\n    <tr style=\"text-align: right;\">\n      <th></th>\n      <th>fl_passivel_iss</th>\n    </tr>\n  </thead>\n  <tbody>\n    <tr>\n      <th>0</th>\n      <td>0.856510</td>\n    </tr>\n    <tr>\n      <th>1</th>\n      <td>0.856510</td>\n    </tr>\n    <tr>\n      <th>2</th>\n      <td>0.856510</td>\n    </tr>\n    <tr>\n      <th>3</th>\n      <td>0.856510</td>\n    </tr>\n    <tr>\n      <th>4</th>\n      <td>0.856510</td>\n    </tr>\n    <tr>\n      <th>...</th>\n      <td>...</td>\n    </tr>\n    <tr>\n      <th>462293</th>\n      <td>-1.167529</td>\n    </tr>\n    <tr>\n      <th>462294</th>\n      <td>0.856510</td>\n    </tr>\n    <tr>\n      <th>462295</th>\n      <td>0.856510</td>\n    </tr>\n    <tr>\n      <th>462296</th>\n      <td>-1.167529</td>\n    </tr>\n    <tr>\n      <th>462297</th>\n      <td>0.856510</td>\n    </tr>\n  </tbody>\n</table>\n<p>462298 rows × 1 columns</p>\n</div>",
      "text/plain": "        fl_passivel_iss\n0              0.856510\n1              0.856510\n2              0.856510\n3              0.856510\n4              0.856510\n...                 ...\n462293        -1.167529\n462294         0.856510\n462295         0.856510\n462296        -1.167529\n462297         0.856510\n\n[462298 rows x 1 columns]"
     },
     "execution_count": 24,
     "metadata": {},
     "output_type": "execute_result"
    }
   ],
   "source": [
    "df_tributaria"
   ]
  },
  {
   "cell_type": "code",
   "execution_count": 25,
   "metadata": {},
   "outputs": [
    {
     "name": "stdout",
     "output_type": "stream",
     "text": "--Criando dataframe com as colunas--\n--Aplicando OneHotEnconding--\n--Aplicando MinMaxScaler--\n--split features target--\nempsetorcensitariofaixarendapopulacao            -0.254314\nnm_micro_regiao_AGLOMERACAO URBANA DE SAO LUIS   -0.331910\nnm_micro_regiao_AGRESTE POTIGUAR                 -0.092381\nnm_micro_regiao_ALTO MEARIM E GRAJAU             -0.097225\nnm_micro_regiao_ALTO MEDIO CANINDE               -0.097699\n                                                    ...   \nnm_micro_regiao_TEFE                             -0.054439\nnm_micro_regiao_TERESINA                         -0.281246\nnm_micro_regiao_UMARIZAL                         -0.054995\nnm_micro_regiao_VALE DO ACU                      -0.084843\nnm_micro_regiao_VALENCA DO PIAUI                 -0.063866\nLength: 74, dtype: float64\n--Aplicando Árvore--\n--Selecionando Modelo--\n"
    }
   ],
   "source": [
    "df_ibge = preprocessing(df_market,info_ibge,'median')"
   ]
  },
  {
   "cell_type": "code",
   "execution_count": 26,
   "metadata": {},
   "outputs": [
    {
     "data": {
      "text/html": "<div>\n<style scoped>\n    .dataframe tbody tr th:only-of-type {\n        vertical-align: middle;\n    }\n\n    .dataframe tbody tr th {\n        vertical-align: top;\n    }\n\n    .dataframe thead th {\n        text-align: right;\n    }\n</style>\n<table border=\"1\" class=\"dataframe\">\n  <thead>\n    <tr style=\"text-align: right;\">\n      <th></th>\n      <th>empsetorcensitariofaixarendapopulacao</th>\n      <th>nm_micro_regiao_NATAL</th>\n    </tr>\n  </thead>\n  <tbody>\n    <tr>\n      <th>0</th>\n      <td>-0.254314</td>\n      <td>2.981574</td>\n    </tr>\n    <tr>\n      <th>1</th>\n      <td>-0.742434</td>\n      <td>-0.335393</td>\n    </tr>\n    <tr>\n      <th>2</th>\n      <td>-0.492556</td>\n      <td>-0.335393</td>\n    </tr>\n    <tr>\n      <th>3</th>\n      <td>-0.735487</td>\n      <td>-0.335393</td>\n    </tr>\n    <tr>\n      <th>4</th>\n      <td>1.714882</td>\n      <td>2.981574</td>\n    </tr>\n    <tr>\n      <th>...</th>\n      <td>...</td>\n      <td>...</td>\n    </tr>\n    <tr>\n      <th>462293</th>\n      <td>-0.623201</td>\n      <td>-0.335393</td>\n    </tr>\n    <tr>\n      <th>462294</th>\n      <td>1.261091</td>\n      <td>-0.335393</td>\n    </tr>\n    <tr>\n      <th>462295</th>\n      <td>1.997660</td>\n      <td>-0.335393</td>\n    </tr>\n    <tr>\n      <th>462296</th>\n      <td>1.590694</td>\n      <td>-0.335393</td>\n    </tr>\n    <tr>\n      <th>462297</th>\n      <td>-0.254314</td>\n      <td>-0.335393</td>\n    </tr>\n  </tbody>\n</table>\n<p>462298 rows × 2 columns</p>\n</div>",
      "text/plain": "        empsetorcensitariofaixarendapopulacao  nm_micro_regiao_NATAL\n0                                   -0.254314               2.981574\n1                                   -0.742434              -0.335393\n2                                   -0.492556              -0.335393\n3                                   -0.735487              -0.335393\n4                                    1.714882               2.981574\n...                                       ...                    ...\n462293                              -0.623201              -0.335393\n462294                               1.261091              -0.335393\n462295                               1.997660              -0.335393\n462296                               1.590694              -0.335393\n462297                              -0.254314              -0.335393\n\n[462298 rows x 2 columns]"
     },
     "execution_count": 26,
     "metadata": {},
     "output_type": "execute_result"
    }
   ],
   "source": [
    "df_ibge"
   ]
  },
  {
   "cell_type": "code",
   "execution_count": 27,
   "metadata": {},
   "outputs": [
    {
     "name": "stdout",
     "output_type": "stream",
     "text": "--Criando dataframe com as colunas--\n--Aplicando OneHotEnconding--\n--Aplicando MinMaxScaler--\n--split features target--\ncoligada_mais_antiga_ativa                                                     -0.075640\ncoligada_mais_nova_ativa                                                       -0.109030\nfaturamento_est_coligados                                                      -0.031648\nfaturamento_est_coligados_gp                                                   -0.033168\nidade_maxima_coligadas                                                         -0.075877\n                                                                                  ...   \nde_faixa_faturamento_estimado_grupo_DE R$ 300.000.000,01 A R$ 500.000.000,00   -0.033622\nde_faixa_faturamento_estimado_grupo_DE R$ 360.000,01 A R$ 1.500.000,00         -0.361731\nde_faixa_faturamento_estimado_grupo_DE R$ 4.800.000,01 A R$ 10.000.000,00      -0.094069\nde_faixa_faturamento_estimado_grupo_DE R$ 500.000.000,01 A 1 BILHAO DE REAIS   -0.038268\nde_faixa_faturamento_estimado_grupo_DE R$ 81.000,01 A R$ 360.000,00             0.911122\nLength: 90, dtype: float64\n--Aplicando Árvore--\n--Selecionando Modelo--\n"
    }
   ],
   "source": [
    "df_filiais = preprocessing(df_market,info_filiais,'median')"
   ]
  },
  {
   "cell_type": "code",
   "execution_count": 32,
   "metadata": {},
   "outputs": [
    {
     "data": {
      "text/html": "<div>\n<style scoped>\n    .dataframe tbody tr th:only-of-type {\n        vertical-align: middle;\n    }\n\n    .dataframe tbody tr th {\n        vertical-align: top;\n    }\n\n    .dataframe thead th {\n        text-align: right;\n    }\n</style>\n<table border=\"1\" class=\"dataframe\">\n  <thead>\n    <tr style=\"text-align: right;\">\n      <th></th>\n      <th>coligada_mais_antiga_ativa</th>\n      <th>coligada_mais_nova_ativa</th>\n      <th>faturamento_est_coligados</th>\n      <th>idade_maxima_coligadas</th>\n      <th>idade_media_coligadas</th>\n      <th>idade_media_coligadas_ativas</th>\n      <th>idade_minima_coligadas</th>\n      <th>qt_coligados_ccivil</th>\n      <th>qt_coligados_comercio</th>\n      <th>qt_coligados_nordeste</th>\n      <th>qt_coligados_norte</th>\n      <th>qt_coligados_serviço</th>\n      <th>qt_socios_coligados</th>\n      <th>vl_faturamento_estimado_aux</th>\n      <th>vl_faturamento_estimado_grupo_aux</th>\n    </tr>\n  </thead>\n  <tbody>\n    <tr>\n      <th>0</th>\n      <td>5.344794</td>\n      <td>-0.619528</td>\n      <td>-0.026242</td>\n      <td>5.337651</td>\n      <td>1.970376</td>\n      <td>1.973030</td>\n      <td>-0.625665</td>\n      <td>-0.0254</td>\n      <td>0.396263</td>\n      <td>1.759901</td>\n      <td>-0.102516</td>\n      <td>0.877578</td>\n      <td>0.192194</td>\n      <td>0.078677</td>\n      <td>-0.045443</td>\n    </tr>\n    <tr>\n      <th>1</th>\n      <td>-0.075640</td>\n      <td>-0.109030</td>\n      <td>-0.031648</td>\n      <td>-0.075877</td>\n      <td>-0.079706</td>\n      <td>-0.079713</td>\n      <td>-0.108567</td>\n      <td>-0.0254</td>\n      <td>-0.078571</td>\n      <td>-0.064214</td>\n      <td>-0.102516</td>\n      <td>-0.063860</td>\n      <td>-0.052568</td>\n      <td>-0.018523</td>\n      <td>-0.045866</td>\n    </tr>\n    <tr>\n      <th>2</th>\n      <td>-0.075640</td>\n      <td>-0.109030</td>\n      <td>-0.031648</td>\n      <td>-0.075877</td>\n      <td>-0.079706</td>\n      <td>-0.079713</td>\n      <td>-0.108567</td>\n      <td>-0.0254</td>\n      <td>-0.078571</td>\n      <td>-0.064214</td>\n      <td>-0.102516</td>\n      <td>-0.063860</td>\n      <td>-0.052568</td>\n      <td>-0.023845</td>\n      <td>-0.045890</td>\n    </tr>\n    <tr>\n      <th>3</th>\n      <td>-0.075640</td>\n      <td>-0.109030</td>\n      <td>-0.031648</td>\n      <td>-0.075877</td>\n      <td>-0.079706</td>\n      <td>-0.079713</td>\n      <td>-0.108567</td>\n      <td>-0.0254</td>\n      <td>-0.078571</td>\n      <td>-0.064214</td>\n      <td>-0.102516</td>\n      <td>-0.063860</td>\n      <td>-0.052568</td>\n      <td>-0.018523</td>\n      <td>-0.045866</td>\n    </tr>\n    <tr>\n      <th>4</th>\n      <td>-0.075640</td>\n      <td>-0.109030</td>\n      <td>-0.031648</td>\n      <td>-0.075877</td>\n      <td>-0.079706</td>\n      <td>-0.079713</td>\n      <td>-0.108567</td>\n      <td>-0.0254</td>\n      <td>-0.078571</td>\n      <td>-0.064214</td>\n      <td>-0.102516</td>\n      <td>-0.063860</td>\n      <td>-0.052568</td>\n      <td>-0.018523</td>\n      <td>-0.045866</td>\n    </tr>\n    <tr>\n      <th>...</th>\n      <td>...</td>\n      <td>...</td>\n      <td>...</td>\n      <td>...</td>\n      <td>...</td>\n      <td>...</td>\n      <td>...</td>\n      <td>...</td>\n      <td>...</td>\n      <td>...</td>\n      <td>...</td>\n      <td>...</td>\n      <td>...</td>\n      <td>...</td>\n      <td>...</td>\n    </tr>\n    <tr>\n      <th>462293</th>\n      <td>-0.075640</td>\n      <td>-0.109030</td>\n      <td>-0.031648</td>\n      <td>-0.075877</td>\n      <td>-0.079706</td>\n      <td>-0.079713</td>\n      <td>-0.108567</td>\n      <td>-0.0254</td>\n      <td>-0.078571</td>\n      <td>-0.064214</td>\n      <td>-0.102516</td>\n      <td>-0.063860</td>\n      <td>-0.052568</td>\n      <td>-0.023845</td>\n      <td>-0.045890</td>\n    </tr>\n    <tr>\n      <th>462294</th>\n      <td>-0.075640</td>\n      <td>-0.109030</td>\n      <td>-0.031648</td>\n      <td>-0.075877</td>\n      <td>-0.079706</td>\n      <td>-0.079713</td>\n      <td>-0.108567</td>\n      <td>-0.0254</td>\n      <td>-0.078571</td>\n      <td>-0.064214</td>\n      <td>-0.102516</td>\n      <td>-0.063860</td>\n      <td>-0.052568</td>\n      <td>-0.018523</td>\n      <td>-0.045866</td>\n    </tr>\n    <tr>\n      <th>462295</th>\n      <td>1.721157</td>\n      <td>5.314112</td>\n      <td>-0.031680</td>\n      <td>1.717574</td>\n      <td>4.073266</td>\n      <td>4.075430</td>\n      <td>5.311062</td>\n      <td>-0.0254</td>\n      <td>-0.078571</td>\n      <td>-0.064214</td>\n      <td>-0.102516</td>\n      <td>-0.063860</td>\n      <td>-0.093362</td>\n      <td>-0.018523</td>\n      <td>-0.045866</td>\n    </tr>\n    <tr>\n      <th>462296</th>\n      <td>6.528076</td>\n      <td>-1.933365</td>\n      <td>0.012769</td>\n      <td>6.519770</td>\n      <td>-1.737223</td>\n      <td>-1.733706</td>\n      <td>-1.940186</td>\n      <td>-0.0254</td>\n      <td>88.240598</td>\n      <td>-0.429037</td>\n      <td>31.676542</td>\n      <td>0.642218</td>\n      <td>7.779820</td>\n      <td>-0.011114</td>\n      <td>-0.045834</td>\n    </tr>\n    <tr>\n      <th>462297</th>\n      <td>-0.075640</td>\n      <td>-0.109030</td>\n      <td>-0.031648</td>\n      <td>-0.075877</td>\n      <td>-0.079706</td>\n      <td>-0.079713</td>\n      <td>-0.108567</td>\n      <td>-0.0254</td>\n      <td>-0.078571</td>\n      <td>-0.064214</td>\n      <td>-0.102516</td>\n      <td>-0.063860</td>\n      <td>-0.052568</td>\n      <td>-0.018523</td>\n      <td>-0.045866</td>\n    </tr>\n  </tbody>\n</table>\n<p>462298 rows × 15 columns</p>\n</div>",
      "text/plain": "        coligada_mais_antiga_ativa  coligada_mais_nova_ativa  \\\n0                         5.344794                 -0.619528   \n1                        -0.075640                 -0.109030   \n2                        -0.075640                 -0.109030   \n3                        -0.075640                 -0.109030   \n4                        -0.075640                 -0.109030   \n...                            ...                       ...   \n462293                   -0.075640                 -0.109030   \n462294                   -0.075640                 -0.109030   \n462295                    1.721157                  5.314112   \n462296                    6.528076                 -1.933365   \n462297                   -0.075640                 -0.109030   \n\n        faturamento_est_coligados  idade_maxima_coligadas  \\\n0                       -0.026242                5.337651   \n1                       -0.031648               -0.075877   \n2                       -0.031648               -0.075877   \n3                       -0.031648               -0.075877   \n4                       -0.031648               -0.075877   \n...                           ...                     ...   \n462293                  -0.031648               -0.075877   \n462294                  -0.031648               -0.075877   \n462295                  -0.031680                1.717574   \n462296                   0.012769                6.519770   \n462297                  -0.031648               -0.075877   \n\n        idade_media_coligadas  idade_media_coligadas_ativas  \\\n0                    1.970376                      1.973030   \n1                   -0.079706                     -0.079713   \n2                   -0.079706                     -0.079713   \n3                   -0.079706                     -0.079713   \n4                   -0.079706                     -0.079713   \n...                       ...                           ...   \n462293              -0.079706                     -0.079713   \n462294              -0.079706                     -0.079713   \n462295               4.073266                      4.075430   \n462296              -1.737223                     -1.733706   \n462297              -0.079706                     -0.079713   \n\n        idade_minima_coligadas  qt_coligados_ccivil  qt_coligados_comercio  \\\n0                    -0.625665              -0.0254               0.396263   \n1                    -0.108567              -0.0254              -0.078571   \n2                    -0.108567              -0.0254              -0.078571   \n3                    -0.108567              -0.0254              -0.078571   \n4                    -0.108567              -0.0254              -0.078571   \n...                        ...                  ...                    ...   \n462293               -0.108567              -0.0254              -0.078571   \n462294               -0.108567              -0.0254              -0.078571   \n462295                5.311062              -0.0254              -0.078571   \n462296               -1.940186              -0.0254              88.240598   \n462297               -0.108567              -0.0254              -0.078571   \n\n        qt_coligados_nordeste  qt_coligados_norte  qt_coligados_serviço  \\\n0                    1.759901           -0.102516              0.877578   \n1                   -0.064214           -0.102516             -0.063860   \n2                   -0.064214           -0.102516             -0.063860   \n3                   -0.064214           -0.102516             -0.063860   \n4                   -0.064214           -0.102516             -0.063860   \n...                       ...                 ...                   ...   \n462293              -0.064214           -0.102516             -0.063860   \n462294              -0.064214           -0.102516             -0.063860   \n462295              -0.064214           -0.102516             -0.063860   \n462296              -0.429037           31.676542              0.642218   \n462297              -0.064214           -0.102516             -0.063860   \n\n        qt_socios_coligados  vl_faturamento_estimado_aux  \\\n0                  0.192194                     0.078677   \n1                 -0.052568                    -0.018523   \n2                 -0.052568                    -0.023845   \n3                 -0.052568                    -0.018523   \n4                 -0.052568                    -0.018523   \n...                     ...                          ...   \n462293            -0.052568                    -0.023845   \n462294            -0.052568                    -0.018523   \n462295            -0.093362                    -0.018523   \n462296             7.779820                    -0.011114   \n462297            -0.052568                    -0.018523   \n\n        vl_faturamento_estimado_grupo_aux  \n0                               -0.045443  \n1                               -0.045866  \n2                               -0.045890  \n3                               -0.045866  \n4                               -0.045866  \n...                                   ...  \n462293                          -0.045890  \n462294                          -0.045866  \n462295                          -0.045866  \n462296                          -0.045834  \n462297                          -0.045866  \n\n[462298 rows x 15 columns]"
     },
     "execution_count": 32,
     "metadata": {},
     "output_type": "execute_result"
    }
   ],
   "source": [
    "df_filiais"
   ]
  },
  {
   "cell_type": "code",
   "execution_count": 33,
   "metadata": {},
   "outputs": [],
   "source": [
    "df_train = df_tributaria.join(df_empresa).join(df_transporte).join(df_socios).join(df_funcionarios).join(df_ibge).join(df_filiais)\n",
    "df_train['id'] = df_market.index"
   ]
  },
  {
   "cell_type": "code",
   "execution_count": 34,
   "metadata": {},
   "outputs": [
    {
     "data": {
      "text/plain": "(462298, 64)"
     },
     "execution_count": 34,
     "metadata": {},
     "output_type": "execute_result"
    }
   ],
   "source": [
    "df_train.shape"
   ]
  },
  {
   "cell_type": "markdown",
   "metadata": {},
   "source": [
    "### Teste do KNN com a seleção de features utilizando modelo de classificação"
   ]
  },
  {
   "cell_type": "code",
   "execution_count": 49,
   "metadata": {},
   "outputs": [
    {
     "name": "stdout",
     "output_type": "stream",
     "text": "(566, 2)\n(170, 64)\n(396, 64)\n"
    }
   ],
   "source": [
    "df_portfolio = pd.read_csv('../data/estaticos_portfolio2.csv')\n",
    "print(df_portfolio.shape)\n",
    "df_portfolio = df_train[df_train['id'].isin(df_portfolio['id'])]\n",
    "train,test = train_test_split(df_portfolio,test_size=0.3,shuffle=True)\n",
    "print(test.shape)\n",
    "print(train.shape)"
   ]
  },
  {
   "cell_type": "code",
   "execution_count": 54,
   "metadata": {},
   "outputs": [
    {
     "name": "stdout",
     "output_type": "stream",
     "text": "Total de Recomendações Corretas: 104\nTotal de Recomendações Corretas: 104\nTotal de Recomendações Corretas: 104\nTotal de Recomendações Corretas: 105\nTotal de Recomendações Corretas: 105\nTotal de Recomendações Corretas: 105\nTotal de Recomendações Corretas: 107\nTotal de Recomendações Corretas: 107\nTotal de Recomendações Corretas: 107\nTotal de Recomendações Corretas: 109\nTotal de Recomendações Corretas: 109\nTotal de Recomendações Corretas: 109\nTotal de Recomendações Corretas: 113\nTotal de Recomendações Corretas: 113\nTotal de Recomendações Corretas: 113\nTotal de Recomendações Corretas: 118\nTotal de Recomendações Corretas: 118\nTotal de Recomendações Corretas: 118\nTotal de Recomendações Corretas: 118\nTotal de Recomendações Corretas: 118\nTotal de Recomendações Corretas: 118\nTotal de Recomendações Corretas: 120\nTotal de Recomendações Corretas: 120\nTotal de Recomendações Corretas: 120\nTotal de Recomendações Corretas: 121\nTotal de Recomendações Corretas: 121\nTotal de Recomendações Corretas: 121\nTotal de Recomendações Corretas: 122\nTotal de Recomendações Corretas: 122\nTotal de Recomendações Corretas: 122\n"
    }
   ],
   "source": [
    "#treino do modelo\n",
    "ac = list()\n",
    "pr = list()\n",
    "re = list()\n",
    "k_n = np.arange(10,20,1)\n",
    "for k in k_n:\n",
    "    model_knn = NearestNeighbors(metric='cosine',algorithm='brute',n_neighbors=k,n_jobs=-1)\n",
    "    model_knn = model_knn.fit(df_train.drop('id',axis=1))\n",
    "    idx_rec = recommender(train.drop('id',axis=1),df_train,model_knn)\n",
    "    ac.append(get_metrics(test['id'],idx_rec)[0])\n",
    "    pr.append(get_metrics(test['id'],idx_rec)[1])\n",
    "    re.append(get_metrics(test['id'],idx_rec)[2])"
   ]
  },
  {
   "cell_type": "code",
   "execution_count": 55,
   "metadata": {},
   "outputs": [],
   "source": [
    "df_metrics = pd.DataFrame({\n",
    "    'Accuracy':ac,\n",
    "    'Precision':pr,\n",
    "    'Recall':re\n",
    "})"
   ]
  },
  {
   "cell_type": "code",
   "execution_count": 56,
   "metadata": {},
   "outputs": [
    {
     "data": {
      "text/plain": "<matplotlib.axes._subplots.AxesSubplot at 0x138674f90>"
     },
     "execution_count": 56,
     "metadata": {},
     "output_type": "execute_result"
    },
    {
     "data": {
      "image/png": "[encoded data removed]",
      "image/svg+xml": "<?xml version=\"1.0\" encoding=\"utf-8\" standalone=\"no\"?>\n<!DOCTYPE svg PUBLIC \"-//W3C//DTD SVG 1.1//EN\"\n  \"http://www.w3.org/Graphics/SVG/1.1/DTD/svg11.dtd\">\n<!-- Created with matplotlib (https://matplotlib.org/) -->\n<svg height=\"574.678125pt\" version=\"1.1\" viewBox=\"0 0 874.303125 574.678125\" width=\"874.303125pt\" xmlns=\"http://www.w3.org/2000/svg\" xmlns:xlink=\"http://www.w3.org/1999/xlink\">\n <defs>\n  <style type=\"text/css\">\n*{stroke-linecap:butt;stroke-linejoin:round;}\n  </style>\n </defs>\n <g id=\"figure_1\">\n  <g id=\"patch_1\">\n   <path d=\"M 0 574.678125 \nL 874.303125 574.678125 \nL 874.303125 0 \nL 0 0 \nz\n\" style=\"fill:none;\"/>\n  </g>\n  <g id=\"axes_1\">\n   <g id=\"patch_2\">\n    <path d=\"M 30.103125 550.8 \nL 867.103125 550.8 \nL 867.103125 7.2 \nL 30.103125 7.2 \nz\n\" style=\"fill:#ffffff;\"/>\n   </g>\n   <g id=\"matplotlib.axis_1\">\n    <g id=\"xtick_1\">\n     <g id=\"line2d_1\">\n      <defs>\n       <path d=\"M 0 0 \nL 0 3.5 \n\" id=\"m157ff242f5\" style=\"stroke:#000000;stroke-width:0.8;\"/>\n      </defs>\n      <g>\n       <use style=\"stroke:#000000;stroke-width:0.8;\" x=\"68.14858\" xlink:href=\"#m157ff242f5\" y=\"550.8\"/>\n      </g>\n     </g>\n     <g id=\"text_1\">\n      <!-- 0 -->\n      <defs>\n       <path d=\"M 31.78125 66.40625 \nQ 24.171875 66.40625 20.328125 58.90625 \nQ 16.5 51.421875 16.5 36.375 \nQ 16.5 21.390625 20.328125 13.890625 \nQ 24.171875 6.390625 31.78125 6.390625 \nQ 39.453125 6.390625 43.28125 13.890625 \nQ 47.125 21.390625 47.125 36.375 \nQ 47.125 51.421875 43.28125 58.90625 \nQ 39.453125 66.40625 31.78125 66.40625 \nz\nM 31.78125 74.21875 \nQ 44.046875 74.21875 50.515625 64.515625 \nQ 56.984375 54.828125 56.984375 36.375 \nQ 56.984375 17.96875 50.515625 8.265625 \nQ 44.046875 -1.421875 31.78125 -1.421875 \nQ 19.53125 -1.421875 13.0625 8.265625 \nQ 6.59375 17.96875 6.59375 36.375 \nQ 6.59375 54.828125 13.0625 64.515625 \nQ 19.53125 74.21875 31.78125 74.21875 \nz\n\" id=\"DejaVuSans-48\"/>\n      </defs>\n      <g transform=\"translate(64.96733 565.398438)scale(0.1 -0.1)\">\n       <use xlink:href=\"#DejaVuSans-48\"/>\n      </g>\n     </g>\n    </g>\n    <g id=\"xtick_2\">\n     <g id=\"line2d_2\">\n      <g>\n       <use style=\"stroke:#000000;stroke-width:0.8;\" x=\"237.239489\" xlink:href=\"#m157ff242f5\" y=\"550.8\"/>\n      </g>\n     </g>\n     <g id=\"text_2\">\n      <!-- 2 -->\n      <defs>\n       <path d=\"M 19.1875 8.296875 \nL 53.609375 8.296875 \nL 53.609375 0 \nL 7.328125 0 \nL 7.328125 8.296875 \nQ 12.9375 14.109375 22.625 23.890625 \nQ 32.328125 33.6875 34.8125 36.53125 \nQ 39.546875 41.84375 41.421875 45.53125 \nQ 43.3125 49.21875 43.3125 52.78125 \nQ 43.3125 58.59375 39.234375 62.25 \nQ 35.15625 65.921875 28.609375 65.921875 \nQ 23.96875 65.921875 18.8125 64.3125 \nQ 13.671875 62.703125 7.8125 59.421875 \nL 7.8125 69.390625 \nQ 13.765625 71.78125 18.9375 73 \nQ 24.125 74.21875 28.421875 74.21875 \nQ 39.75 74.21875 46.484375 68.546875 \nQ 53.21875 62.890625 53.21875 53.421875 \nQ 53.21875 48.921875 51.53125 44.890625 \nQ 49.859375 40.875 45.40625 35.40625 \nQ 44.1875 33.984375 37.640625 27.21875 \nQ 31.109375 20.453125 19.1875 8.296875 \nz\n\" id=\"DejaVuSans-50\"/>\n      </defs>\n      <g transform=\"translate(234.058239 565.398438)scale(0.1 -0.1)\">\n       <use xlink:href=\"#DejaVuSans-50\"/>\n      </g>\n     </g>\n    </g>\n    <g id=\"xtick_3\">\n     <g id=\"line2d_3\">\n      <g>\n       <use style=\"stroke:#000000;stroke-width:0.8;\" x=\"406.330398\" xlink:href=\"#m157ff242f5\" y=\"550.8\"/>\n      </g>\n     </g>\n     <g id=\"text_3\">\n      <!-- 4 -->\n      <defs>\n       <path d=\"M 37.796875 64.3125 \nL 12.890625 25.390625 \nL 37.796875 25.390625 \nz\nM 35.203125 72.90625 \nL 47.609375 72.90625 \nL 47.609375 25.390625 \nL 58.015625 25.390625 \nL 58.015625 17.1875 \nL 47.609375 17.1875 \nL 47.609375 0 \nL 37.796875 0 \nL 37.796875 17.1875 \nL 4.890625 17.1875 \nL 4.890625 26.703125 \nz\n\" id=\"DejaVuSans-52\"/>\n      </defs>\n      <g transform=\"translate(403.149148 565.398438)scale(0.1 -0.1)\">\n       <use xlink:href=\"#DejaVuSans-52\"/>\n      </g>\n     </g>\n    </g>\n    <g id=\"xtick_4\">\n     <g id=\"line2d_4\">\n      <g>\n       <use style=\"stroke:#000000;stroke-width:0.8;\" x=\"575.421307\" xlink:href=\"#m157ff242f5\" y=\"550.8\"/>\n      </g>\n     </g>\n     <g id=\"text_4\">\n      <!-- 6 -->\n      <defs>\n       <path d=\"M 33.015625 40.375 \nQ 26.375 40.375 22.484375 35.828125 \nQ 18.609375 31.296875 18.609375 23.390625 \nQ 18.609375 15.53125 22.484375 10.953125 \nQ 26.375 6.390625 33.015625 6.390625 \nQ 39.65625 6.390625 43.53125 10.953125 \nQ 47.40625 15.53125 47.40625 23.390625 \nQ 47.40625 31.296875 43.53125 35.828125 \nQ 39.65625 40.375 33.015625 40.375 \nz\nM 52.59375 71.296875 \nL 52.59375 62.3125 \nQ 48.875 64.0625 45.09375 64.984375 \nQ 41.3125 65.921875 37.59375 65.921875 \nQ 27.828125 65.921875 22.671875 59.328125 \nQ 17.53125 52.734375 16.796875 39.40625 \nQ 19.671875 43.65625 24.015625 45.921875 \nQ 28.375 48.1875 33.59375 48.1875 \nQ 44.578125 48.1875 50.953125 41.515625 \nQ 57.328125 34.859375 57.328125 23.390625 \nQ 57.328125 12.15625 50.6875 5.359375 \nQ 44.046875 -1.421875 33.015625 -1.421875 \nQ 20.359375 -1.421875 13.671875 8.265625 \nQ 6.984375 17.96875 6.984375 36.375 \nQ 6.984375 53.65625 15.1875 63.9375 \nQ 23.390625 74.21875 37.203125 74.21875 \nQ 40.921875 74.21875 44.703125 73.484375 \nQ 48.484375 72.75 52.59375 71.296875 \nz\n\" id=\"DejaVuSans-54\"/>\n      </defs>\n      <g transform=\"translate(572.240057 565.398438)scale(0.1 -0.1)\">\n       <use xlink:href=\"#DejaVuSans-54\"/>\n      </g>\n     </g>\n    </g>\n    <g id=\"xtick_5\">\n     <g id=\"line2d_5\">\n      <g>\n       <use style=\"stroke:#000000;stroke-width:0.8;\" x=\"744.512216\" xlink:href=\"#m157ff242f5\" y=\"550.8\"/>\n      </g>\n     </g>\n     <g id=\"text_5\">\n      <!-- 8 -->\n      <defs>\n       <path d=\"M 31.78125 34.625 \nQ 24.75 34.625 20.71875 30.859375 \nQ 16.703125 27.09375 16.703125 20.515625 \nQ 16.703125 13.921875 20.71875 10.15625 \nQ 24.75 6.390625 31.78125 6.390625 \nQ 38.8125 6.390625 42.859375 10.171875 \nQ 46.921875 13.96875 46.921875 20.515625 \nQ 46.921875 27.09375 42.890625 30.859375 \nQ 38.875 34.625 31.78125 34.625 \nz\nM 21.921875 38.8125 \nQ 15.578125 40.375 12.03125 44.71875 \nQ 8.5 49.078125 8.5 55.328125 \nQ 8.5 64.0625 14.71875 69.140625 \nQ 20.953125 74.21875 31.78125 74.21875 \nQ 42.671875 74.21875 48.875 69.140625 \nQ 55.078125 64.0625 55.078125 55.328125 \nQ 55.078125 49.078125 51.53125 44.71875 \nQ 48 40.375 41.703125 38.8125 \nQ 48.828125 37.15625 52.796875 32.3125 \nQ 56.78125 27.484375 56.78125 20.515625 \nQ 56.78125 9.90625 50.3125 4.234375 \nQ 43.84375 -1.421875 31.78125 -1.421875 \nQ 19.734375 -1.421875 13.25 4.234375 \nQ 6.78125 9.90625 6.78125 20.515625 \nQ 6.78125 27.484375 10.78125 32.3125 \nQ 14.796875 37.15625 21.921875 38.8125 \nz\nM 18.3125 54.390625 \nQ 18.3125 48.734375 21.84375 45.5625 \nQ 25.390625 42.390625 31.78125 42.390625 \nQ 38.140625 42.390625 41.71875 45.5625 \nQ 45.3125 48.734375 45.3125 54.390625 \nQ 45.3125 60.0625 41.71875 63.234375 \nQ 38.140625 66.40625 31.78125 66.40625 \nQ 25.390625 66.40625 21.84375 63.234375 \nQ 18.3125 60.0625 18.3125 54.390625 \nz\n\" id=\"DejaVuSans-56\"/>\n      </defs>\n      <g transform=\"translate(741.330966 565.398438)scale(0.1 -0.1)\">\n       <use xlink:href=\"#DejaVuSans-56\"/>\n      </g>\n     </g>\n    </g>\n   </g>\n   <g id=\"matplotlib.axis_2\">\n    <g id=\"ytick_1\">\n     <g id=\"line2d_6\">\n      <defs>\n       <path d=\"M 0 0 \nL -3.5 0 \n\" id=\"m546277c8ae\" style=\"stroke:#000000;stroke-width:0.8;\"/>\n      </defs>\n      <g>\n       <use style=\"stroke:#000000;stroke-width:0.8;\" x=\"30.103125\" xlink:href=\"#m546277c8ae\" y=\"537.514748\"/>\n      </g>\n     </g>\n     <g id=\"text_6\">\n      <!-- 0.0 -->\n      <defs>\n       <path d=\"M 10.6875 12.40625 \nL 21 12.40625 \nL 21 0 \nL 10.6875 0 \nz\n\" id=\"DejaVuSans-46\"/>\n      </defs>\n      <g transform=\"translate(7.2 541.313966)scale(0.1 -0.1)\">\n       <use xlink:href=\"#DejaVuSans-48\"/>\n       <use x=\"63.623047\" xlink:href=\"#DejaVuSans-46\"/>\n       <use x=\"95.410156\" xlink:href=\"#DejaVuSans-48\"/>\n      </g>\n     </g>\n    </g>\n    <g id=\"ytick_2\">\n     <g id=\"line2d_7\">\n      <g>\n       <use style=\"stroke:#000000;stroke-width:0.8;\" x=\"30.103125\" xlink:href=\"#m546277c8ae\" y=\"467.0615\"/>\n      </g>\n     </g>\n     <g id=\"text_7\">\n      <!-- 0.1 -->\n      <defs>\n       <path d=\"M 12.40625 8.296875 \nL 28.515625 8.296875 \nL 28.515625 63.921875 \nL 10.984375 60.40625 \nL 10.984375 69.390625 \nL 28.421875 72.90625 \nL 38.28125 72.90625 \nL 38.28125 8.296875 \nL 54.390625 8.296875 \nL 54.390625 0 \nL 12.40625 0 \nz\n\" id=\"DejaVuSans-49\"/>\n      </defs>\n      <g transform=\"translate(7.2 470.860719)scale(0.1 -0.1)\">\n       <use xlink:href=\"#DejaVuSans-48\"/>\n       <use x=\"63.623047\" xlink:href=\"#DejaVuSans-46\"/>\n       <use x=\"95.410156\" xlink:href=\"#DejaVuSans-49\"/>\n      </g>\n     </g>\n    </g>\n    <g id=\"ytick_3\">\n     <g id=\"line2d_8\">\n      <g>\n       <use style=\"stroke:#000000;stroke-width:0.8;\" x=\"30.103125\" xlink:href=\"#m546277c8ae\" y=\"396.608253\"/>\n      </g>\n     </g>\n     <g id=\"text_8\">\n      <!-- 0.2 -->\n      <g transform=\"translate(7.2 400.407472)scale(0.1 -0.1)\">\n       <use xlink:href=\"#DejaVuSans-48\"/>\n       <use x=\"63.623047\" xlink:href=\"#DejaVuSans-46\"/>\n       <use x=\"95.410156\" xlink:href=\"#DejaVuSans-50\"/>\n      </g>\n     </g>\n    </g>\n    <g id=\"ytick_4\">\n     <g id=\"line2d_9\">\n      <g>\n       <use style=\"stroke:#000000;stroke-width:0.8;\" x=\"30.103125\" xlink:href=\"#m546277c8ae\" y=\"326.155006\"/>\n      </g>\n     </g>\n     <g id=\"text_9\">\n      <!-- 0.3 -->\n      <defs>\n       <path d=\"M 40.578125 39.3125 \nQ 47.65625 37.796875 51.625 33 \nQ 55.609375 28.21875 55.609375 21.1875 \nQ 55.609375 10.40625 48.1875 4.484375 \nQ 40.765625 -1.421875 27.09375 -1.421875 \nQ 22.515625 -1.421875 17.65625 -0.515625 \nQ 12.796875 0.390625 7.625 2.203125 \nL 7.625 11.71875 \nQ 11.71875 9.328125 16.59375 8.109375 \nQ 21.484375 6.890625 26.8125 6.890625 \nQ 36.078125 6.890625 40.9375 10.546875 \nQ 45.796875 14.203125 45.796875 21.1875 \nQ 45.796875 27.640625 41.28125 31.265625 \nQ 36.765625 34.90625 28.71875 34.90625 \nL 20.21875 34.90625 \nL 20.21875 43.015625 \nL 29.109375 43.015625 \nQ 36.375 43.015625 40.234375 45.921875 \nQ 44.09375 48.828125 44.09375 54.296875 \nQ 44.09375 59.90625 40.109375 62.90625 \nQ 36.140625 65.921875 28.71875 65.921875 \nQ 24.65625 65.921875 20.015625 65.03125 \nQ 15.375 64.15625 9.8125 62.3125 \nL 9.8125 71.09375 \nQ 15.4375 72.65625 20.34375 73.4375 \nQ 25.25 74.21875 29.59375 74.21875 \nQ 40.828125 74.21875 47.359375 69.109375 \nQ 53.90625 64.015625 53.90625 55.328125 \nQ 53.90625 49.265625 50.4375 45.09375 \nQ 46.96875 40.921875 40.578125 39.3125 \nz\n\" id=\"DejaVuSans-51\"/>\n      </defs>\n      <g transform=\"translate(7.2 329.954225)scale(0.1 -0.1)\">\n       <use xlink:href=\"#DejaVuSans-48\"/>\n       <use x=\"63.623047\" xlink:href=\"#DejaVuSans-46\"/>\n       <use x=\"95.410156\" xlink:href=\"#DejaVuSans-51\"/>\n      </g>\n     </g>\n    </g>\n    <g id=\"ytick_5\">\n     <g id=\"line2d_10\">\n      <g>\n       <use style=\"stroke:#000000;stroke-width:0.8;\" x=\"30.103125\" xlink:href=\"#m546277c8ae\" y=\"255.701759\"/>\n      </g>\n     </g>\n     <g id=\"text_10\">\n      <!-- 0.4 -->\n      <g transform=\"translate(7.2 259.500977)scale(0.1 -0.1)\">\n       <use xlink:href=\"#DejaVuSans-48\"/>\n       <use x=\"63.623047\" xlink:href=\"#DejaVuSans-46\"/>\n       <use x=\"95.410156\" xlink:href=\"#DejaVuSans-52\"/>\n      </g>\n     </g>\n    </g>\n    <g id=\"ytick_6\">\n     <g id=\"line2d_11\">\n      <g>\n       <use style=\"stroke:#000000;stroke-width:0.8;\" x=\"30.103125\" xlink:href=\"#m546277c8ae\" y=\"185.248511\"/>\n      </g>\n     </g>\n     <g id=\"text_11\">\n      <!-- 0.5 -->\n      <defs>\n       <path d=\"M 10.796875 72.90625 \nL 49.515625 72.90625 \nL 49.515625 64.59375 \nL 19.828125 64.59375 \nL 19.828125 46.734375 \nQ 21.96875 47.46875 24.109375 47.828125 \nQ 26.265625 48.1875 28.421875 48.1875 \nQ 40.625 48.1875 47.75 41.5 \nQ 54.890625 34.8125 54.890625 23.390625 \nQ 54.890625 11.625 47.5625 5.09375 \nQ 40.234375 -1.421875 26.90625 -1.421875 \nQ 22.3125 -1.421875 17.546875 -0.640625 \nQ 12.796875 0.140625 7.71875 1.703125 \nL 7.71875 11.625 \nQ 12.109375 9.234375 16.796875 8.0625 \nQ 21.484375 6.890625 26.703125 6.890625 \nQ 35.15625 6.890625 40.078125 11.328125 \nQ 45.015625 15.765625 45.015625 23.390625 \nQ 45.015625 31 40.078125 35.4375 \nQ 35.15625 39.890625 26.703125 39.890625 \nQ 22.75 39.890625 18.8125 39.015625 \nQ 14.890625 38.140625 10.796875 36.28125 \nz\n\" id=\"DejaVuSans-53\"/>\n      </defs>\n      <g transform=\"translate(7.2 189.04773)scale(0.1 -0.1)\">\n       <use xlink:href=\"#DejaVuSans-48\"/>\n       <use x=\"63.623047\" xlink:href=\"#DejaVuSans-46\"/>\n       <use x=\"95.410156\" xlink:href=\"#DejaVuSans-53\"/>\n      </g>\n     </g>\n    </g>\n    <g id=\"ytick_7\">\n     <g id=\"line2d_12\">\n      <g>\n       <use style=\"stroke:#000000;stroke-width:0.8;\" x=\"30.103125\" xlink:href=\"#m546277c8ae\" y=\"114.795264\"/>\n      </g>\n     </g>\n     <g id=\"text_12\">\n      <!-- 0.6 -->\n      <g transform=\"translate(7.2 118.594483)scale(0.1 -0.1)\">\n       <use xlink:href=\"#DejaVuSans-48\"/>\n       <use x=\"63.623047\" xlink:href=\"#DejaVuSans-46\"/>\n       <use x=\"95.410156\" xlink:href=\"#DejaVuSans-54\"/>\n      </g>\n     </g>\n    </g>\n    <g id=\"ytick_8\">\n     <g id=\"line2d_13\">\n      <g>\n       <use style=\"stroke:#000000;stroke-width:0.8;\" x=\"30.103125\" xlink:href=\"#m546277c8ae\" y=\"44.342017\"/>\n      </g>\n     </g>\n     <g id=\"text_13\">\n      <!-- 0.7 -->\n      <defs>\n       <path d=\"M 8.203125 72.90625 \nL 55.078125 72.90625 \nL 55.078125 68.703125 \nL 28.609375 0 \nL 18.3125 0 \nL 43.21875 64.59375 \nL 8.203125 64.59375 \nz\n\" id=\"DejaVuSans-55\"/>\n      </defs>\n      <g transform=\"translate(7.2 48.141236)scale(0.1 -0.1)\">\n       <use xlink:href=\"#DejaVuSans-48\"/>\n       <use x=\"63.623047\" xlink:href=\"#DejaVuSans-46\"/>\n       <use x=\"95.410156\" xlink:href=\"#DejaVuSans-55\"/>\n      </g>\n     </g>\n    </g>\n   </g>\n   <g id=\"line2d_14\">\n    <path clip-path=\"url(#p7ac7ddff40)\" d=\"M 68.14858 106.506647 \nL 152.694034 102.362338 \nL 237.239489 94.073721 \nL 321.784943 85.785104 \nL 406.330398 69.207869 \nL 490.875852 48.486326 \nL 575.421307 48.486326 \nL 659.966761 40.197708 \nL 744.512216 36.0534 \nL 829.05767 31.909091 \n\" style=\"fill:none;stroke:#1f77b4;stroke-linecap:square;stroke-width:2.5;\"/>\n   </g>\n   <g id=\"line2d_15\">\n    <path clip-path=\"url(#p7ac7ddff40)\" d=\"M 68.14858 519.011875 \nL 152.694034 520.532216 \nL 237.239489 521.650906 \nL 321.784943 522.597491 \nL 406.330398 523.154688 \nL 490.875852 523.518985 \nL 575.421307 524.39372 \nL 659.966761 524.956237 \nL 744.512216 525.555092 \nL 829.05767 526.090909 \n\" style=\"fill:none;stroke:#ff7f0e;stroke-dasharray:10,3.75;stroke-dashoffset:0;stroke-width:2.5;\"/>\n   </g>\n   <g id=\"line2d_16\">\n    <path clip-path=\"url(#p7ac7ddff40)\" d=\"M 68.14858 106.506647 \nL 152.694034 102.362338 \nL 237.239489 94.073721 \nL 321.784943 85.785104 \nL 406.330398 69.207869 \nL 490.875852 48.486326 \nL 575.421307 48.486326 \nL 659.966761 40.197708 \nL 744.512216 36.0534 \nL 829.05767 31.909091 \n\" style=\"fill:none;stroke:#2ca02c;stroke-dasharray:2.5,2.5;stroke-dashoffset:0;stroke-width:2.5;\"/>\n   </g>\n   <g id=\"line2d_17\"/>\n   <g id=\"line2d_18\"/>\n   <g id=\"line2d_19\"/>\n   <g id=\"patch_3\">\n    <path d=\"M 30.103125 550.8 \nL 30.103125 7.2 \n\" style=\"fill:none;stroke:#000000;stroke-linecap:square;stroke-linejoin:miter;stroke-width:0.8;\"/>\n   </g>\n   <g id=\"patch_4\">\n    <path d=\"M 867.103125 550.8 \nL 867.103125 7.2 \n\" style=\"fill:none;stroke:#000000;stroke-linecap:square;stroke-linejoin:miter;stroke-width:0.8;\"/>\n   </g>\n   <g id=\"patch_5\">\n    <path d=\"M 30.103125 550.8 \nL 867.103125 550.8 \n\" style=\"fill:none;stroke:#000000;stroke-linecap:square;stroke-linejoin:miter;stroke-width:0.8;\"/>\n   </g>\n   <g id=\"patch_6\">\n    <path d=\"M 30.103125 7.2 \nL 867.103125 7.2 \n\" style=\"fill:none;stroke:#000000;stroke-linecap:square;stroke-linejoin:miter;stroke-width:0.8;\"/>\n   </g>\n   <g id=\"legend_1\">\n    <g id=\"patch_7\">\n     <path d=\"M 37.103125 59.234375 \nL 114.759375 59.234375 \nQ 116.759375 59.234375 116.759375 57.234375 \nL 116.759375 14.2 \nQ 116.759375 12.2 114.759375 12.2 \nL 37.103125 12.2 \nQ 35.103125 12.2 35.103125 14.2 \nL 35.103125 57.234375 \nQ 35.103125 59.234375 37.103125 59.234375 \nz\n\" style=\"fill:#ffffff;opacity:0.8;stroke:#cccccc;stroke-linejoin:miter;\"/>\n    </g>\n    <g id=\"line2d_20\">\n     <path d=\"M 39.103125 20.298437 \nL 59.103125 20.298437 \n\" style=\"fill:none;stroke:#1f77b4;stroke-linecap:square;stroke-width:1.5;\"/>\n    </g>\n    <g id=\"line2d_21\"/>\n    <g id=\"text_14\">\n     <!-- Accuracy -->\n     <defs>\n      <path d=\"M 34.1875 63.1875 \nL 20.796875 26.90625 \nL 47.609375 26.90625 \nz\nM 28.609375 72.90625 \nL 39.796875 72.90625 \nL 67.578125 0 \nL 57.328125 0 \nL 50.6875 18.703125 \nL 17.828125 18.703125 \nL 11.1875 0 \nL 0.78125 0 \nz\n\" id=\"DejaVuSans-65\"/>\n      <path d=\"M 48.78125 52.59375 \nL 48.78125 44.1875 \nQ 44.96875 46.296875 41.140625 47.34375 \nQ 37.3125 48.390625 33.40625 48.390625 \nQ 24.65625 48.390625 19.8125 42.84375 \nQ 14.984375 37.3125 14.984375 27.296875 \nQ 14.984375 17.28125 19.8125 11.734375 \nQ 24.65625 6.203125 33.40625 6.203125 \nQ 37.3125 6.203125 41.140625 7.25 \nQ 44.96875 8.296875 48.78125 10.40625 \nL 48.78125 2.09375 \nQ 45.015625 0.34375 40.984375 -0.53125 \nQ 36.96875 -1.421875 32.421875 -1.421875 \nQ 20.0625 -1.421875 12.78125 6.34375 \nQ 5.515625 14.109375 5.515625 27.296875 \nQ 5.515625 40.671875 12.859375 48.328125 \nQ 20.21875 56 33.015625 56 \nQ 37.15625 56 41.109375 55.140625 \nQ 45.0625 54.296875 48.78125 52.59375 \nz\n\" id=\"DejaVuSans-99\"/>\n      <path d=\"M 8.5 21.578125 \nL 8.5 54.6875 \nL 17.484375 54.6875 \nL 17.484375 21.921875 \nQ 17.484375 14.15625 20.5 10.265625 \nQ 23.53125 6.390625 29.59375 6.390625 \nQ 36.859375 6.390625 41.078125 11.03125 \nQ 45.3125 15.671875 45.3125 23.6875 \nL 45.3125 54.6875 \nL 54.296875 54.6875 \nL 54.296875 0 \nL 45.3125 0 \nL 45.3125 8.40625 \nQ 42.046875 3.421875 37.71875 1 \nQ 33.40625 -1.421875 27.6875 -1.421875 \nQ 18.265625 -1.421875 13.375 4.4375 \nQ 8.5 10.296875 8.5 21.578125 \nz\nM 31.109375 56 \nz\n\" id=\"DejaVuSans-117\"/>\n      <path d=\"M 41.109375 46.296875 \nQ 39.59375 47.171875 37.8125 47.578125 \nQ 36.03125 48 33.890625 48 \nQ 26.265625 48 22.1875 43.046875 \nQ 18.109375 38.09375 18.109375 28.8125 \nL 18.109375 0 \nL 9.078125 0 \nL 9.078125 54.6875 \nL 18.109375 54.6875 \nL 18.109375 46.1875 \nQ 20.953125 51.171875 25.484375 53.578125 \nQ 30.03125 56 36.53125 56 \nQ 37.453125 56 38.578125 55.875 \nQ 39.703125 55.765625 41.0625 55.515625 \nz\n\" id=\"DejaVuSans-114\"/>\n      <path d=\"M 34.28125 27.484375 \nQ 23.390625 27.484375 19.1875 25 \nQ 14.984375 22.515625 14.984375 16.5 \nQ 14.984375 11.71875 18.140625 8.90625 \nQ 21.296875 6.109375 26.703125 6.109375 \nQ 34.1875 6.109375 38.703125 11.40625 \nQ 43.21875 16.703125 43.21875 25.484375 \nL 43.21875 27.484375 \nz\nM 52.203125 31.203125 \nL 52.203125 0 \nL 43.21875 0 \nL 43.21875 8.296875 \nQ 40.140625 3.328125 35.546875 0.953125 \nQ 30.953125 -1.421875 24.3125 -1.421875 \nQ 15.921875 -1.421875 10.953125 3.296875 \nQ 6 8.015625 6 15.921875 \nQ 6 25.140625 12.171875 29.828125 \nQ 18.359375 34.515625 30.609375 34.515625 \nL 43.21875 34.515625 \nL 43.21875 35.40625 \nQ 43.21875 41.609375 39.140625 45 \nQ 35.0625 48.390625 27.6875 48.390625 \nQ 23 48.390625 18.546875 47.265625 \nQ 14.109375 46.140625 10.015625 43.890625 \nL 10.015625 52.203125 \nQ 14.9375 54.109375 19.578125 55.046875 \nQ 24.21875 56 28.609375 56 \nQ 40.484375 56 46.34375 49.84375 \nQ 52.203125 43.703125 52.203125 31.203125 \nz\n\" id=\"DejaVuSans-97\"/>\n      <path d=\"M 32.171875 -5.078125 \nQ 28.375 -14.84375 24.75 -17.8125 \nQ 21.140625 -20.796875 15.09375 -20.796875 \nL 7.90625 -20.796875 \nL 7.90625 -13.28125 \nL 13.1875 -13.28125 \nQ 16.890625 -13.28125 18.9375 -11.515625 \nQ 21 -9.765625 23.484375 -3.21875 \nL 25.09375 0.875 \nL 2.984375 54.6875 \nL 12.5 54.6875 \nL 29.59375 11.921875 \nL 46.6875 54.6875 \nL 56.203125 54.6875 \nz\n\" id=\"DejaVuSans-121\"/>\n     </defs>\n     <g transform=\"translate(67.103125 23.798437)scale(0.1 -0.1)\">\n      <use xlink:href=\"#DejaVuSans-65\"/>\n      <use x=\"66.658203\" xlink:href=\"#DejaVuSans-99\"/>\n      <use x=\"121.638672\" xlink:href=\"#DejaVuSans-99\"/>\n      <use x=\"176.619141\" xlink:href=\"#DejaVuSans-117\"/>\n      <use x=\"239.998047\" xlink:href=\"#DejaVuSans-114\"/>\n      <use x=\"281.111328\" xlink:href=\"#DejaVuSans-97\"/>\n      <use x=\"342.390625\" xlink:href=\"#DejaVuSans-99\"/>\n      <use x=\"397.371094\" xlink:href=\"#DejaVuSans-121\"/>\n     </g>\n    </g>\n    <g id=\"line2d_22\">\n     <path d=\"M 39.103125 34.976562 \nL 59.103125 34.976562 \n\" style=\"fill:none;stroke:#ff7f0e;stroke-dasharray:6,2.25;stroke-dashoffset:0;stroke-width:1.5;\"/>\n    </g>\n    <g id=\"line2d_23\"/>\n    <g id=\"text_15\">\n     <!-- Precision -->\n     <defs>\n      <path d=\"M 19.671875 64.796875 \nL 19.671875 37.40625 \nL 32.078125 37.40625 \nQ 38.96875 37.40625 42.71875 40.96875 \nQ 46.484375 44.53125 46.484375 51.125 \nQ 46.484375 57.671875 42.71875 61.234375 \nQ 38.96875 64.796875 32.078125 64.796875 \nz\nM 9.8125 72.90625 \nL 32.078125 72.90625 \nQ 44.34375 72.90625 50.609375 67.359375 \nQ 56.890625 61.8125 56.890625 51.125 \nQ 56.890625 40.328125 50.609375 34.8125 \nQ 44.34375 29.296875 32.078125 29.296875 \nL 19.671875 29.296875 \nL 19.671875 0 \nL 9.8125 0 \nz\n\" id=\"DejaVuSans-80\"/>\n      <path d=\"M 56.203125 29.59375 \nL 56.203125 25.203125 \nL 14.890625 25.203125 \nQ 15.484375 15.921875 20.484375 11.0625 \nQ 25.484375 6.203125 34.421875 6.203125 \nQ 39.59375 6.203125 44.453125 7.46875 \nQ 49.3125 8.734375 54.109375 11.28125 \nL 54.109375 2.78125 \nQ 49.265625 0.734375 44.1875 -0.34375 \nQ 39.109375 -1.421875 33.890625 -1.421875 \nQ 20.796875 -1.421875 13.15625 6.1875 \nQ 5.515625 13.8125 5.515625 26.8125 \nQ 5.515625 40.234375 12.765625 48.109375 \nQ 20.015625 56 32.328125 56 \nQ 43.359375 56 49.78125 48.890625 \nQ 56.203125 41.796875 56.203125 29.59375 \nz\nM 47.21875 32.234375 \nQ 47.125 39.59375 43.09375 43.984375 \nQ 39.0625 48.390625 32.421875 48.390625 \nQ 24.90625 48.390625 20.390625 44.140625 \nQ 15.875 39.890625 15.1875 32.171875 \nz\n\" id=\"DejaVuSans-101\"/>\n      <path d=\"M 9.421875 54.6875 \nL 18.40625 54.6875 \nL 18.40625 0 \nL 9.421875 0 \nz\nM 9.421875 75.984375 \nL 18.40625 75.984375 \nL 18.40625 64.59375 \nL 9.421875 64.59375 \nz\n\" id=\"DejaVuSans-105\"/>\n      <path d=\"M 44.28125 53.078125 \nL 44.28125 44.578125 \nQ 40.484375 46.53125 36.375 47.5 \nQ 32.28125 48.484375 27.875 48.484375 \nQ 21.1875 48.484375 17.84375 46.4375 \nQ 14.5 44.390625 14.5 40.28125 \nQ 14.5 37.15625 16.890625 35.375 \nQ 19.28125 33.59375 26.515625 31.984375 \nL 29.59375 31.296875 \nQ 39.15625 29.25 43.1875 25.515625 \nQ 47.21875 21.78125 47.21875 15.09375 \nQ 47.21875 7.46875 41.1875 3.015625 \nQ 35.15625 -1.421875 24.609375 -1.421875 \nQ 20.21875 -1.421875 15.453125 -0.5625 \nQ 10.6875 0.296875 5.421875 2 \nL 5.421875 11.28125 \nQ 10.40625 8.6875 15.234375 7.390625 \nQ 20.0625 6.109375 24.8125 6.109375 \nQ 31.15625 6.109375 34.5625 8.28125 \nQ 37.984375 10.453125 37.984375 14.40625 \nQ 37.984375 18.0625 35.515625 20.015625 \nQ 33.0625 21.96875 24.703125 23.78125 \nL 21.578125 24.515625 \nQ 13.234375 26.265625 9.515625 29.90625 \nQ 5.8125 33.546875 5.8125 39.890625 \nQ 5.8125 47.609375 11.28125 51.796875 \nQ 16.75 56 26.8125 56 \nQ 31.78125 56 36.171875 55.265625 \nQ 40.578125 54.546875 44.28125 53.078125 \nz\n\" id=\"DejaVuSans-115\"/>\n      <path d=\"M 30.609375 48.390625 \nQ 23.390625 48.390625 19.1875 42.75 \nQ 14.984375 37.109375 14.984375 27.296875 \nQ 14.984375 17.484375 19.15625 11.84375 \nQ 23.34375 6.203125 30.609375 6.203125 \nQ 37.796875 6.203125 41.984375 11.859375 \nQ 46.1875 17.53125 46.1875 27.296875 \nQ 46.1875 37.015625 41.984375 42.703125 \nQ 37.796875 48.390625 30.609375 48.390625 \nz\nM 30.609375 56 \nQ 42.328125 56 49.015625 48.375 \nQ 55.71875 40.765625 55.71875 27.296875 \nQ 55.71875 13.875 49.015625 6.21875 \nQ 42.328125 -1.421875 30.609375 -1.421875 \nQ 18.84375 -1.421875 12.171875 6.21875 \nQ 5.515625 13.875 5.515625 27.296875 \nQ 5.515625 40.765625 12.171875 48.375 \nQ 18.84375 56 30.609375 56 \nz\n\" id=\"DejaVuSans-111\"/>\n      <path d=\"M 54.890625 33.015625 \nL 54.890625 0 \nL 45.90625 0 \nL 45.90625 32.71875 \nQ 45.90625 40.484375 42.875 44.328125 \nQ 39.84375 48.1875 33.796875 48.1875 \nQ 26.515625 48.1875 22.3125 43.546875 \nQ 18.109375 38.921875 18.109375 30.90625 \nL 18.109375 0 \nL 9.078125 0 \nL 9.078125 54.6875 \nL 18.109375 54.6875 \nL 18.109375 46.1875 \nQ 21.34375 51.125 25.703125 53.5625 \nQ 30.078125 56 35.796875 56 \nQ 45.21875 56 50.046875 50.171875 \nQ 54.890625 44.34375 54.890625 33.015625 \nz\n\" id=\"DejaVuSans-110\"/>\n     </defs>\n     <g transform=\"translate(67.103125 38.476562)scale(0.1 -0.1)\">\n      <use xlink:href=\"#DejaVuSans-80\"/>\n      <use x=\"58.552734\" xlink:href=\"#DejaVuSans-114\"/>\n      <use x=\"97.416016\" xlink:href=\"#DejaVuSans-101\"/>\n      <use x=\"158.939453\" xlink:href=\"#DejaVuSans-99\"/>\n      <use x=\"213.919922\" xlink:href=\"#DejaVuSans-105\"/>\n      <use x=\"241.703125\" xlink:href=\"#DejaVuSans-115\"/>\n      <use x=\"293.802734\" xlink:href=\"#DejaVuSans-105\"/>\n      <use x=\"321.585938\" xlink:href=\"#DejaVuSans-111\"/>\n      <use x=\"382.767578\" xlink:href=\"#DejaVuSans-110\"/>\n     </g>\n    </g>\n    <g id=\"line2d_24\">\n     <path d=\"M 39.103125 49.654688 \nL 59.103125 49.654688 \n\" style=\"fill:none;stroke:#2ca02c;stroke-dasharray:1.5,1.5;stroke-dashoffset:0;stroke-width:1.5;\"/>\n    </g>\n    <g id=\"line2d_25\"/>\n    <g id=\"text_16\">\n     <!-- Recall -->\n     <defs>\n      <path d=\"M 44.390625 34.1875 \nQ 47.5625 33.109375 50.5625 29.59375 \nQ 53.5625 26.078125 56.59375 19.921875 \nL 66.609375 0 \nL 56 0 \nL 46.6875 18.703125 \nQ 43.0625 26.03125 39.671875 28.421875 \nQ 36.28125 30.8125 30.421875 30.8125 \nL 19.671875 30.8125 \nL 19.671875 0 \nL 9.8125 0 \nL 9.8125 72.90625 \nL 32.078125 72.90625 \nQ 44.578125 72.90625 50.734375 67.671875 \nQ 56.890625 62.453125 56.890625 51.90625 \nQ 56.890625 45.015625 53.6875 40.46875 \nQ 50.484375 35.9375 44.390625 34.1875 \nz\nM 19.671875 64.796875 \nL 19.671875 38.921875 \nL 32.078125 38.921875 \nQ 39.203125 38.921875 42.84375 42.21875 \nQ 46.484375 45.515625 46.484375 51.90625 \nQ 46.484375 58.296875 42.84375 61.546875 \nQ 39.203125 64.796875 32.078125 64.796875 \nz\n\" id=\"DejaVuSans-82\"/>\n      <path d=\"M 9.421875 75.984375 \nL 18.40625 75.984375 \nL 18.40625 0 \nL 9.421875 0 \nz\n\" id=\"DejaVuSans-108\"/>\n     </defs>\n     <g transform=\"translate(67.103125 53.154688)scale(0.1 -0.1)\">\n      <use xlink:href=\"#DejaVuSans-82\"/>\n      <use x=\"64.982422\" xlink:href=\"#DejaVuSans-101\"/>\n      <use x=\"126.505859\" xlink:href=\"#DejaVuSans-99\"/>\n      <use x=\"181.486328\" xlink:href=\"#DejaVuSans-97\"/>\n      <use x=\"242.765625\" xlink:href=\"#DejaVuSans-108\"/>\n      <use x=\"270.548828\" xlink:href=\"#DejaVuSans-108\"/>\n     </g>\n    </g>\n   </g>\n  </g>\n </g>\n <defs>\n  <clipPath id=\"p7ac7ddff40\">\n   <rect height=\"543.6\" width=\"837\" x=\"30.103125\" y=\"7.2\"/>\n  </clipPath>\n </defs>\n</svg>\n",
      "text/plain": "<Figure size 1080x720 with 1 Axes>"
     },
     "metadata": {
      "needs_background": "light"
     },
     "output_type": "display_data"
    }
   ],
   "source": [
    "plt.figure(figsize=(15,10))\n",
    "sns.lineplot(data=df_metrics, palette=\"tab10\", linewidth=2.5)"
   ]
  },
  {
   "cell_type": "code",
   "execution_count": 57,
   "metadata": {},
   "outputs": [
    {
     "data": {
      "text/plain": "[0.026262626262626262,\n 0.024104683195592287,\n 0.02251683501683502,\n 0.021173271173271172,\n 0.020382395382395384,\n 0.019865319865319864,\n 0.018623737373737372,\n 0.017825311942959002,\n 0.016975308641975308,\n 0.01621477937267411]"
     },
     "execution_count": 57,
     "metadata": {},
     "output_type": "execute_result"
    }
   ],
   "source": [
    "pr"
   ]
  },
  {
   "cell_type": "code",
   "execution_count": 238,
   "metadata": {},
   "outputs": [],
   "source": []
  },
  {
   "cell_type": "code",
   "execution_count": 239,
   "metadata": {},
   "outputs": [
    {
     "data": {
      "text/plain": "0.03560830860534125"
     },
     "execution_count": 239,
     "metadata": {},
     "output_type": "execute_result"
    }
   ],
   "source": []
  },
  {
   "cell_type": "code",
   "execution_count": null,
   "metadata": {},
   "outputs": [],
   "source": []
  }
 ]
}