{
 "nbformat": 4,
 "nbformat_minor": 2,
 "metadata": {
  "language_info": {
   "name": "python",
   "codemirror_mode": {
    "name": "ipython",
    "version": 3
   },
   "version": "3.7.4-final"
  },
  "orig_nbformat": 2,
  "file_extension": ".py",
  "mimetype": "text/x-python",
  "name": "python",
  "npconvert_exporter": "python",
  "pygments_lexer": "ipython3",
  "version": 3,
  "kernelspec": {
   "name": "python37464bitleadsmatchvirtualenv35cbd83672fe44d6b2641e951d1744a9",
   "display_name": "Python 3.7.4 64-bit ('leadsmatch': virtualenv)"
  }
 },
 "cells": [
  {
   "cell_type": "code",
   "execution_count": 60,
   "metadata": {},
   "outputs": [],
   "source": [
    "#carregando bibliotecas\n",
    "import pandas as pd\n",
    "import numpy as np\n",
    "import seaborn as sns\n",
    "\n",
    "from sklearn.preprocessing import StandardScaler,OneHotEncoder,MinMaxScaler\n",
    "from sklearn.neighbors import NearestNeighbors\n",
    "from sklearn.metrics.pairwise import linear_kernel,cosine_similarity\n",
    "from sklearn.linear_model import LogisticRegression\n",
    "from sklearn.feature_selection import VarianceThreshold\n",
    "from sklearn.ensemble import RandomForestClassifier\n",
    "from sklearn.tree import DecisionTreeClassifier\n",
    "from sklearn.impute import SimpleImputer\n",
    "\n",
    "from sklearn.model_selection import train_test_split\n",
    "from sklearn.feature_selection import SelectFromModel"
   ]
  },
  {
   "cell_type": "code",
   "execution_count": 19,
   "metadata": {},
   "outputs": [],
   "source": [
    "#carrega dados de mercado\n",
    "df_market = pd.read_csv('../data/estaticos_market.csv')"
   ]
  },
  {
   "cell_type": "code",
   "execution_count": 3,
   "metadata": {},
   "outputs": [],
   "source": [
    "#carrega portfólio\n",
    "df_portfolio = pd.read_csv('../data/estaticos_portfolio1.csv')"
   ]
  },
  {
   "cell_type": "code",
   "execution_count": 20,
   "metadata": {},
   "outputs": [],
   "source": [
    "#coloca id como índice\n",
    "df_market = df_market.set_index('id')"
   ]
  },
  {
   "cell_type": "code",
   "execution_count": 65,
   "metadata": {},
   "outputs": [],
   "source": [
    "#selecte boolean features\n",
    "def select_by_variance(df,threshold,var_type):\n",
    "    sel_bool = VarianceThreshold(threshold=threshold)\n",
    "    fitted_model = sel.fit(df.select_dtypes(include=var_type))\n",
    "    features = df.select_dtypes(include=var_type).columns[fitted_model.get_support()]\n",
    "    return features\n",
    "\n",
    "def preprocessing(df,col_group,nan_resolve):\n",
    "    info_empresa = ['de_indicador_telefone',\n",
    "    'de_nivel_atividade',\n",
    "    'de_ramo',\n",
    "    'fl_email',\n",
    "    'fl_mei',\n",
    "    'fl_telefone',\n",
    "    'idade_empresa_anos',\n",
    "    'natureza_juridica_macro',\n",
    "    'nm_divisao',\n",
    "    'qt_filiais',\n",
    "    'sg_uf']\n",
    "    print('--Criando dataframe com as colunas--')\n",
    "    df_empresa = df[col_group]\n",
    "\n",
    "    if nan_resolve == 'median':\n",
    "        imputer = SimpleImputer(missing_values=np.nan,strategy='median')\n",
    "        imputed = imputer.fit_transform(df_empresa)\n",
    "        df_empresa = pd.DataFrame(data=imputed,columns=df_empresa.columns)\n",
    "    else:\n",
    "        pass\n",
    "\n",
    "    print('--Aplicando OneHotEnconding--')\n",
    "    df_encoded = pd.get_dummies(df_empresa)\n",
    "\n",
    "    print('--Aplicando MinMaxScaler--')\n",
    "    minmax = MinMaxScaler()\n",
    "    minmax_transformed = minmax.fit_transform(df_encoded)\n",
    "    df_empresa = pd.DataFrame(data=minmax_transformed,columns=df_encoded.columns)\n",
    "\n",
    "    print('--split features target--')\n",
    "    target = df[['de_ramo']]\n",
    "    features = df_encoded\n",
    "\n",
    "    print('--Aplicando Árvore--')\n",
    "    decision_tree = DecisionTreeClassifier(random_state=2321,max_depth=10)\n",
    "    model_fited = decision_tree.fit(features,target)\n",
    "    print('--Selecionando Modelo--')\n",
    "    model = SelectFromModel(model_fited,prefit=True)\n",
    "    col_features = df_encoded.columns[model.get_support()]\n",
    "    df_return = df_encoded[col_features]\n",
    "    return df_return\n",
    "\n",
    "#função para recomendar leads\n",
    "def recommender(df_test,df_market,modelo):\n",
    "    distance, index = modelo.kneighbors(df_test)\n",
    "    distance = distance.flatten()\n",
    "    index = index.flatten()\n",
    "    recomendados = df_market.iloc[index]\n",
    "    recomendados['distance'] = distance\n",
    "    recomendados = recomendados.sort_values(by=['distance'],ascending=True)\n",
    "    return recomendados['id']\n",
    "\n",
    "def calculate_accuracy(ids_true, ids_pred):\n",
    "    return len(set(ids_true) & set(ids_pred)) / len(set(ids_true))"
   ]
  },
  {
   "cell_type": "markdown",
   "metadata": {},
   "source": [
    "## Teste de seleção de features colocando o ramo da empresa como variável alvo"
   ]
  },
  {
   "cell_type": "markdown",
   "metadata": {},
   "source": [
    "## Qualificação das variáveis\n",
    "1. As variáveis foram agrupadas em 7 grupos\n",
    "2. As features serão avaliadas isoladamente dentro de cada grupo\n",
    "3. Após esta análise ser escolhida uma variável categórica para ser o target\n",
    "4. Será feita uma seleção de feature utilizando RandomForest. Será utilizado o inverso do índice de Gini como peso para cada variável"
   ]
  },
  {
   "cell_type": "code",
   "execution_count": 6,
   "metadata": {},
   "outputs": [],
   "source": [
    "#modelos\n",
    "enc = OneHotEncoder(handle_unknown='ignore')\n",
    "std = StandardScaler()"
   ]
  },
  {
   "cell_type": "code",
   "execution_count": 30,
   "metadata": {},
   "outputs": [],
   "source": [
    "#convertendo variaveis object para bool\n",
    "convert_to_bool = [\n",
    "'fl_optante_simei',\n",
    "'fl_optante_simples',\n",
    "'fl_passivel_iss',\n",
    "'fl_rm',\n",
    "'fl_sa',\n",
    "'fl_simples_irregular',\n",
    "'fl_spa',\n",
    "'fl_st_especial',\n",
    "'fl_telefone',\n",
    "'fl_veiculo'\n",
    "]\n",
    "for col in convert_to_bool:\n",
    "    df_market[col] = df_market[col].astype(bool)"
   ]
  },
  {
   "cell_type": "code",
   "execution_count": 31,
   "metadata": {},
   "outputs": [],
   "source": [
    "info_empresa = ['de_indicador_telefone',\n",
    "'de_nivel_atividade',\n",
    "'de_ramo',\n",
    "'fl_email',\n",
    "'fl_mei',\n",
    "'fl_telefone',\n",
    "'idade_empresa_anos',\n",
    "'natureza_juridica_macro',\n",
    "'nm_divisao',\n",
    "'qt_filiais',\n",
    "'sg_uf']"
   ]
  },
  {
   "cell_type": "code",
   "execution_count": 51,
   "metadata": {},
   "outputs": [],
   "source": [
    "info_filiais = [\n",
    "'coligada_mais_antiga_ativa',\n",
    "'coligada_mais_antiga_baixada',\n",
    "'coligada_mais_nova_ativa',\n",
    "'coligada_mais_nova_baixada',\n",
    "'de_faixa_faturamento_estimado',\n",
    "'de_faixa_faturamento_estimado_grupo',\n",
    "'faturamento_est_coligados',\n",
    "'faturamento_est_coligados_gp',\n",
    "'idade_maxima_coligadas',\n",
    "'idade_media_coligadas',\n",
    "'idade_media_coligadas_ativas',\n",
    "'idade_media_coligadas_baixadas',\n",
    "'idade_minima_coligadas',\n",
    "'max_faturamento_est_coligados',\n",
    "'max_faturamento_est_coligados_gp',\n",
    "'max_filiais_coligados',\n",
    "'max_funcionarios_coligados_gp',\n",
    "'max_vl_folha_coligados',\n",
    "'max_vl_folha_coligados_gp',\n",
    "'media_faturamento_est_coligados',\n",
    "'media_faturamento_est_coligados_gp',\n",
    "'media_filiais_coligados',\n",
    "'media_funcionarios_coligados_gp',\n",
    "'media_vl_folha_coligados',\n",
    "'media_vl_folha_coligados_gp',\n",
    "'min_faturamento_est_coligados',\n",
    "'min_faturamento_est_coligados_gp',\n",
    "'min_filiais_coligados',\n",
    "'min_funcionarios_coligados_gp',\n",
    "'min_vl_folha_coligados',\n",
    "'min_vl_folha_coligados_gp',\n",
    "'qt_coligadas',\n",
    "'qt_coligados',\n",
    "'qt_coligados_agropecuaria',\n",
    "'qt_coligados_atividade_alto',\n",
    "'qt_coligados_atividade_baixo',\n",
    "'qt_coligados_atividade_inativo',\n",
    "'qt_coligados_atividade_medio',\n",
    "'qt_coligados_atividade_mt_baixo',\n",
    "'qt_coligados_ativo',\n",
    "'qt_coligados_baixada',\n",
    "'qt_coligados_ccivil',\n",
    "'qt_coligados_centro',\n",
    "'qt_coligados_comercio',\n",
    "'qt_coligados_epp',\n",
    "'qt_coligados_exterior',\n",
    "'qt_coligados_inapta',\n",
    "'qt_coligados_industria',\n",
    "'qt_coligados_ltda',\n",
    "'qt_coligados_matriz',\n",
    "'qt_coligados_me',\n",
    "'qt_coligados_mei',\n",
    "'qt_coligados_nordeste',\n",
    "'qt_coligados_norte',\n",
    "'qt_coligados_nula',\n",
    "'qt_coligados_sa',\n",
    "'qt_coligados_serviço',\n",
    "'qt_coligados_sudeste',\n",
    "'qt_coligados_sul',\n",
    "'qt_coligados_suspensa',\n",
    "'qt_funcionarios_coligados',\n",
    "'qt_funcionarios_coligados_gp',\n",
    "'qt_ramos_coligados',\n",
    "'qt_regioes_coligados',\n",
    "'qt_socios_coligados',\n",
    "'qt_ufs_coligados',\n",
    "'sum_faturamento_estimado_coligadas',\n",
    "'total_filiais_coligados',\n",
    "'vl_faturamento_estimado_aux',\n",
    "'vl_faturamento_estimado_grupo_aux',\n",
    "'vl_folha_coligados',\n",
    "'vl_folha_coligados_gp'\n",
    "]"
   ]
  },
  {
   "cell_type": "code",
   "execution_count": 52,
   "metadata": {},
   "outputs": [],
   "source": [
    "info_funcionarios = [\n",
    "'grau_instrucao_macro_analfabeto',\n",
    "'grau_instrucao_macro_desconhecido',\n",
    "'grau_instrucao_macro_escolaridade_fundamental',\n",
    "'grau_instrucao_macro_escolaridade_media',\n",
    "'grau_instrucao_macro_escolaridade_superior',\n",
    "'idade_acima_de_58',\n",
    "'idade_ate_18',\n",
    "'idade_de_19_a_23',\n",
    "'idade_de_24_a_28',\n",
    "'idade_de_29_a_33',\n",
    "'idade_de_34_a_38',\n",
    "'idade_de_39_a_43',\n",
    "'idade_de_44_a_48',\n",
    "'idade_de_49_a_53',\n",
    "'idade_de_54_a_58',\n",
    "'max_meses_servicos',\n",
    "'max_meses_servicos_all',\n",
    "'media_meses_servicos',\n",
    "'media_meses_servicos_all',\n",
    "'meses_ultima_contratacaco',\n",
    "'min_meses_servicos',\n",
    "'min_meses_servicos_all',\n",
    "'percent_func_genero_fem',\n",
    "'percent_func_genero_masc',\n",
    "'qt_admitidos',\n",
    "'qt_admitidos_12meses',\n",
    "'qt_desligados',\n",
    "'qt_desligados_12meses',\n",
    "'qt_ex_funcionarios',\n",
    "'qt_funcionarios',\n",
    "'qt_funcionarios_12meses',\n",
    "'qt_funcionarios_24meses',\n",
    "'qt_funcionarios_grupo',\n",
    "'total',\n",
    "'tx_crescimento_12meses',\n",
    "'tx_crescimento_24meses',\n",
    "'tx_rotatividade'\n",
    "]"
   ]
  },
  {
   "cell_type": "code",
   "execution_count": 53,
   "metadata": {},
   "outputs": [],
   "source": [
    "info_ibge = [\n",
    "'empsetorcensitariofaixarendapopulacao',\n",
    "'nm_micro_regiao'    \n",
    "]"
   ]
  },
  {
   "cell_type": "code",
   "execution_count": 54,
   "metadata": {},
   "outputs": [],
   "source": [
    "info_socios = [\n",
    "'idade_maxima_socios',\n",
    "'idade_media_socios',\n",
    "'idade_minima_socios',\n",
    "'qt_alteracao_socio_180d',\n",
    "'qt_alteracao_socio_365d',\n",
    "'qt_alteracao_socio_90d',\n",
    "'qt_alteracao_socio_total',\n",
    "'qt_socios',\n",
    "'qt_socios_feminino',\n",
    "'qt_socios_masculino',\n",
    "'qt_socios_pep',\n",
    "'qt_socios_pf',\n",
    "'qt_socios_pj',\n",
    "'qt_socios_pj_ativos',\n",
    "'qt_socios_pj_baixados',\n",
    "'qt_socios_pj_inaptos',\n",
    "'qt_socios_pj_nulos',\n",
    "'qt_socios_pj_suspensos',\n",
    "'qt_socios_st_regular',\n",
    "'qt_socios_st_suspensa',\n",
    "'vl_idade_maxima_socios_pj',\n",
    "'vl_idade_media_socios_pj',\n",
    "'vl_idade_minima_socios_pj',    \n",
    "]"
   ]
  },
  {
   "cell_type": "code",
   "execution_count": 55,
   "metadata": {},
   "outputs": [],
   "source": [
    "info_transporte = [\n",
    "'fl_antt',\n",
    "'fl_optante_simples',\n",
    "'fl_spa',\n",
    "'fl_veiculo',\n",
    "'qt_art',\n",
    "'vl_frota',\n",
    "'vl_potenc_cons_oleo_gas',\n",
    "'vl_total_tancagem',\n",
    "'vl_total_tancagem_grupo',\n",
    "'vl_total_veiculos_antt',\n",
    "'vl_total_veiculos_antt_grupo',\n",
    "'vl_total_veiculos_leves',\n",
    "'vl_total_veiculos_leves_grupo',\n",
    "'vl_total_veiculos_pesados',\n",
    "'vl_total_veiculos_pesados_grupo'    \n",
    "]"
   ]
  },
  {
   "cell_type": "code",
   "execution_count": 56,
   "metadata": {},
   "outputs": [],
   "source": [
    "info_tributaria = [\n",
    "'de_saude_rescencia',\n",
    "'de_saude_tributaria',\n",
    "'fl_optante_simei',\n",
    "'fl_passivel_iss',\n",
    "'fl_simples_irregular',\n",
    "'nu_meses_rescencia'\n",
    "]"
   ]
  },
  {
   "cell_type": "code",
   "execution_count": 47,
   "metadata": {},
   "outputs": [
    {
     "name": "stdout",
     "output_type": "stream",
     "text": "--Criando dataframe com as colunas--\n--Aplicando OneHotEnconding--\n--Aplicando MinMaxScaler--\n--split features target--\n--Aplicando Árvore--\n--Selecionando Modelo--\n"
    }
   ],
   "source": [
    "df_empresa = preprocessing(df_market,info_empresa,'none')"
   ]
  },
  {
   "cell_type": "code",
   "execution_count": 66,
   "metadata": {},
   "outputs": [
    {
     "name": "stdout",
     "output_type": "stream",
     "text": "--Criando dataframe com as colunas--\n"
    },
    {
     "ename": "ValueError",
     "evalue": "Shape of passed values is (462298, 36), indices imply (462298, 37)",
     "output_type": "error",
     "traceback": [
      "\u001b[0;31m---------------------------------------------------------------------------\u001b[0m",
      "\u001b[0;31mValueError\u001b[0m                                Traceback (most recent call last)",
      "\u001b[0;32m~/Documents/Tiago/datascience/codenation/projeto_final/leadsmatch/leadsmatch/lib/python3.7/site-packages/pandas/core/internals/managers.py\u001b[0m in \u001b[0;36mcreate_block_manager_from_blocks\u001b[0;34m(blocks, axes)\u001b[0m\n\u001b[1;32m   1653\u001b[0m                 blocks = [\n\u001b[0;32m-> 1654\u001b[0;31m                     \u001b[0mmake_block\u001b[0m\u001b[0;34m(\u001b[0m\u001b[0mvalues\u001b[0m\u001b[0;34m=\u001b[0m\u001b[0mblocks\u001b[0m\u001b[0;34m[\u001b[0m\u001b[0;36m0\u001b[0m\u001b[0;34m]\u001b[0m\u001b[0;34m,\u001b[0m \u001b[0mplacement\u001b[0m\u001b[0;34m=\u001b[0m\u001b[0mslice\u001b[0m\u001b[0;34m(\u001b[0m\u001b[0;36m0\u001b[0m\u001b[0;34m,\u001b[0m \u001b[0mlen\u001b[0m\u001b[0;34m(\u001b[0m\u001b[0maxes\u001b[0m\u001b[0;34m[\u001b[0m\u001b[0;36m0\u001b[0m\u001b[0;34m]\u001b[0m\u001b[0;34m)\u001b[0m\u001b[0;34m)\u001b[0m\u001b[0;34m)\u001b[0m\u001b[0;34m\u001b[0m\u001b[0;34m\u001b[0m\u001b[0m\n\u001b[0m\u001b[1;32m   1655\u001b[0m                 ]\n",
      "\u001b[0;32m~/Documents/Tiago/datascience/codenation/projeto_final/leadsmatch/leadsmatch/lib/python3.7/site-packages/pandas/core/internals/blocks.py\u001b[0m in \u001b[0;36mmake_block\u001b[0;34m(values, placement, klass, ndim, dtype)\u001b[0m\n\u001b[1;32m   3048\u001b[0m \u001b[0;34m\u001b[0m\u001b[0m\n\u001b[0;32m-> 3049\u001b[0;31m     \u001b[0;32mreturn\u001b[0m \u001b[0mklass\u001b[0m\u001b[0;34m(\u001b[0m\u001b[0mvalues\u001b[0m\u001b[0;34m,\u001b[0m \u001b[0mndim\u001b[0m\u001b[0;34m=\u001b[0m\u001b[0mndim\u001b[0m\u001b[0;34m,\u001b[0m \u001b[0mplacement\u001b[0m\u001b[0;34m=\u001b[0m\u001b[0mplacement\u001b[0m\u001b[0;34m)\u001b[0m\u001b[0;34m\u001b[0m\u001b[0;34m\u001b[0m\u001b[0m\n\u001b[0m\u001b[1;32m   3050\u001b[0m \u001b[0;34m\u001b[0m\u001b[0m\n",
      "\u001b[0;32m~/Documents/Tiago/datascience/codenation/projeto_final/leadsmatch/leadsmatch/lib/python3.7/site-packages/pandas/core/internals/blocks.py\u001b[0m in \u001b[0;36m__init__\u001b[0;34m(self, values, placement, ndim)\u001b[0m\n\u001b[1;32m    124\u001b[0m             raise ValueError(\n\u001b[0;32m--> 125\u001b[0;31m                 \u001b[0;34mf\"Wrong number of items passed {len(self.values)}, \"\u001b[0m\u001b[0;34m\u001b[0m\u001b[0;34m\u001b[0m\u001b[0m\n\u001b[0m\u001b[1;32m    126\u001b[0m                 \u001b[0;34mf\"placement implies {len(self.mgr_locs)}\"\u001b[0m\u001b[0;34m\u001b[0m\u001b[0;34m\u001b[0m\u001b[0m\n",
      "\u001b[0;31mValueError\u001b[0m: Wrong number of items passed 36, placement implies 37",
      "\nDuring handling of the above exception, another exception occurred:\n",
      "\u001b[0;31mValueError\u001b[0m                                Traceback (most recent call last)",
      "\u001b[0;32m<ipython-input-66-fa5eec4a4b5c>\u001b[0m in \u001b[0;36m<module>\u001b[0;34m\u001b[0m\n\u001b[0;32m----> 1\u001b[0;31m \u001b[0mdf_funcionarios\u001b[0m \u001b[0;34m=\u001b[0m \u001b[0mpreprocessing\u001b[0m\u001b[0;34m(\u001b[0m\u001b[0mdf_market\u001b[0m\u001b[0;34m,\u001b[0m\u001b[0minfo_funcionarios\u001b[0m\u001b[0;34m,\u001b[0m\u001b[0;34m'median'\u001b[0m\u001b[0;34m)\u001b[0m\u001b[0;34m\u001b[0m\u001b[0;34m\u001b[0m\u001b[0m\n\u001b[0m",
      "\u001b[0;32m<ipython-input-65-ef4487d7db08>\u001b[0m in \u001b[0;36mpreprocessing\u001b[0;34m(df, col_group, nan_resolve)\u001b[0m\n\u001b[1;32m     24\u001b[0m         \u001b[0mimputer\u001b[0m \u001b[0;34m=\u001b[0m \u001b[0mSimpleImputer\u001b[0m\u001b[0;34m(\u001b[0m\u001b[0mmissing_values\u001b[0m\u001b[0;34m=\u001b[0m\u001b[0mnp\u001b[0m\u001b[0;34m.\u001b[0m\u001b[0mnan\u001b[0m\u001b[0;34m,\u001b[0m\u001b[0mstrategy\u001b[0m\u001b[0;34m=\u001b[0m\u001b[0;34m'median'\u001b[0m\u001b[0;34m)\u001b[0m\u001b[0;34m\u001b[0m\u001b[0;34m\u001b[0m\u001b[0m\n\u001b[1;32m     25\u001b[0m         \u001b[0mimputed\u001b[0m \u001b[0;34m=\u001b[0m \u001b[0mimputer\u001b[0m\u001b[0;34m.\u001b[0m\u001b[0mfit_transform\u001b[0m\u001b[0;34m(\u001b[0m\u001b[0mdf_empresa\u001b[0m\u001b[0;34m)\u001b[0m\u001b[0;34m\u001b[0m\u001b[0;34m\u001b[0m\u001b[0m\n\u001b[0;32m---> 26\u001b[0;31m         \u001b[0mdf_empresa\u001b[0m \u001b[0;34m=\u001b[0m \u001b[0mpd\u001b[0m\u001b[0;34m.\u001b[0m\u001b[0mDataFrame\u001b[0m\u001b[0;34m(\u001b[0m\u001b[0mdata\u001b[0m\u001b[0;34m=\u001b[0m\u001b[0mimputed\u001b[0m\u001b[0;34m,\u001b[0m\u001b[0mcolumns\u001b[0m\u001b[0;34m=\u001b[0m\u001b[0mdf_empresa\u001b[0m\u001b[0;34m.\u001b[0m\u001b[0mcolumns\u001b[0m\u001b[0;34m)\u001b[0m\u001b[0;34m\u001b[0m\u001b[0;34m\u001b[0m\u001b[0m\n\u001b[0m\u001b[1;32m     27\u001b[0m     \u001b[0;32melse\u001b[0m\u001b[0;34m:\u001b[0m\u001b[0;34m\u001b[0m\u001b[0;34m\u001b[0m\u001b[0m\n\u001b[1;32m     28\u001b[0m         \u001b[0;32mpass\u001b[0m\u001b[0;34m\u001b[0m\u001b[0;34m\u001b[0m\u001b[0m\n",
      "\u001b[0;32m~/Documents/Tiago/datascience/codenation/projeto_final/leadsmatch/leadsmatch/lib/python3.7/site-packages/pandas/core/frame.py\u001b[0m in \u001b[0;36m__init__\u001b[0;34m(self, data, index, columns, dtype, copy)\u001b[0m\n\u001b[1;32m    462\u001b[0m                 \u001b[0mmgr\u001b[0m \u001b[0;34m=\u001b[0m \u001b[0minit_dict\u001b[0m\u001b[0;34m(\u001b[0m\u001b[0;34m{\u001b[0m\u001b[0mdata\u001b[0m\u001b[0;34m.\u001b[0m\u001b[0mname\u001b[0m\u001b[0;34m:\u001b[0m \u001b[0mdata\u001b[0m\u001b[0;34m}\u001b[0m\u001b[0;34m,\u001b[0m \u001b[0mindex\u001b[0m\u001b[0;34m,\u001b[0m \u001b[0mcolumns\u001b[0m\u001b[0;34m,\u001b[0m \u001b[0mdtype\u001b[0m\u001b[0;34m=\u001b[0m\u001b[0mdtype\u001b[0m\u001b[0;34m)\u001b[0m\u001b[0;34m\u001b[0m\u001b[0;34m\u001b[0m\u001b[0m\n\u001b[1;32m    463\u001b[0m             \u001b[0;32melse\u001b[0m\u001b[0;34m:\u001b[0m\u001b[0;34m\u001b[0m\u001b[0;34m\u001b[0m\u001b[0m\n\u001b[0;32m--> 464\u001b[0;31m                 \u001b[0mmgr\u001b[0m \u001b[0;34m=\u001b[0m \u001b[0minit_ndarray\u001b[0m\u001b[0;34m(\u001b[0m\u001b[0mdata\u001b[0m\u001b[0;34m,\u001b[0m \u001b[0mindex\u001b[0m\u001b[0;34m,\u001b[0m \u001b[0mcolumns\u001b[0m\u001b[0;34m,\u001b[0m \u001b[0mdtype\u001b[0m\u001b[0;34m=\u001b[0m\u001b[0mdtype\u001b[0m\u001b[0;34m,\u001b[0m \u001b[0mcopy\u001b[0m\u001b[0;34m=\u001b[0m\u001b[0mcopy\u001b[0m\u001b[0;34m)\u001b[0m\u001b[0;34m\u001b[0m\u001b[0;34m\u001b[0m\u001b[0m\n\u001b[0m\u001b[1;32m    465\u001b[0m \u001b[0;34m\u001b[0m\u001b[0m\n\u001b[1;32m    466\u001b[0m         \u001b[0;31m# For data is list-like, or Iterable (will consume into list)\u001b[0m\u001b[0;34m\u001b[0m\u001b[0;34m\u001b[0m\u001b[0;34m\u001b[0m\u001b[0m\n",
      "\u001b[0;32m~/Documents/Tiago/datascience/codenation/projeto_final/leadsmatch/leadsmatch/lib/python3.7/site-packages/pandas/core/internals/construction.py\u001b[0m in \u001b[0;36minit_ndarray\u001b[0;34m(values, index, columns, dtype, copy)\u001b[0m\n\u001b[1;32m    208\u001b[0m         \u001b[0mblock_values\u001b[0m \u001b[0;34m=\u001b[0m \u001b[0;34m[\u001b[0m\u001b[0mvalues\u001b[0m\u001b[0;34m]\u001b[0m\u001b[0;34m\u001b[0m\u001b[0;34m\u001b[0m\u001b[0m\n\u001b[1;32m    209\u001b[0m \u001b[0;34m\u001b[0m\u001b[0m\n\u001b[0;32m--> 210\u001b[0;31m     \u001b[0;32mreturn\u001b[0m \u001b[0mcreate_block_manager_from_blocks\u001b[0m\u001b[0;34m(\u001b[0m\u001b[0mblock_values\u001b[0m\u001b[0;34m,\u001b[0m \u001b[0;34m[\u001b[0m\u001b[0mcolumns\u001b[0m\u001b[0;34m,\u001b[0m \u001b[0mindex\u001b[0m\u001b[0;34m]\u001b[0m\u001b[0;34m)\u001b[0m\u001b[0;34m\u001b[0m\u001b[0;34m\u001b[0m\u001b[0m\n\u001b[0m\u001b[1;32m    211\u001b[0m \u001b[0;34m\u001b[0m\u001b[0m\n\u001b[1;32m    212\u001b[0m \u001b[0;34m\u001b[0m\u001b[0m\n",
      "\u001b[0;32m~/Documents/Tiago/datascience/codenation/projeto_final/leadsmatch/leadsmatch/lib/python3.7/site-packages/pandas/core/internals/managers.py\u001b[0m in \u001b[0;36mcreate_block_manager_from_blocks\u001b[0;34m(blocks, axes)\u001b[0m\n\u001b[1;32m   1662\u001b[0m         \u001b[0mblocks\u001b[0m \u001b[0;34m=\u001b[0m \u001b[0;34m[\u001b[0m\u001b[0mgetattr\u001b[0m\u001b[0;34m(\u001b[0m\u001b[0mb\u001b[0m\u001b[0;34m,\u001b[0m \u001b[0;34m\"values\"\u001b[0m\u001b[0;34m,\u001b[0m \u001b[0mb\u001b[0m\u001b[0;34m)\u001b[0m \u001b[0;32mfor\u001b[0m \u001b[0mb\u001b[0m \u001b[0;32min\u001b[0m \u001b[0mblocks\u001b[0m\u001b[0;34m]\u001b[0m\u001b[0;34m\u001b[0m\u001b[0;34m\u001b[0m\u001b[0m\n\u001b[1;32m   1663\u001b[0m         \u001b[0mtot_items\u001b[0m \u001b[0;34m=\u001b[0m \u001b[0msum\u001b[0m\u001b[0;34m(\u001b[0m\u001b[0mb\u001b[0m\u001b[0;34m.\u001b[0m\u001b[0mshape\u001b[0m\u001b[0;34m[\u001b[0m\u001b[0;36m0\u001b[0m\u001b[0;34m]\u001b[0m \u001b[0;32mfor\u001b[0m \u001b[0mb\u001b[0m \u001b[0;32min\u001b[0m \u001b[0mblocks\u001b[0m\u001b[0;34m)\u001b[0m\u001b[0;34m\u001b[0m\u001b[0;34m\u001b[0m\u001b[0m\n\u001b[0;32m-> 1664\u001b[0;31m         \u001b[0mconstruction_error\u001b[0m\u001b[0;34m(\u001b[0m\u001b[0mtot_items\u001b[0m\u001b[0;34m,\u001b[0m \u001b[0mblocks\u001b[0m\u001b[0;34m[\u001b[0m\u001b[0;36m0\u001b[0m\u001b[0;34m]\u001b[0m\u001b[0;34m.\u001b[0m\u001b[0mshape\u001b[0m\u001b[0;34m[\u001b[0m\u001b[0;36m1\u001b[0m\u001b[0;34m:\u001b[0m\u001b[0;34m]\u001b[0m\u001b[0;34m,\u001b[0m \u001b[0maxes\u001b[0m\u001b[0;34m,\u001b[0m \u001b[0me\u001b[0m\u001b[0;34m)\u001b[0m\u001b[0;34m\u001b[0m\u001b[0;34m\u001b[0m\u001b[0m\n\u001b[0m\u001b[1;32m   1665\u001b[0m \u001b[0;34m\u001b[0m\u001b[0m\n\u001b[1;32m   1666\u001b[0m \u001b[0;34m\u001b[0m\u001b[0m\n",
      "\u001b[0;32m~/Documents/Tiago/datascience/codenation/projeto_final/leadsmatch/leadsmatch/lib/python3.7/site-packages/pandas/core/internals/managers.py\u001b[0m in \u001b[0;36mconstruction_error\u001b[0;34m(tot_items, block_shape, axes, e)\u001b[0m\n\u001b[1;32m   1692\u001b[0m     \u001b[0;32mif\u001b[0m \u001b[0mblock_shape\u001b[0m\u001b[0;34m[\u001b[0m\u001b[0;36m0\u001b[0m\u001b[0;34m]\u001b[0m \u001b[0;34m==\u001b[0m \u001b[0;36m0\u001b[0m\u001b[0;34m:\u001b[0m\u001b[0;34m\u001b[0m\u001b[0;34m\u001b[0m\u001b[0m\n\u001b[1;32m   1693\u001b[0m         \u001b[0;32mraise\u001b[0m \u001b[0mValueError\u001b[0m\u001b[0;34m(\u001b[0m\u001b[0;34m\"Empty data passed with indices specified.\"\u001b[0m\u001b[0;34m)\u001b[0m\u001b[0;34m\u001b[0m\u001b[0;34m\u001b[0m\u001b[0m\n\u001b[0;32m-> 1694\u001b[0;31m     \u001b[0;32mraise\u001b[0m \u001b[0mValueError\u001b[0m\u001b[0;34m(\u001b[0m\u001b[0;34mf\"Shape of passed values is {passed}, indices imply {implied}\"\u001b[0m\u001b[0;34m)\u001b[0m\u001b[0;34m\u001b[0m\u001b[0;34m\u001b[0m\u001b[0m\n\u001b[0m\u001b[1;32m   1695\u001b[0m \u001b[0;34m\u001b[0m\u001b[0m\n\u001b[1;32m   1696\u001b[0m \u001b[0;34m\u001b[0m\u001b[0m\n",
      "\u001b[0;31mValueError\u001b[0m: Shape of passed values is (462298, 36), indices imply (462298, 37)"
     ]
    }
   ],
   "source": [
    "df_funcionarios = preprocessing(df_market,info_funcionarios,'median')"
   ]
  },
  {
   "cell_type": "markdown",
   "metadata": {},
   "source": [
    "### Teste do KNN somente com as variáveis selecionadas para a empresa"
   ]
  },
  {
   "cell_type": "code",
   "execution_count": 219,
   "metadata": {},
   "outputs": [],
   "source": [
    "df_features_enconding_std['id'] = df_market.index\n",
    "df_portfolio1 = pd.read_csv('../data/estaticos_portfolio2.csv')\n",
    "df_portfolio1 = df_features_enconding_std[df_features_enconding_std['id'].isin(df_portfolio['id'])]"
   ]
  },
  {
   "cell_type": "code",
   "execution_count": 50,
   "metadata": {},
   "outputs": [
    {
     "ename": "NameError",
     "evalue": "name 'df_features_enconding_std' is not defined",
     "output_type": "error",
     "traceback": [
      "\u001b[0;31m---------------------------------------------------------------------------\u001b[0m",
      "\u001b[0;31mNameError\u001b[0m                                 Traceback (most recent call last)",
      "\u001b[0;32m<ipython-input-50-b680c2c28c8d>\u001b[0m in \u001b[0;36m<module>\u001b[0;34m\u001b[0m\n\u001b[1;32m      1\u001b[0m \u001b[0;31m#treino do modelo\u001b[0m\u001b[0;34m\u001b[0m\u001b[0;34m\u001b[0m\u001b[0;34m\u001b[0m\u001b[0m\n\u001b[1;32m      2\u001b[0m \u001b[0mmodel_knn\u001b[0m \u001b[0;34m=\u001b[0m \u001b[0mNearestNeighbors\u001b[0m\u001b[0;34m(\u001b[0m\u001b[0mmetric\u001b[0m\u001b[0;34m=\u001b[0m\u001b[0;34m'cosine'\u001b[0m\u001b[0;34m,\u001b[0m\u001b[0malgorithm\u001b[0m\u001b[0;34m=\u001b[0m\u001b[0;34m'brute'\u001b[0m\u001b[0;34m,\u001b[0m\u001b[0mn_neighbors\u001b[0m\u001b[0;34m=\u001b[0m\u001b[0;36m7\u001b[0m\u001b[0;34m,\u001b[0m\u001b[0mn_jobs\u001b[0m\u001b[0;34m=\u001b[0m\u001b[0;34m-\u001b[0m\u001b[0;36m1\u001b[0m\u001b[0;34m)\u001b[0m\u001b[0;34m\u001b[0m\u001b[0;34m\u001b[0m\u001b[0m\n\u001b[0;32m----> 3\u001b[0;31m \u001b[0mmodel_knn\u001b[0m \u001b[0;34m=\u001b[0m \u001b[0mmodel_knn\u001b[0m\u001b[0;34m.\u001b[0m\u001b[0mfit\u001b[0m\u001b[0;34m(\u001b[0m\u001b[0mdf_features_enconding_std\u001b[0m\u001b[0;34m)\u001b[0m\u001b[0;34m\u001b[0m\u001b[0;34m\u001b[0m\u001b[0m\n\u001b[0m",
      "\u001b[0;31mNameError\u001b[0m: name 'df_features_enconding_std' is not defined"
     ]
    }
   ],
   "source": [
    "#treino do modelo\n",
    "model_knn = NearestNeighbors(metric='cosine',algorithm='brute',n_neighbors=7,n_jobs=-1)\n",
    "model_knn = model_knn.fit(df_features_enconding_std)"
   ]
  },
  {
   "cell_type": "code",
   "execution_count": 220,
   "metadata": {},
   "outputs": [],
   "source": [
    "train,test = train_test_split(df_portfolio1,test_size=0.3,shuffle=True)"
   ]
  },
  {
   "cell_type": "code",
   "execution_count": 221,
   "metadata": {},
   "outputs": [],
   "source": [
    "idx_rec = recommender(train.drop('id',axis=1),df_features_enconding_std,model_knn)"
   ]
  },
  {
   "cell_type": "code",
   "execution_count": 226,
   "metadata": {},
   "outputs": [
    {
     "data": {
      "text/plain": "0.0"
     },
     "execution_count": 226,
     "metadata": {},
     "output_type": "execute_result"
    }
   ],
   "source": [
    "calculate_accuracy(idx_rec,test['id'])"
   ]
  },
  {
   "cell_type": "code",
   "execution_count": null,
   "metadata": {},
   "outputs": [],
   "source": []
  }
 ]
}